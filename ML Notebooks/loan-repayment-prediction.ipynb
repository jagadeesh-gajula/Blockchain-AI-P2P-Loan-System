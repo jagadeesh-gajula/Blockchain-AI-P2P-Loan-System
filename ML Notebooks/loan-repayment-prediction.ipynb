{
 "cells": [
  {
   "cell_type": "markdown",
   "metadata": {
    "papermill": {
     "duration": 0.169416,
     "end_time": "2020-12-12T08:40:17.842728",
     "exception": false,
     "start_time": "2020-12-12T08:40:17.673312",
     "status": "completed"
    },
    "tags": []
   },
   "source": [
    "<hr/>\n",
    "\n",
    "# Loan Repayment Prediction\n",
    "[***By Jagadeesh Gajula***](https://www.kaggle.com/ztrimus) <br>\n",
    "**March 2 2021**\n",
    "<hr/>\n",
    "\n",
    "Given historical data on loans given out with information on whether or not the borrower defaulted (charge-off), can we build a model that can predict wether or nor a borrower will pay back their loan? This way in the future when **we get a new potential customer we can assess whether or not they are likely to pay back the loan.**\n",
    "\n",
    "## Table of Contents\n",
    "\n",
    "* [1. Setup and Import](#1)\n",
    "* [2. Limit the Feature Space](#2)\n",
    " * [2.1 Drop features missing more than 30% data](#2.1)\n",
    " * [2.2 Only keep loan features known to potential investors](#2.2)\n",
    "* [3. Data Analysis and Pre-processing](#3)\n",
    " * [3.1 Overlook on Data](#3.1)\n",
    " * [3.2  Pre-processing on each Variable](#3.2)\n",
    "* [4. More Pre-processing](#4)\n",
    " * [4.1 Convert loan status to 0/1 charge-off indicator](#4.1)\n",
    " * [4.2 Create dummy variables](#4.2)\n",
    " * [4.3 Train/test split](#4.3)\n",
    "* [5. Linear Dependence of Charge-off on the Predictors](#5)\n",
    " * [5.1 Pearson correlation](#5.1)\n",
    "* [6. Model Training and Testing](#6)\n",
    " * [6.1 Neural Network](#6.1)\n",
    " * [6.2 Logistic regression with SGD training](#6.2)\n",
    " * [6.3 Random forest classifier](#6.3)\n",
    " * [6.4 Tune hyperparameters on the chosen model more finely](#6.4)\n",
    " * [6.5 Test set evaluation](#6.5)\n",
    "* [7. Conclusion](#7)"
   ]
  },
  {
   "cell_type": "markdown",
   "metadata": {
    "papermill": {
     "duration": 0.167909,
     "end_time": "2020-12-12T08:40:18.528742",
     "exception": false,
     "start_time": "2020-12-12T08:40:18.360833",
     "status": "completed"
    },
    "tags": []
   },
   "source": [
    "<a id=\"1\"></a>\n",
    "# 1. Setup and Import\n",
    "<hr>"
   ]
  },
  {
   "cell_type": "code",
   "execution_count": null,
   "metadata": {
    "_cell_guid": "79c7e3d0-c299-4dcb-8224-4455121ee9b0",
    "_uuid": "d629ff2d2480ee46fbb7e2d37f6b5fab8052498a",
    "execution": {
     "iopub.execute_input": "2020-12-12T08:40:19.595057Z",
     "iopub.status.busy": "2020-12-12T08:40:19.594363Z",
     "iopub.status.idle": "2020-12-12T08:40:26.210004Z",
     "shell.execute_reply": "2020-12-12T08:40:26.209174Z"
    },
    "papermill": {
     "duration": 6.791119,
     "end_time": "2020-12-12T08:40:26.210158",
     "exception": false,
     "start_time": "2020-12-12T08:40:19.419039",
     "status": "completed"
    },
    "tags": []
   },
   "outputs": [],
   "source": [
    "# data analysis and wrangling\n",
    "import pandas as pd\n",
    "import numpy as np\n",
    "import random as rnd\n",
    "import scipy as sp\n",
    "\n",
    "# visualization\n",
    "import seaborn as sns\n",
    "import matplotlib.pyplot as plt\n",
    "import matplotlib as mpl\n",
    "%matplotlib inline\n",
    "mpl.style.use('ggplot')\n",
    "sns.set(style='whitegrid')\n",
    "\n",
    "# scaling and train test split\n",
    "from sklearn.model_selection import train_test_split\n",
    "from sklearn.preprocessing import MinMaxScaler\n",
    "\n",
    "# pandas options\n",
    "pd.set_option('display.max_colwidth', 1000, 'display.max_rows', None, 'display.max_columns', None)\n",
    "pd.set_option(\"display.precision\", 4) # Show numbers only with 2 decimal places\n",
    "\n",
    "# machine learning algorithm\n",
    "from sklearn.pipeline import Pipeline\n",
    "from sklearn.preprocessing import StandardScaler\n",
    "from sklearn.impute import SimpleImputer\n",
    "from sklearn.discriminant_analysis import LinearDiscriminantAnalysis\n",
    "from sklearn.model_selection import GridSearchCV\n",
    "from sklearn.linear_model import SGDClassifier\n",
    "from sklearn.ensemble import RandomForestClassifier\n",
    "from sklearn.neighbors import KNeighborsClassifier\n",
    "from sklearn.metrics import roc_auc_score\n",
    "\n",
    "# creating a model\n",
    "import tensorflow as tf\n",
    "from tensorflow.keras.models import Sequential\n",
    "from tensorflow.keras.layers import Dense, Dropout, Activation\n",
    "from tensorflow.keras.constraints import max_norm\n",
    "from tensorflow.keras.optimizers import Adam\n",
    "from tensorflow.keras.callbacks import EarlyStopping\n",
    "from tensorflow.keras.models import load_model\n",
    "\n",
    "# evaluation on test data\n",
    "from sklearn.metrics import classification_report,confusion_matrix\n"
   ]
  },
  {
   "cell_type": "code",
   "execution_count": null,
   "metadata": {
    "execution": {
     "iopub.execute_input": "2020-12-12T08:40:26.591596Z",
     "iopub.status.busy": "2020-12-12T08:40:26.590987Z",
     "iopub.status.idle": "2020-12-12T08:42:24.594331Z",
     "shell.execute_reply": "2020-12-12T08:42:24.594856Z"
    },
    "papermill": {
     "duration": 118.216211,
     "end_time": "2020-12-12T08:42:24.595019",
     "exception": false,
     "start_time": "2020-12-12T08:40:26.378808",
     "status": "completed"
    },
    "tags": []
   },
   "outputs": [],
   "source": [
    "%%time\n",
    "# Create dataframe from dataset file\n",
    "loans = pd.read_csv('accepted_2007_to_2018Q4.csv',low_memory=False)\n",
    "loans.head()"
   ]
  },
  {
   "cell_type": "markdown",
   "metadata": {
    "papermill": {
     "duration": 0.170095,
     "end_time": "2020-12-12T08:42:24.936358",
     "exception": false,
     "start_time": "2020-12-12T08:42:24.766263",
     "status": "completed"
    },
    "tags": []
   },
   "source": [
    "<a id=\"2\"></a>\n",
    "# 2. Limit the Feature Space\n",
    "\n",
    "The full dataset has 150 features for each loan. We'll select features in two steps:\n",
    "\n",
    "1. Drop features with more than 30% of their data missing.\n",
    "2. Of the remaining features, choose only those that would be available to an investor before deciding to fund the loan."
   ]
  },
  {
   "cell_type": "markdown",
   "metadata": {
    "papermill": {
     "duration": 0.173146,
     "end_time": "2020-12-12T08:42:25.278668",
     "exception": false,
     "start_time": "2020-12-12T08:42:25.105522",
     "status": "completed"
    },
    "tags": []
   },
   "source": [
    "<a id=\"2.1\"></a>\n",
    "## 2.1 Drop features missing more than 30% data"
   ]
  },
  {
   "cell_type": "code",
   "execution_count": null,
   "metadata": {
    "execution": {
     "iopub.execute_input": "2020-12-12T08:42:25.776611Z",
     "iopub.status.busy": "2020-12-12T08:42:25.775764Z",
     "iopub.status.idle": "2020-12-12T08:42:30.815283Z",
     "shell.execute_reply": "2020-12-12T08:42:30.815952Z"
    },
    "papermill": {
     "duration": 5.308389,
     "end_time": "2020-12-12T08:42:30.816137",
     "exception": false,
     "start_time": "2020-12-12T08:42:25.507748",
     "status": "completed"
    },
    "scrolled": false,
    "tags": []
   },
   "outputs": [],
   "source": [
    "missing_fractions = loans.isnull().mean().sort_values(ascending=False)\n",
    "missing_fractions"
   ]
  },
  {
   "cell_type": "code",
   "execution_count": null,
   "metadata": {
    "execution": {
     "iopub.execute_input": "2020-12-12T08:42:31.341132Z",
     "iopub.status.busy": "2020-12-12T08:42:31.339906Z",
     "iopub.status.idle": "2020-12-12T08:42:31.725486Z",
     "shell.execute_reply": "2020-12-12T08:42:31.724662Z"
    },
    "papermill": {
     "duration": 0.650458,
     "end_time": "2020-12-12T08:42:31.725619",
     "exception": false,
     "start_time": "2020-12-12T08:42:31.075161",
     "status": "completed"
    },
    "tags": []
   },
   "outputs": [],
   "source": [
    "plt.figure(figsize=(6,3), dpi=90)\n",
    "missing_fractions.plot.hist()\n",
    "plt.title('Histogram of Feature Incompleteness')\n",
    "plt.xlabel('Fraction of data missing')\n",
    "plt.ylabel('Feature count')"
   ]
  },
  {
   "cell_type": "markdown",
   "metadata": {
    "papermill": {
     "duration": 0.265359,
     "end_time": "2020-12-12T08:42:32.252461",
     "exception": false,
     "start_time": "2020-12-12T08:42:31.987102",
     "status": "completed"
    },
    "tags": []
   },
   "source": [
    "From the above histogram, we see there's a large gap between features missing \"some\" data (&lt;20%) and those missing \"lots\" of data (&gt;40%). Because it's generally very difficult to accurately impute data with more than 30% missing values, we drop such columns. First store all variables missing more than 30% data in an alphabetical list:"
   ]
  },
  {
   "cell_type": "code",
   "execution_count": null,
   "metadata": {
    "execution": {
     "iopub.execute_input": "2020-12-12T08:42:32.783930Z",
     "iopub.status.busy": "2020-12-12T08:42:32.782929Z",
     "iopub.status.idle": "2020-12-12T08:42:32.805651Z",
     "shell.execute_reply": "2020-12-12T08:42:32.806372Z"
    },
    "papermill": {
     "duration": 0.289957,
     "end_time": "2020-12-12T08:42:32.806530",
     "exception": false,
     "start_time": "2020-12-12T08:42:32.516573",
     "status": "completed"
    },
    "tags": []
   },
   "outputs": [],
   "source": [
    "drop_list = sorted(list(missing_fractions[missing_fractions > 0.4].index))\n",
    "print(drop_list)\n",
    "print(\"\\n\\n Drop Features: \", len(drop_list))"
   ]
  },
  {
   "cell_type": "code",
   "execution_count": null,
   "metadata": {
    "execution": {
     "iopub.execute_input": "2020-12-12T08:42:33.322926Z",
     "iopub.status.busy": "2020-12-12T08:42:33.321752Z",
     "iopub.status.idle": "2020-12-12T08:42:34.336189Z",
     "shell.execute_reply": "2020-12-12T08:42:34.334927Z"
    },
    "papermill": {
     "duration": 1.267928,
     "end_time": "2020-12-12T08:42:34.336410",
     "exception": false,
     "start_time": "2020-12-12T08:42:33.068482",
     "status": "completed"
    },
    "tags": []
   },
   "outputs": [],
   "source": [
    "# Drop these features\n",
    "loans.drop(labels=drop_list, axis=1, inplace=True)"
   ]
  },
  {
   "cell_type": "code",
   "execution_count": null,
   "metadata": {
    "execution": {
     "iopub.execute_input": "2020-12-12T08:42:34.700718Z",
     "iopub.status.busy": "2020-12-12T08:42:34.700002Z",
     "iopub.status.idle": "2020-12-12T08:42:34.707349Z",
     "shell.execute_reply": "2020-12-12T08:42:34.706559Z"
    },
    "papermill": {
     "duration": 0.18328,
     "end_time": "2020-12-12T08:42:34.707481",
     "exception": false,
     "start_time": "2020-12-12T08:42:34.524201",
     "status": "completed"
    },
    "tags": []
   },
   "outputs": [],
   "source": [
    "loans.shape"
   ]
  },
  {
   "cell_type": "markdown",
   "metadata": {
    "papermill": {
     "duration": 0.265281,
     "end_time": "2020-12-12T08:42:35.237119",
     "exception": false,
     "start_time": "2020-12-12T08:42:34.971838",
     "status": "completed"
    },
    "tags": []
   },
   "source": [
    "<a id=\"2.2\"></a>\n",
    "## 2.2 Only keep loan features known to potential investors"
   ]
  },
  {
   "cell_type": "code",
   "execution_count": null,
   "metadata": {
    "execution": {
     "iopub.execute_input": "2020-12-12T08:42:35.770587Z",
     "iopub.status.busy": "2020-12-12T08:42:35.769777Z",
     "iopub.status.idle": "2020-12-12T08:42:35.775995Z",
     "shell.execute_reply": "2020-12-12T08:42:35.776546Z"
    },
    "papermill": {
     "duration": 0.270562,
     "end_time": "2020-12-12T08:42:35.776681",
     "exception": false,
     "start_time": "2020-12-12T08:42:35.506119",
     "status": "completed"
    },
    "tags": []
   },
   "outputs": [],
   "source": [
    "loans.columns.tolist()"
   ]
  },
  {
   "cell_type": "markdown",
   "metadata": {
    "papermill": {
     "duration": 0.175514,
     "end_time": "2020-12-12T08:42:36.126525",
     "exception": false,
     "start_time": "2020-12-12T08:42:35.951011",
     "status": "completed"
    },
    "tags": []
   },
   "source": [
    "For each of these features, we check the description in the Data Dictionary and only keep the features that would have been available to investors considering an investment in the loan. These include features in the loan application, and any features added by LendingClub when the loan listing was accepted, such as the loan grade and interest rate.\n",
    "\n",
    "I'm using my best available knowledge to determine which loan features are known to potential investors. I am not an investor on LendingClub, so my knowledge of the LendingClub investment process is not exact. When in doubt, I err on the side of dropping the feature."
   ]
  },
  {
   "cell_type": "code",
   "execution_count": null,
   "metadata": {
    "execution": {
     "iopub.execute_input": "2020-12-12T08:42:36.478147Z",
     "iopub.status.busy": "2020-12-12T08:42:36.477497Z",
     "iopub.status.idle": "2020-12-12T08:42:36.487997Z",
     "shell.execute_reply": "2020-12-12T08:42:36.487297Z"
    },
    "papermill": {
     "duration": 0.186742,
     "end_time": "2020-12-12T08:42:36.488099",
     "exception": false,
     "start_time": "2020-12-12T08:42:36.301357",
     "status": "completed"
    },
    "tags": []
   },
   "outputs": [],
   "source": [
    "keep_list = ['addr_state', 'annual_inc', 'application_type', 'dti', 'earliest_cr_line', 'emp_length', 'emp_title', 'fico_range_high', 'fico_range_low', 'grade', 'home_ownership', 'id', 'initial_list_status', 'installment', 'int_rate', 'issue_d', 'loan_amnt', 'loan_status', 'mort_acc', 'open_acc', 'pub_rec', 'pub_rec_bankruptcies', 'purpose', 'revol_bal', 'revol_util', 'sub_grade', 'term', 'title', 'total_acc', 'verification_status', 'zip_code']\n",
    "print(\"Keep features: \", len(keep_list))"
   ]
  },
  {
   "cell_type": "code",
   "execution_count": null,
   "metadata": {},
   "outputs": [],
   "source": [
    "keep_list"
   ]
  },
  {
   "cell_type": "code",
   "execution_count": null,
   "metadata": {},
   "outputs": [],
   "source": [
    "keep_str = \"\"\"acc_open_past_24mths\n",
    "addr_state\n",
    "annual_inc\n",
    "application_type\n",
    "avg_cur_bal\n",
    "chargeoff_within_12_mths\n",
    "dti\n",
    "earliest_cr_line\n",
    "emp_length\n",
    "emp_title\n",
    "fico_range_high\n",
    "fico_range_low\n",
    "grade\n",
    "home_ownership\n",
    "initial_list_status\n",
    "installment\n",
    "int_rate\n",
    "issue_d\n",
    "loan_amnt\n",
    "mort_acc\n",
    "open_acc\n",
    "pub_rec\n",
    "pub_rec_bankruptcies\n",
    "purpose\n",
    "revol_bal\n",
    "revol_util\n",
    "sub_grade\n",
    "term\n",
    "title\n",
    "total_acc\n",
    "zip_code\"\"\"\n",
    "\n",
    "keep_str = keep_str.split()"
   ]
  },
  {
   "cell_type": "code",
   "execution_count": null,
   "metadata": {
    "execution": {
     "iopub.execute_input": "2020-12-12T08:42:36.846156Z",
     "iopub.status.busy": "2020-12-12T08:42:36.845176Z",
     "iopub.status.idle": "2020-12-12T08:42:36.851524Z",
     "shell.execute_reply": "2020-12-12T08:42:36.850931Z"
    },
    "papermill": {
     "duration": 0.188077,
     "end_time": "2020-12-12T08:42:36.851642",
     "exception": false,
     "start_time": "2020-12-12T08:42:36.663565",
     "status": "completed"
    },
    "tags": []
   },
   "outputs": [],
   "source": [
    "drop_list = [col for col in loans.columns if col not in keep_list]\n",
    "print(drop_list)\n",
    "\n",
    "print(\"\\n\\nNumber of features needed to be dropped: \",len(drop_list))"
   ]
  },
  {
   "cell_type": "code",
   "execution_count": null,
   "metadata": {
    "execution": {
     "iopub.execute_input": "2020-12-12T08:42:37.669547Z",
     "iopub.status.busy": "2020-12-12T08:42:37.368942Z",
     "iopub.status.idle": "2020-12-12T08:42:37.969870Z",
     "shell.execute_reply": "2020-12-12T08:42:37.969274Z"
    },
    "papermill": {
     "duration": 0.944273,
     "end_time": "2020-12-12T08:42:37.969997",
     "exception": false,
     "start_time": "2020-12-12T08:42:37.025724",
     "status": "completed"
    },
    "tags": []
   },
   "outputs": [],
   "source": [
    "loans.drop(labels=drop_list, axis=1, inplace=True)\n",
    "loans.shape"
   ]
  },
  {
   "cell_type": "markdown",
   "metadata": {
    "papermill": {
     "duration": 0.177815,
     "end_time": "2020-12-12T08:42:38.321996",
     "exception": false,
     "start_time": "2020-12-12T08:42:38.144181",
     "status": "completed"
    },
    "tags": []
   },
   "source": [
    "<a id=\"3\"></a>\n",
    "# 3. Data Analysis and Pre-processing\n",
    "\n",
    "* Overlook on Data\n",
    "* Pre-processing on each Variable"
   ]
  },
  {
   "cell_type": "markdown",
   "metadata": {
    "papermill": {
     "duration": 0.176315,
     "end_time": "2020-12-12T08:42:38.675887",
     "exception": false,
     "start_time": "2020-12-12T08:42:38.499572",
     "status": "completed"
    },
    "tags": []
   },
   "source": [
    "<a id=\"3.1\"></a>\n",
    "## 3.1 Overlook on Data"
   ]
  },
  {
   "cell_type": "code",
   "execution_count": null,
   "metadata": {
    "execution": {
     "iopub.execute_input": "2020-12-12T08:42:39.045334Z",
     "iopub.status.busy": "2020-12-12T08:42:39.044711Z",
     "iopub.status.idle": "2020-12-12T08:42:39.049335Z",
     "shell.execute_reply": "2020-12-12T08:42:39.050123Z"
    },
    "papermill": {
     "duration": 0.197932,
     "end_time": "2020-12-12T08:42:39.050307",
     "exception": false,
     "start_time": "2020-12-12T08:42:38.852375",
     "status": "completed"
    },
    "tags": []
   },
   "outputs": [],
   "source": [
    "print(\"Records: \", loans.shape[0], \"\\nFeatures: \", loans.shape[1])\n",
    "print(\"\\nInformation of Dataset\\n-------\")\n",
    "loans.info()"
   ]
  },
  {
   "cell_type": "code",
   "execution_count": null,
   "metadata": {
    "execution": {
     "iopub.execute_input": "2020-12-12T08:42:39.571045Z",
     "iopub.status.busy": "2020-12-12T08:42:39.418396Z",
     "iopub.status.idle": "2020-12-12T08:42:52.354921Z",
     "shell.execute_reply": "2020-12-12T08:42:52.354245Z"
    },
    "papermill": {
     "duration": 13.121312,
     "end_time": "2020-12-12T08:42:52.355053",
     "exception": false,
     "start_time": "2020-12-12T08:42:39.233741",
     "status": "completed"
    },
    "tags": []
   },
   "outputs": [],
   "source": [
    "loans.describe(include=np.object)"
   ]
  },
  {
   "cell_type": "code",
   "execution_count": null,
   "metadata": {
    "execution": {
     "iopub.execute_input": "2020-12-12T08:42:52.991650Z",
     "iopub.status.busy": "2020-12-12T08:42:52.852876Z",
     "iopub.status.idle": "2020-12-12T08:42:53.004766Z",
     "shell.execute_reply": "2020-12-12T08:42:53.004116Z"
    },
    "papermill": {
     "duration": 0.469866,
     "end_time": "2020-12-12T08:42:53.004876",
     "exception": false,
     "start_time": "2020-12-12T08:42:52.535010",
     "status": "completed"
    },
    "tags": []
   },
   "outputs": [],
   "source": [
    "# Target Variable\n",
    "loans['loan_status'].value_counts(dropna=False)"
   ]
  },
  {
   "cell_type": "markdown",
   "metadata": {
    "papermill": {
     "duration": 0.175995,
     "end_time": "2020-12-12T08:42:53.358467",
     "exception": false,
     "start_time": "2020-12-12T08:42:53.182472",
     "status": "completed"
    },
    "tags": []
   },
   "source": [
    "We're going to try to learn differences in the features between completed loans that have been fully paid or charged off. We won't consider loans that are current, don't meet the credit policy, defaulted, or have a missing status. So we only keep the loans with status \"Fully Paid\" or \"Charged Off.\""
   ]
  },
  {
   "cell_type": "code",
   "execution_count": null,
   "metadata": {
    "execution": {
     "iopub.execute_input": "2020-12-12T08:42:53.826026Z",
     "iopub.status.busy": "2020-12-12T08:42:53.825228Z",
     "iopub.status.idle": "2020-12-12T08:42:54.618160Z",
     "shell.execute_reply": "2020-12-12T08:42:54.617498Z"
    },
    "papermill": {
     "duration": 1.079931,
     "end_time": "2020-12-12T08:42:54.618265",
     "exception": false,
     "start_time": "2020-12-12T08:42:53.538334",
     "status": "completed"
    },
    "tags": []
   },
   "outputs": [],
   "source": [
    "loans = loans.loc[loans['loan_status'].isin(['Fully Paid', 'Charged Off'])]"
   ]
  },
  {
   "cell_type": "code",
   "execution_count": null,
   "metadata": {
    "execution": {
     "iopub.execute_input": "2020-12-12T08:42:55.155124Z",
     "iopub.status.busy": "2020-12-12T08:42:55.065634Z",
     "iopub.status.idle": "2020-12-12T08:42:55.164251Z",
     "shell.execute_reply": "2020-12-12T08:42:55.163722Z"
    },
    "papermill": {
     "duration": 0.369078,
     "end_time": "2020-12-12T08:42:55.164361",
     "exception": false,
     "start_time": "2020-12-12T08:42:54.795283",
     "status": "completed"
    },
    "tags": []
   },
   "outputs": [],
   "source": [
    "# Categories in percentage\n",
    "loans['loan_status'].value_counts()"
   ]
  },
  {
   "cell_type": "markdown",
   "metadata": {
    "papermill": {
     "duration": 0.181475,
     "end_time": "2020-12-12T08:42:55.553505",
     "exception": false,
     "start_time": "2020-12-12T08:42:55.372030",
     "status": "completed"
    },
    "tags": []
   },
   "source": [
    "* This is an imbalance problem, because we have a lot more entries of people that fully paid their loans then people that did not pay back.\n",
    "* We can expect to probably do very well in terms of accuracy but our precision and recall are going to be the true metrics that we will have to evaluate our model based off of."
   ]
  },
  {
   "cell_type": "markdown",
   "metadata": {
    "papermill": {
     "duration": 0.18169,
     "end_time": "2020-12-12T08:42:55.917174",
     "exception": false,
     "start_time": "2020-12-12T08:42:55.735484",
     "status": "completed"
    },
    "tags": []
   },
   "source": [
    "* In the loan amount distribution we can see spikes in even ten thousend dollar, so this is indicating that there are certain amounts that are basically standard loans."
   ]
  },
  {
   "cell_type": "markdown",
   "metadata": {
    "papermill": {
     "duration": 0.181016,
     "end_time": "2020-12-12T08:42:56.280164",
     "exception": false,
     "start_time": "2020-12-12T08:42:56.099148",
     "status": "completed"
    },
    "tags": []
   },
   "source": [
    "<a id=\"3.2\"></a>\n",
    "## 3.2 Pre-processing on each Variable"
   ]
  },
  {
   "cell_type": "markdown",
   "metadata": {
    "papermill": {
     "duration": 0.180464,
     "end_time": "2020-12-12T08:42:56.641617",
     "exception": false,
     "start_time": "2020-12-12T08:42:56.461153",
     "status": "completed"
    },
    "tags": []
   },
   "source": [
    "We'll inspect each feature individually, and do the following:\n",
    "\n",
    "1. Drop the feature if it is not useful for predicting the loan status.\n",
    "2. View summary statistics and visualize the data, plotting against the loan status.\n",
    "3. Modify the feature to make it useful for modeling, if necessary."
   ]
  },
  {
   "cell_type": "markdown",
   "metadata": {
    "_uuid": "54c148f6fa522a37db49a9e18382b88f7cd9c6e7",
    "papermill": {
     "duration": 0.216578,
     "end_time": "2020-12-12T08:42:57.035687",
     "exception": false,
     "start_time": "2020-12-12T08:42:56.819109",
     "status": "completed"
    },
    "tags": []
   },
   "source": [
    "We define a function for plotting a variable and comparing with the loan status:"
   ]
  },
  {
   "cell_type": "code",
   "execution_count": null,
   "metadata": {
    "_uuid": "5f56a250db044d8308e38e02e0dc831aa5ffdc5e",
    "execution": {
     "iopub.execute_input": "2020-12-12T08:42:57.405761Z",
     "iopub.status.busy": "2020-12-12T08:42:57.401251Z",
     "iopub.status.idle": "2020-12-12T08:42:57.408904Z",
     "shell.execute_reply": "2020-12-12T08:42:57.409482Z"
    },
    "papermill": {
     "duration": 0.197064,
     "end_time": "2020-12-12T08:42:57.409633",
     "exception": false,
     "start_time": "2020-12-12T08:42:57.212569",
     "status": "completed"
    },
    "tags": []
   },
   "outputs": [],
   "source": [
    "def plot_var(col_name, full_name, continuous):\n",
    "    \"\"\"\n",
    "    Visualize a variable with and without faceting on the loan status.\n",
    "    - col_name is the variable name in the dataframe\n",
    "    - full_name is the full variable name\n",
    "    - continuous is True if the variable is continuous, False otherwise\n",
    "    \"\"\"\n",
    "    f, (ax1, ax2) = plt.subplots(nrows=1, ncols=2, figsize=(12,3), dpi=90)\n",
    "    \n",
    "    # Plot without loan status\n",
    "    if continuous:\n",
    "        sns.distplot(loans.loc[loans[col_name].notnull(), col_name], kde=False, ax=ax1)\n",
    "    else:\n",
    "        sns.countplot(loans[col_name], order=sorted(loans[col_name].unique()), color='#5975A4', saturation=1, ax=ax1)\n",
    "    ax1.set_xlabel(full_name)\n",
    "    ax1.set_ylabel('Count')\n",
    "    ax1.set_title(full_name)\n",
    "\n",
    "    # Plot with loan status\n",
    "    if continuous:\n",
    "        sns.boxplot(x=col_name, y='loan_status', data=loans, ax=ax2)\n",
    "        ax2.set_ylabel('')\n",
    "        ax2.set_title(full_name + ' by Loan Status')\n",
    "    else:\n",
    "        charge_off_rates = loans.groupby(col_name)['loan_status'].value_counts(normalize=True).loc[:,'Charged Off']\n",
    "        sns.barplot(x=charge_off_rates.index, y=charge_off_rates.values, color='#5975A4', saturation=1, ax=ax2)\n",
    "        ax2.set_ylabel('Fraction of Loans Charged-off')\n",
    "        ax2.set_title('Charge-off Rate by ' + full_name)\n",
    "    ax2.set_xlabel(full_name)\n",
    "    \n",
    "    plt.tight_layout()"
   ]
  },
  {
   "cell_type": "markdown",
   "metadata": {
    "_uuid": "a3010318de2825222be736f149f5ca789bf9db20",
    "papermill": {
     "duration": 0.18176,
     "end_time": "2020-12-12T08:42:57.771530",
     "exception": false,
     "start_time": "2020-12-12T08:42:57.589770",
     "status": "completed"
    },
    "tags": []
   },
   "source": [
    "Print the remaining features for future reference:"
   ]
  },
  {
   "cell_type": "code",
   "execution_count": null,
   "metadata": {
    "_uuid": "01870385fb6818023b7a32c0c17a5639adfb8cea",
    "execution": {
     "iopub.execute_input": "2020-12-12T08:42:58.133246Z",
     "iopub.status.busy": "2020-12-12T08:42:58.132630Z",
     "iopub.status.idle": "2020-12-12T08:42:58.137635Z",
     "shell.execute_reply": "2020-12-12T08:42:58.136879Z"
    },
    "papermill": {
     "duration": 0.185989,
     "end_time": "2020-12-12T08:42:58.137735",
     "exception": false,
     "start_time": "2020-12-12T08:42:57.951746",
     "status": "completed"
    },
    "tags": []
   },
   "outputs": [],
   "source": [
    "print(list(loans.columns))"
   ]
  },
  {
   "cell_type": "markdown",
   "metadata": {
    "_uuid": "5f823799e6d4f7a48d7d5ff97ad563bd60a90ffe",
    "papermill": {
     "duration": 0.179973,
     "end_time": "2020-12-12T08:42:58.495720",
     "exception": false,
     "start_time": "2020-12-12T08:42:58.315747",
     "status": "completed"
    },
    "tags": []
   },
   "source": [
    "### 3.2.1 id"
   ]
  },
  {
   "cell_type": "markdown",
   "metadata": {
    "_uuid": "404ee20c6a02130832b1a9b5b24242e3c3ddc5b0",
    "papermill": {
     "duration": 0.176547,
     "end_time": "2020-12-12T08:42:58.850625",
     "exception": false,
     "start_time": "2020-12-12T08:42:58.674078",
     "status": "completed"
    },
    "tags": []
   },
   "source": [
    "Data Dictionary: \"A unique [LendingClub] assigned ID for the loan listing.\""
   ]
  },
  {
   "cell_type": "markdown",
   "metadata": {
    "_uuid": "209fa6596872c5b10c6a370b884b24210c7d49c4",
    "papermill": {
     "duration": 0.177088,
     "end_time": "2020-12-12T08:42:59.205646",
     "exception": false,
     "start_time": "2020-12-12T08:42:59.028558",
     "status": "completed"
    },
    "tags": []
   },
   "source": [
    "Are all the IDs unique?"
   ]
  },
  {
   "cell_type": "code",
   "execution_count": null,
   "metadata": {
    "_uuid": "2d702b86a18b4f524855b757b59ce90550d26872",
    "execution": {
     "iopub.execute_input": "2020-12-12T08:43:01.135218Z",
     "iopub.status.busy": "2020-12-12T08:43:01.134309Z",
     "iopub.status.idle": "2020-12-12T08:43:02.368066Z",
     "shell.execute_reply": "2020-12-12T08:43:02.368684Z"
    },
    "papermill": {
     "duration": 2.983987,
     "end_time": "2020-12-12T08:43:02.368820",
     "exception": false,
     "start_time": "2020-12-12T08:42:59.384833",
     "status": "completed"
    },
    "tags": []
   },
   "outputs": [],
   "source": [
    "loans['id'].describe()"
   ]
  },
  {
   "cell_type": "markdown",
   "metadata": {
    "_uuid": "fc13fb6e7504643fb15a7d710ad9b5777f771abe",
    "papermill": {
     "duration": 0.1786,
     "end_time": "2020-12-12T08:43:02.727199",
     "exception": false,
     "start_time": "2020-12-12T08:43:02.548599",
     "status": "completed"
    },
    "tags": []
   },
   "source": [
    "Yes, they are all unique. The ID is not useful for modeling, either as a categorical variable (there are too many distinct values) or as a numerical variable (the IDs vary wildly in magnitude, likely without any significance), so we drop this variable."
   ]
  },
  {
   "cell_type": "code",
   "execution_count": null,
   "metadata": {
    "_uuid": "b913d12b8430a05770d4463232ff1ddf731147e6",
    "execution": {
     "iopub.execute_input": "2020-12-12T08:43:03.219897Z",
     "iopub.status.busy": "2020-12-12T08:43:03.129092Z",
     "iopub.status.idle": "2020-12-12T08:43:03.606728Z",
     "shell.execute_reply": "2020-12-12T08:43:03.607234Z"
    },
    "papermill": {
     "duration": 0.698854,
     "end_time": "2020-12-12T08:43:03.607372",
     "exception": false,
     "start_time": "2020-12-12T08:43:02.908518",
     "status": "completed"
    },
    "tags": []
   },
   "outputs": [],
   "source": [
    "loans.drop('id', axis=1, inplace=True)"
   ]
  },
  {
   "cell_type": "markdown",
   "metadata": {
    "_uuid": "95acb5d6bac7b9749570bc02ee9caba023c165e7",
    "papermill": {
     "duration": 0.177716,
     "end_time": "2020-12-12T08:43:03.964468",
     "exception": false,
     "start_time": "2020-12-12T08:43:03.786752",
     "status": "completed"
    },
    "tags": []
   },
   "source": [
    "### 3.2.2 loan_amnt"
   ]
  },
  {
   "cell_type": "markdown",
   "metadata": {
    "_uuid": "7658ff87aae05a89344526674438b49c1e9e0bec",
    "papermill": {
     "duration": 0.177981,
     "end_time": "2020-12-12T08:43:04.320489",
     "exception": false,
     "start_time": "2020-12-12T08:43:04.142508",
     "status": "completed"
    },
    "tags": []
   },
   "source": [
    "Data Dictionary: \"The listed amount of the loan applied for by the borrower. If at some point in time, the credit department reduces the loan amount, then it will be reflected in this value.\""
   ]
  },
  {
   "cell_type": "code",
   "execution_count": null,
   "metadata": {
    "_uuid": "ad27f5835e0938372708f93148096694f0ffc496",
    "execution": {
     "iopub.execute_input": "2020-12-12T08:43:04.683272Z",
     "iopub.status.busy": "2020-12-12T08:43:04.682367Z",
     "iopub.status.idle": "2020-12-12T08:43:04.755630Z",
     "shell.execute_reply": "2020-12-12T08:43:04.754897Z"
    },
    "papermill": {
     "duration": 0.255236,
     "end_time": "2020-12-12T08:43:04.755752",
     "exception": false,
     "start_time": "2020-12-12T08:43:04.500516",
     "status": "completed"
    },
    "tags": []
   },
   "outputs": [],
   "source": [
    "loans['loan_amnt'].describe()"
   ]
  },
  {
   "cell_type": "markdown",
   "metadata": {
    "_uuid": "73d40938f1a11cba241726ac471f7f02dfd99cb6",
    "papermill": {
     "duration": 0.215313,
     "end_time": "2020-12-12T08:43:05.243849",
     "exception": false,
     "start_time": "2020-12-12T08:43:05.028536",
     "status": "completed"
    },
    "tags": []
   },
   "source": [
    "Loan amounts range from \\$500 to \\$40,000, with a median of \\$12,000."
   ]
  },
  {
   "cell_type": "code",
   "execution_count": null,
   "metadata": {
    "_uuid": "b0777d32ba3de4a30bff818b7c71d3f7986599e5",
    "execution": {
     "iopub.execute_input": "2020-12-12T08:43:05.780343Z",
     "iopub.status.busy": "2020-12-12T08:43:05.779498Z",
     "iopub.status.idle": "2020-12-12T08:43:38.718329Z",
     "shell.execute_reply": "2020-12-12T08:43:38.719041Z"
    },
    "papermill": {
     "duration": 33.218718,
     "end_time": "2020-12-12T08:43:38.719198",
     "exception": false,
     "start_time": "2020-12-12T08:43:05.500480",
     "status": "completed"
    },
    "tags": []
   },
   "outputs": [],
   "source": [
    "plot_var('loan_amnt', 'Loan Amount', continuous=True)"
   ]
  },
  {
   "cell_type": "markdown",
   "metadata": {
    "_uuid": "55b12b9e2bc64f1df777732279d914c6895a0db8",
    "papermill": {
     "duration": 0.286243,
     "end_time": "2020-12-12T08:43:39.281177",
     "exception": false,
     "start_time": "2020-12-12T08:43:38.994934",
     "status": "completed"
    },
    "tags": []
   },
   "source": [
    "Charged-off loans tend to have higher loan amounts. Let's compare the summary statistics by loan status:"
   ]
  },
  {
   "cell_type": "code",
   "execution_count": null,
   "metadata": {
    "_uuid": "e02a9883f576e8f44099f52b689398faac9a5402",
    "execution": {
     "iopub.execute_input": "2020-12-12T08:43:39.893005Z",
     "iopub.status.busy": "2020-12-12T08:43:39.892370Z",
     "iopub.status.idle": "2020-12-12T08:43:40.178187Z",
     "shell.execute_reply": "2020-12-12T08:43:40.177597Z"
    },
    "papermill": {
     "duration": 0.599467,
     "end_time": "2020-12-12T08:43:40.178303",
     "exception": false,
     "start_time": "2020-12-12T08:43:39.578836",
     "status": "completed"
    },
    "tags": []
   },
   "outputs": [],
   "source": [
    "loans.groupby('loan_status')['loan_amnt'].describe()"
   ]
  },
  {
   "cell_type": "markdown",
   "metadata": {
    "_cell_guid": "8e98e8d9-9c8f-49b4-a123-4a11534454e3",
    "_uuid": "77ae6e4830589e4ee9dd0c815043300017c7fd75",
    "papermill": {
     "duration": 0.183989,
     "end_time": "2020-12-12T08:43:40.543079",
     "exception": false,
     "start_time": "2020-12-12T08:43:40.359090",
     "status": "completed"
    },
    "tags": []
   },
   "source": [
    "### 3.2.3 term"
   ]
  },
  {
   "cell_type": "markdown",
   "metadata": {
    "_uuid": "a3b89f215a2fa0e3a70d7ce553bf4ad4c5ff2281",
    "papermill": {
     "duration": 0.180783,
     "end_time": "2020-12-12T08:43:40.908423",
     "exception": false,
     "start_time": "2020-12-12T08:43:40.727640",
     "status": "completed"
    },
    "tags": []
   },
   "source": [
    "Data Dictionary: \"The number of payments on the loan. Values are in months and can be either 36 or 60.\""
   ]
  },
  {
   "cell_type": "code",
   "execution_count": null,
   "metadata": {
    "_cell_guid": "e3559ee4-0c7c-4e29-9952-ef06f302937a",
    "_uuid": "b8fa81ef40fc0928639d94608d126039f73e3f3d",
    "execution": {
     "iopub.execute_input": "2020-12-12T08:43:41.770493Z",
     "iopub.status.busy": "2020-12-12T08:43:41.769511Z",
     "iopub.status.idle": "2020-12-12T08:43:41.778356Z",
     "shell.execute_reply": "2020-12-12T08:43:41.777811Z"
    },
    "papermill": {
     "duration": 0.689116,
     "end_time": "2020-12-12T08:43:41.778468",
     "exception": false,
     "start_time": "2020-12-12T08:43:41.089352",
     "status": "completed"
    },
    "tags": []
   },
   "outputs": [],
   "source": [
    "loans['term'].value_counts(dropna=False)"
   ]
  },
  {
   "cell_type": "markdown",
   "metadata": {
    "_cell_guid": "a0a18d84-ed5f-4d4f-a377-c877a6d1be54",
    "_uuid": "7abe9deb95eb215cc2c8fa6425cc4d81bbf79bef",
    "papermill": {
     "duration": 0.186784,
     "end_time": "2020-12-12T08:43:42.152993",
     "exception": false,
     "start_time": "2020-12-12T08:43:41.966209",
     "status": "completed"
    },
    "tags": []
   },
   "source": [
    "Convert `term` to integers."
   ]
  },
  {
   "cell_type": "code",
   "execution_count": null,
   "metadata": {
    "_cell_guid": "dd9462d5-673b-4dce-ae3b-61f427b1abcb",
    "_uuid": "09eed29a2d6f5e30beec07ae5d29088234c99b1c",
    "execution": {
     "iopub.execute_input": "2020-12-12T08:43:42.537433Z",
     "iopub.status.busy": "2020-12-12T08:43:42.536508Z",
     "iopub.status.idle": "2020-12-12T08:43:48.923392Z",
     "shell.execute_reply": "2020-12-12T08:43:48.923875Z"
    },
    "papermill": {
     "duration": 6.583842,
     "end_time": "2020-12-12T08:43:48.924064",
     "exception": false,
     "start_time": "2020-12-12T08:43:42.340222",
     "status": "completed"
    },
    "tags": []
   },
   "outputs": [],
   "source": [
    "loans['term'] = loans['term'].apply(lambda s: np.int8(s.split()[0]))\n",
    "loans['term'].value_counts(normalize=True)"
   ]
  },
  {
   "cell_type": "markdown",
   "metadata": {
    "_uuid": "38b3f2e509a44b641c95c5bc3853fcb345c15697",
    "papermill": {
     "duration": 0.189507,
     "end_time": "2020-12-12T08:43:49.297438",
     "exception": false,
     "start_time": "2020-12-12T08:43:49.107931",
     "status": "completed"
    },
    "tags": []
   },
   "source": [
    "Compare the charge-off rate by loan period:"
   ]
  },
  {
   "cell_type": "code",
   "execution_count": null,
   "metadata": {
    "_uuid": "ab9282a1342f830c7676b123093b58e524b51fba",
    "execution": {
     "iopub.execute_input": "2020-12-12T08:43:49.676176Z",
     "iopub.status.busy": "2020-12-12T08:43:49.675525Z",
     "iopub.status.idle": "2020-12-12T08:43:50.136563Z",
     "shell.execute_reply": "2020-12-12T08:43:50.135659Z"
    },
    "papermill": {
     "duration": 0.652033,
     "end_time": "2020-12-12T08:43:50.136673",
     "exception": false,
     "start_time": "2020-12-12T08:43:49.484640",
     "status": "completed"
    },
    "tags": []
   },
   "outputs": [],
   "source": [
    "loans.groupby('term')['loan_status'].value_counts(normalize=True).loc[:,'Charged Off']"
   ]
  },
  {
   "cell_type": "markdown",
   "metadata": {
    "_uuid": "ff84064c77c403999e45c1ecbfb6ced2ed8c4f9b",
    "papermill": {
     "duration": 0.189284,
     "end_time": "2020-12-12T08:43:50.547056",
     "exception": false,
     "start_time": "2020-12-12T08:43:50.357772",
     "status": "completed"
    },
    "tags": []
   },
   "source": [
    "About 75% of the completed loans have three-year periods, and the rest have five-year periods. Loans with five-year periods are more than twice as likely to charge-off as loans with three-year periods."
   ]
  },
  {
   "cell_type": "markdown",
   "metadata": {
    "_uuid": "7c02fe150b628a0131c81494d1e7d55d9116b015",
    "papermill": {
     "duration": 0.182451,
     "end_time": "2020-12-12T08:43:50.915586",
     "exception": false,
     "start_time": "2020-12-12T08:43:50.733135",
     "status": "completed"
    },
    "tags": []
   },
   "source": [
    "### 3.2.4 int_rate"
   ]
  },
  {
   "cell_type": "markdown",
   "metadata": {
    "_uuid": "9ad9cd0705710499a58cf64764c65c75783c96f5",
    "papermill": {
     "duration": 0.18209,
     "end_time": "2020-12-12T08:43:51.280301",
     "exception": false,
     "start_time": "2020-12-12T08:43:51.098211",
     "status": "completed"
    },
    "tags": []
   },
   "source": [
    "Data Dictionary: \"Interest Rate on the loan.\""
   ]
  },
  {
   "cell_type": "code",
   "execution_count": null,
   "metadata": {
    "execution": {
     "iopub.execute_input": "2020-12-12T08:43:51.657451Z",
     "iopub.status.busy": "2020-12-12T08:43:51.656517Z",
     "iopub.status.idle": "2020-12-12T08:43:53.629808Z",
     "shell.execute_reply": "2020-12-12T08:43:53.629296Z"
    },
    "papermill": {
     "duration": 2.164295,
     "end_time": "2020-12-12T08:43:53.629931",
     "exception": false,
     "start_time": "2020-12-12T08:43:51.465636",
     "status": "completed"
    },
    "tags": []
   },
   "outputs": [],
   "source": [
    "# Let's remove % percent sign from `int_rate` and convert it into `float`\n",
    "loans.int_rate = loans.int_rate.astype(str).map(lambda x: x.replace('%','')).astype(np.float64)"
   ]
  },
  {
   "cell_type": "code",
   "execution_count": null,
   "metadata": {
    "_uuid": "2a28a3f5b36127d615812fd74e427ab64909ad78",
    "execution": {
     "iopub.execute_input": "2020-12-12T08:43:54.002324Z",
     "iopub.status.busy": "2020-12-12T08:43:54.001636Z",
     "iopub.status.idle": "2020-12-12T08:43:54.083307Z",
     "shell.execute_reply": "2020-12-12T08:43:54.082755Z"
    },
    "papermill": {
     "duration": 0.270071,
     "end_time": "2020-12-12T08:43:54.083405",
     "exception": false,
     "start_time": "2020-12-12T08:43:53.813334",
     "status": "completed"
    },
    "tags": []
   },
   "outputs": [],
   "source": [
    "loans['int_rate'].describe()"
   ]
  },
  {
   "cell_type": "markdown",
   "metadata": {
    "_uuid": "d8afea343bab6f8fef2ed3b04d8dcf32a8b1b002",
    "papermill": {
     "duration": 0.22327,
     "end_time": "2020-12-12T08:43:54.489129",
     "exception": false,
     "start_time": "2020-12-12T08:43:54.265859",
     "status": "completed"
    },
    "tags": []
   },
   "source": [
    "Interest rates range from 5.32% to 31% (!) with a median of 13.2%."
   ]
  },
  {
   "cell_type": "code",
   "execution_count": null,
   "metadata": {
    "_uuid": "68a3574dadbbce75c73a47f7cf9db584ce4bc937",
    "execution": {
     "iopub.execute_input": "2020-12-12T08:43:54.864212Z",
     "iopub.status.busy": "2020-12-12T08:43:54.858864Z",
     "iopub.status.idle": "2020-12-12T08:44:20.618827Z",
     "shell.execute_reply": "2020-12-12T08:44:20.619339Z"
    },
    "papermill": {
     "duration": 25.9467,
     "end_time": "2020-12-12T08:44:20.619474",
     "exception": false,
     "start_time": "2020-12-12T08:43:54.672774",
     "status": "completed"
    },
    "tags": []
   },
   "outputs": [],
   "source": [
    "plot_var('int_rate', 'Interest Rate', continuous=True)"
   ]
  },
  {
   "cell_type": "markdown",
   "metadata": {
    "_cell_guid": "1fd2a00f-0f95-481c-b9ff-d26526eb5f04",
    "_uuid": "321c4fb18ebd1bcf6689d7a5d3f23f80752bcfb3",
    "papermill": {
     "duration": 0.185641,
     "end_time": "2020-12-12T08:44:20.991196",
     "exception": false,
     "start_time": "2020-12-12T08:44:20.805555",
     "status": "completed"
    },
    "tags": []
   },
   "source": [
    "Charged-off loans tend to have much higher interest rates. Let's compare the summary statistics by loan status:"
   ]
  },
  {
   "cell_type": "code",
   "execution_count": null,
   "metadata": {
    "_uuid": "80b55c5e802619bc4355d97829a361b1cce8d6fb",
    "execution": {
     "iopub.execute_input": "2020-12-12T08:44:21.315767Z",
     "iopub.status.busy": "2020-12-12T08:44:21.315326Z",
     "iopub.status.idle": "2020-12-12T08:44:21.597680Z",
     "shell.execute_reply": "2020-12-12T08:44:21.597156Z"
    },
    "papermill": {
     "duration": 0.42397,
     "end_time": "2020-12-12T08:44:21.597780",
     "exception": false,
     "start_time": "2020-12-12T08:44:21.173810",
     "status": "completed"
    },
    "tags": []
   },
   "outputs": [],
   "source": [
    "loans.groupby('loan_status')['int_rate'].describe()"
   ]
  },
  {
   "cell_type": "markdown",
   "metadata": {
    "_uuid": "69010cf27e356e99f2458cc7998a081305a27699",
    "papermill": {
     "duration": 0.185845,
     "end_time": "2020-12-12T08:44:21.969621",
     "exception": false,
     "start_time": "2020-12-12T08:44:21.783776",
     "status": "completed"
    },
    "tags": []
   },
   "source": [
    "### 3.2.5 installment\n",
    "<a id=\"3.2.5\"></a>"
   ]
  },
  {
   "cell_type": "markdown",
   "metadata": {
    "_uuid": "de60b44e703ecafd09e9d737e2d21eaac88bb14c",
    "papermill": {
     "duration": 0.198735,
     "end_time": "2020-12-12T08:44:22.355612",
     "exception": false,
     "start_time": "2020-12-12T08:44:22.156877",
     "status": "completed"
    },
    "tags": []
   },
   "source": [
    "Data Dictionary: \"The monthly payment owed by the borrower if the loan originates.\""
   ]
  },
  {
   "cell_type": "code",
   "execution_count": null,
   "metadata": {
    "_uuid": "da0806285ffdb08c656b7e2df85f92896543edbc",
    "execution": {
     "iopub.execute_input": "2020-12-12T08:44:22.735118Z",
     "iopub.status.busy": "2020-12-12T08:44:22.734488Z",
     "iopub.status.idle": "2020-12-12T08:44:22.790665Z",
     "shell.execute_reply": "2020-12-12T08:44:22.790063Z"
    },
    "papermill": {
     "duration": 0.24639,
     "end_time": "2020-12-12T08:44:22.790769",
     "exception": false,
     "start_time": "2020-12-12T08:44:22.544379",
     "status": "completed"
    },
    "tags": []
   },
   "outputs": [],
   "source": [
    "loans['installment'].describe()"
   ]
  },
  {
   "cell_type": "markdown",
   "metadata": {
    "_uuid": "a6db3a10f7d5588f3e269d0f9a72587d93f5b144",
    "papermill": {
     "duration": 0.186934,
     "end_time": "2020-12-12T08:44:23.163832",
     "exception": false,
     "start_time": "2020-12-12T08:44:22.976898",
     "status": "completed"
    },
    "tags": []
   },
   "source": [
    "Installments range from \\$4.93 to \\$1,714, with a median of \\$377."
   ]
  },
  {
   "cell_type": "code",
   "execution_count": null,
   "metadata": {
    "_uuid": "ac3d18cd16e8e4bbb560cba3903e44cdbf5e901f",
    "execution": {
     "iopub.execute_input": "2020-12-12T08:44:23.584320Z",
     "iopub.status.busy": "2020-12-12T08:44:23.583436Z",
     "iopub.status.idle": "2020-12-12T08:44:59.008345Z",
     "shell.execute_reply": "2020-12-12T08:44:59.008849Z"
    },
    "papermill": {
     "duration": 35.62993,
     "end_time": "2020-12-12T08:44:59.009000",
     "exception": false,
     "start_time": "2020-12-12T08:44:23.379070",
     "status": "completed"
    },
    "tags": []
   },
   "outputs": [],
   "source": [
    "plot_var('installment', 'Installment', continuous=True)"
   ]
  },
  {
   "cell_type": "markdown",
   "metadata": {
    "_cell_guid": "1fd2a00f-0f95-481c-b9ff-d26526eb5f04",
    "_uuid": "321c4fb18ebd1bcf6689d7a5d3f23f80752bcfb3",
    "papermill": {
     "duration": 0.133999,
     "end_time": "2020-12-12T08:44:59.299680",
     "exception": false,
     "start_time": "2020-12-12T08:44:59.165681",
     "status": "completed"
    },
    "tags": []
   },
   "source": [
    "Charged-off loans tend to have higher installments. Let's compare the summary statistics by loan status:"
   ]
  },
  {
   "cell_type": "code",
   "execution_count": null,
   "metadata": {
    "_uuid": "4049b2bf62e31bf9f62e7aeed599ff1af2af6759",
    "execution": {
     "iopub.execute_input": "2020-12-12T08:44:59.776846Z",
     "iopub.status.busy": "2020-12-12T08:44:59.776221Z",
     "iopub.status.idle": "2020-12-12T08:45:00.103583Z",
     "shell.execute_reply": "2020-12-12T08:45:00.103032Z"
    },
    "papermill": {
     "duration": 0.632256,
     "end_time": "2020-12-12T08:45:00.103684",
     "exception": false,
     "start_time": "2020-12-12T08:44:59.471428",
     "status": "completed"
    },
    "tags": []
   },
   "outputs": [],
   "source": [
    "loans.groupby('loan_status')['installment'].describe()"
   ]
  },
  {
   "cell_type": "markdown",
   "metadata": {
    "_uuid": "0bfb855f202210e7f0ef93b7b4fba2f0f10332d1",
    "papermill": {
     "duration": 0.188531,
     "end_time": "2020-12-12T08:45:00.479583",
     "exception": false,
     "start_time": "2020-12-12T08:45:00.291052",
     "status": "completed"
    },
    "tags": []
   },
   "source": [
    "Loans that charge off have \\$30 higher installments on average."
   ]
  },
  {
   "cell_type": "markdown",
   "metadata": {
    "_cell_guid": "1b745ce5-987f-45b9-8e3f-6d5f760e3a7c",
    "_uuid": "687c301f0bd5f40efdeca5307e9d0cb6a1fb6161",
    "papermill": {
     "duration": 0.187841,
     "end_time": "2020-12-12T08:45:00.857276",
     "exception": false,
     "start_time": "2020-12-12T08:45:00.669435",
     "status": "completed"
    },
    "tags": []
   },
   "source": [
    "### 3.2.6 grade, sub_grade"
   ]
  },
  {
   "cell_type": "markdown",
   "metadata": {
    "_uuid": "9eb0727bb28ab80ba2c3b1300a079256da360537",
    "papermill": {
     "duration": 0.191627,
     "end_time": "2020-12-12T08:45:01.237914",
     "exception": false,
     "start_time": "2020-12-12T08:45:01.046287",
     "status": "completed"
    },
    "tags": []
   },
   "source": [
    "Data Dictionary for `grade`: \"LendingClub assigned loan grade.\"\n",
    "\n",
    "Data Dictionary for `sub_grade`: \"LendingClub assigned loan subgrade.\"\n",
    "\n",
    "What are the possible values of `grade` and `sub_grade`?"
   ]
  },
  {
   "cell_type": "code",
   "execution_count": null,
   "metadata": {
    "_uuid": "6403890cc7037a7c67c7b7aa9d48250647b4d0a2",
    "execution": {
     "iopub.execute_input": "2020-12-12T08:45:01.830233Z",
     "iopub.status.busy": "2020-12-12T08:45:01.732395Z",
     "iopub.status.idle": "2020-12-12T08:45:01.883465Z",
     "shell.execute_reply": "2020-12-12T08:45:01.882874Z"
    },
    "papermill": {
     "duration": 0.45639,
     "end_time": "2020-12-12T08:45:01.883567",
     "exception": false,
     "start_time": "2020-12-12T08:45:01.427177",
     "status": "completed"
    },
    "tags": []
   },
   "outputs": [],
   "source": [
    "print(sorted(loans['grade'].unique()))"
   ]
  },
  {
   "cell_type": "code",
   "execution_count": null,
   "metadata": {
    "_uuid": "94b94f61439057a90672001d9aa02422b6457ad7",
    "execution": {
     "iopub.execute_input": "2020-12-12T08:45:02.473401Z",
     "iopub.status.busy": "2020-12-12T08:45:02.472727Z",
     "iopub.status.idle": "2020-12-12T08:45:02.526881Z",
     "shell.execute_reply": "2020-12-12T08:45:02.525876Z"
    },
    "papermill": {
     "duration": 0.453804,
     "end_time": "2020-12-12T08:45:02.527075",
     "exception": false,
     "start_time": "2020-12-12T08:45:02.073271",
     "status": "completed"
    },
    "scrolled": true,
    "tags": []
   },
   "outputs": [],
   "source": [
    "print(sorted(loans['sub_grade'].unique()))"
   ]
  },
  {
   "cell_type": "markdown",
   "metadata": {
    "_cell_guid": "b1d34f86-4ffb-4024-ad0f-714bd5cb3f21",
    "_uuid": "efb24fbebc6a4b092a37b79e7fb6f29133d3315a",
    "papermill": {
     "duration": 0.189812,
     "end_time": "2020-12-12T08:45:02.911719",
     "exception": false,
     "start_time": "2020-12-12T08:45:02.721907",
     "status": "completed"
    },
    "tags": []
   },
   "source": [
    "The grade is implied by the subgrade, so let's drop the grade column."
   ]
  },
  {
   "cell_type": "code",
   "execution_count": null,
   "metadata": {
    "_cell_guid": "9c00600b-0a58-4648-9448-4e960b705eb6",
    "_uuid": "a46021ef96a484732a847ed2f3cece9d423f73ec",
    "execution": {
     "iopub.execute_input": "2020-12-12T08:45:03.296416Z",
     "iopub.status.busy": "2020-12-12T08:45:03.295320Z",
     "iopub.status.idle": "2020-12-12T08:45:03.826046Z",
     "shell.execute_reply": "2020-12-12T08:45:03.825500Z"
    },
    "papermill": {
     "duration": 0.724414,
     "end_time": "2020-12-12T08:45:03.826158",
     "exception": false,
     "start_time": "2020-12-12T08:45:03.101744",
     "status": "completed"
    },
    "tags": []
   },
   "outputs": [],
   "source": [
    "loans.drop('grade', axis=1, inplace=True)"
   ]
  },
  {
   "cell_type": "code",
   "execution_count": null,
   "metadata": {
    "_uuid": "68a3be24bccbfbef0c941d0b72f660fa79cb2c49",
    "execution": {
     "iopub.execute_input": "2020-12-12T08:45:04.236061Z",
     "iopub.status.busy": "2020-12-12T08:45:04.225386Z",
     "iopub.status.idle": "2020-12-12T08:45:31.308771Z",
     "shell.execute_reply": "2020-12-12T08:45:31.308252Z"
    },
    "papermill": {
     "duration": 27.292671,
     "end_time": "2020-12-12T08:45:31.308885",
     "exception": false,
     "start_time": "2020-12-12T08:45:04.016214",
     "status": "completed"
    },
    "tags": []
   },
   "outputs": [],
   "source": [
    "plot_var('sub_grade', 'Subgrade', continuous=False)"
   ]
  },
  {
   "cell_type": "markdown",
   "metadata": {
    "_cell_guid": "e53dbddd-aff4-4d44-bc8e-a7637e953ab0",
    "_uuid": "cf7685607c32b9857f4fc0cce38c6feea215e2fe",
    "papermill": {
     "duration": 0.196033,
     "end_time": "2020-12-12T08:45:31.693646",
     "exception": false,
     "start_time": "2020-12-12T08:45:31.497613",
     "status": "completed"
    },
    "tags": []
   },
   "source": [
    "There's a clear trend of higher probability of charge-off as the subgrade worsens."
   ]
  },
  {
   "cell_type": "markdown",
   "metadata": {
    "_uuid": "176d209faeba93fcda6dc874e0ea8873d93ddf36",
    "papermill": {
     "duration": 0.197855,
     "end_time": "2020-12-12T08:45:32.090333",
     "exception": false,
     "start_time": "2020-12-12T08:45:31.892478",
     "status": "completed"
    },
    "tags": []
   },
   "source": [
    "### 3.2.7 emp_title"
   ]
  },
  {
   "cell_type": "markdown",
   "metadata": {
    "_uuid": "09bbce0a755b580414baa471edbdad512f1a7c8c",
    "papermill": {
     "duration": 0.199985,
     "end_time": "2020-12-12T08:45:32.487354",
     "exception": false,
     "start_time": "2020-12-12T08:45:32.287369",
     "status": "completed"
    },
    "tags": []
   },
   "source": [
    "Data Dictionary: \"The job title supplied by the Borrower when applying for the loan.\""
   ]
  },
  {
   "cell_type": "code",
   "execution_count": null,
   "metadata": {
    "_uuid": "0f596ada42ac82c1db638803a0428a8aa3e5e4f0",
    "execution": {
     "iopub.execute_input": "2020-12-12T08:45:33.384450Z",
     "iopub.status.busy": "2020-12-12T08:45:33.383764Z",
     "iopub.status.idle": "2020-12-12T08:45:33.870744Z",
     "shell.execute_reply": "2020-12-12T08:45:33.871444Z"
    },
    "papermill": {
     "duration": 1.186229,
     "end_time": "2020-12-12T08:45:33.871585",
     "exception": false,
     "start_time": "2020-12-12T08:45:32.685356",
     "status": "completed"
    },
    "tags": []
   },
   "outputs": [],
   "source": [
    "loans['emp_title'].describe()"
   ]
  },
  {
   "cell_type": "markdown",
   "metadata": {
    "_uuid": "b2a9b7fcde5483287263d897cb8e537efbbfdf79",
    "papermill": {
     "duration": 0.193379,
     "end_time": "2020-12-12T08:45:34.258390",
     "exception": false,
     "start_time": "2020-12-12T08:45:34.065011",
     "status": "completed"
    },
    "tags": []
   },
   "source": [
    "There are too many different job titles for this feature to be useful, so we drop it."
   ]
  },
  {
   "cell_type": "code",
   "execution_count": null,
   "metadata": {
    "_uuid": "019bb5ce0654b539155a5a92a53a961cd3cb6f0a",
    "execution": {
     "iopub.execute_input": "2020-12-12T08:45:34.702665Z",
     "iopub.status.busy": "2020-12-12T08:45:34.694588Z",
     "iopub.status.idle": "2020-12-12T08:45:35.068332Z",
     "shell.execute_reply": "2020-12-12T08:45:35.068913Z"
    },
    "papermill": {
     "duration": 0.616679,
     "end_time": "2020-12-12T08:45:35.069105",
     "exception": false,
     "start_time": "2020-12-12T08:45:34.452426",
     "status": "completed"
    },
    "tags": []
   },
   "outputs": [],
   "source": [
    "loans.drop(labels='emp_title', axis=1, inplace=True)"
   ]
  },
  {
   "cell_type": "markdown",
   "metadata": {
    "_cell_guid": "98efbb15-f5d7-42ef-992a-92bb0860a803",
    "_uuid": "e84911043e002622f7c181e2be71d09ac277dbc8",
    "papermill": {
     "duration": 0.194654,
     "end_time": "2020-12-12T08:45:35.457131",
     "exception": false,
     "start_time": "2020-12-12T08:45:35.262477",
     "status": "completed"
    },
    "tags": []
   },
   "source": [
    "### 3.2.8 emp_length"
   ]
  },
  {
   "cell_type": "markdown",
   "metadata": {
    "_uuid": "de9e35fb71df64e54381182fb7b94e0ebaa6a326",
    "papermill": {
     "duration": 0.190311,
     "end_time": "2020-12-12T08:45:35.839686",
     "exception": false,
     "start_time": "2020-12-12T08:45:35.649375",
     "status": "completed"
    },
    "tags": []
   },
   "source": [
    "Data Dictionary: \"Employment length in years. Possible values are between 0 and 10 where 0 means less than one year and 10 means ten or more years.\" The actual data does not match this description:"
   ]
  },
  {
   "cell_type": "code",
   "execution_count": null,
   "metadata": {
    "_cell_guid": "a60d507b-dc0d-4e44-912e-0d214b1b85a9",
    "_uuid": "372fd175e1e4458f8a9bc860fd91798d696892be",
    "execution": {
     "iopub.execute_input": "2020-12-12T08:45:36.396277Z",
     "iopub.status.busy": "2020-12-12T08:45:36.395454Z",
     "iopub.status.idle": "2020-12-12T08:45:36.403769Z",
     "shell.execute_reply": "2020-12-12T08:45:36.404329Z"
    },
    "papermill": {
     "duration": 0.374742,
     "end_time": "2020-12-12T08:45:36.404457",
     "exception": false,
     "start_time": "2020-12-12T08:45:36.029715",
     "status": "completed"
    },
    "tags": []
   },
   "outputs": [],
   "source": [
    "loans['emp_length'].value_counts(dropna=False).sort_index()"
   ]
  },
  {
   "cell_type": "markdown",
   "metadata": {
    "_uuid": "6d2cb6f524058af4c44e7a8a23f655aa5b031f53",
    "papermill": {
     "duration": 0.190047,
     "end_time": "2020-12-12T08:45:36.787326",
     "exception": false,
     "start_time": "2020-12-12T08:45:36.597279",
     "status": "completed"
    },
    "tags": []
   },
   "source": [
    "Note there are 117126 loans without data on the length of employment.\n",
    "\n",
    "Convert `emp_length` to integers:"
   ]
  },
  {
   "cell_type": "code",
   "execution_count": null,
   "metadata": {
    "_uuid": "d0391a976bbf82fcb83a3d6f63f9ca6bf3266972",
    "execution": {
     "iopub.execute_input": "2020-12-12T08:45:37.172567Z",
     "iopub.status.busy": "2020-12-12T08:45:37.171638Z",
     "iopub.status.idle": "2020-12-12T08:45:37.254954Z",
     "shell.execute_reply": "2020-12-12T08:45:37.255638Z"
    },
    "papermill": {
     "duration": 0.277782,
     "end_time": "2020-12-12T08:45:37.255808",
     "exception": false,
     "start_time": "2020-12-12T08:45:36.978026",
     "status": "completed"
    },
    "tags": []
   },
   "outputs": [],
   "source": [
    "loans['emp_length'].replace(to_replace='10+ years', value='10 years', inplace=True)"
   ]
  },
  {
   "cell_type": "code",
   "execution_count": null,
   "metadata": {
    "_uuid": "58d4ab69614601a658ac288c1878a2b9295cf10f",
    "execution": {
     "iopub.execute_input": "2020-12-12T08:45:37.898361Z",
     "iopub.status.busy": "2020-12-12T08:45:37.897535Z",
     "iopub.status.idle": "2020-12-12T08:45:37.974435Z",
     "shell.execute_reply": "2020-12-12T08:45:37.973601Z"
    },
    "papermill": {
     "duration": 0.371324,
     "end_time": "2020-12-12T08:45:37.974562",
     "exception": false,
     "start_time": "2020-12-12T08:45:37.603238",
     "status": "completed"
    },
    "tags": []
   },
   "outputs": [],
   "source": [
    "loans['emp_length'].replace('< 1 year', '0 years', inplace=True)"
   ]
  },
  {
   "cell_type": "code",
   "execution_count": null,
   "metadata": {
    "_cell_guid": "f5ce8306-8ca3-4a78-8332-7a12fd233f98",
    "_uuid": "fc61f2f288d38767f5fa1e3f7df5b58c7bc52a35",
    "execution": {
     "iopub.execute_input": "2020-12-12T08:45:38.563661Z",
     "iopub.status.busy": "2020-12-12T08:45:38.562753Z",
     "iopub.status.idle": "2020-12-12T08:45:38.565028Z",
     "shell.execute_reply": "2020-12-12T08:45:38.565602Z"
    },
    "papermill": {
     "duration": 0.298469,
     "end_time": "2020-12-12T08:45:38.565736",
     "exception": false,
     "start_time": "2020-12-12T08:45:38.267267",
     "status": "completed"
    },
    "tags": []
   },
   "outputs": [],
   "source": [
    "def emp_length_to_int(s):\n",
    "    if pd.isnull(s):\n",
    "        return s\n",
    "    else:\n",
    "        return np.int8(s.split()[0])"
   ]
  },
  {
   "cell_type": "code",
   "execution_count": null,
   "metadata": {
    "_cell_guid": "f5ce8306-8ca3-4a78-8332-7a12fd233f98",
    "_uuid": "fc61f2f288d38767f5fa1e3f7df5b58c7bc52a35",
    "execution": {
     "iopub.execute_input": "2020-12-12T08:45:38.953320Z",
     "iopub.status.busy": "2020-12-12T08:45:38.952642Z",
     "iopub.status.idle": "2020-12-12T08:45:45.345858Z",
     "shell.execute_reply": "2020-12-12T08:45:45.345291Z"
    },
    "papermill": {
     "duration": 6.587998,
     "end_time": "2020-12-12T08:45:45.345995",
     "exception": false,
     "start_time": "2020-12-12T08:45:38.757997",
     "status": "completed"
    },
    "tags": []
   },
   "outputs": [],
   "source": [
    "loans['emp_length'] = loans['emp_length'].apply(emp_length_to_int)"
   ]
  },
  {
   "cell_type": "code",
   "execution_count": null,
   "metadata": {
    "_cell_guid": "f5ce8306-8ca3-4a78-8332-7a12fd233f98",
    "_uuid": "fc61f2f288d38767f5fa1e3f7df5b58c7bc52a35",
    "execution": {
     "iopub.execute_input": "2020-12-12T08:45:45.737663Z",
     "iopub.status.busy": "2020-12-12T08:45:45.737051Z",
     "iopub.status.idle": "2020-12-12T08:45:45.774854Z",
     "shell.execute_reply": "2020-12-12T08:45:45.774362Z"
    },
    "papermill": {
     "duration": 0.234043,
     "end_time": "2020-12-12T08:45:45.774983",
     "exception": false,
     "start_time": "2020-12-12T08:45:45.540940",
     "status": "completed"
    },
    "tags": []
   },
   "outputs": [],
   "source": [
    "loans['emp_length'].value_counts(dropna=False).sort_index()"
   ]
  },
  {
   "cell_type": "code",
   "execution_count": null,
   "metadata": {
    "_uuid": "ed062f960c9fb30cb1d5dbd4892a319b12814d8b",
    "execution": {
     "iopub.execute_input": "2020-12-12T08:45:46.177527Z",
     "iopub.status.busy": "2020-12-12T08:45:46.171421Z",
     "iopub.status.idle": "2020-12-12T08:46:08.701028Z",
     "shell.execute_reply": "2020-12-12T08:46:08.700382Z"
    },
    "papermill": {
     "duration": 22.73207,
     "end_time": "2020-12-12T08:46:08.701133",
     "exception": false,
     "start_time": "2020-12-12T08:45:45.969063",
     "status": "completed"
    },
    "tags": []
   },
   "outputs": [],
   "source": [
    "plot_var('emp_length', 'Employment Length', continuous=False)"
   ]
  },
  {
   "cell_type": "code",
   "execution_count": null,
   "metadata": {
    "execution": {
     "iopub.execute_input": "2020-12-12T08:46:09.249042Z",
     "iopub.status.busy": "2020-12-12T08:46:09.248172Z",
     "iopub.status.idle": "2020-12-12T08:46:09.707870Z",
     "shell.execute_reply": "2020-12-12T08:46:09.707211Z"
    },
    "papermill": {
     "duration": 0.761744,
     "end_time": "2020-12-12T08:46:09.708000",
     "exception": false,
     "start_time": "2020-12-12T08:46:08.946256",
     "status": "completed"
    },
    "tags": []
   },
   "outputs": [],
   "source": [
    "loans.drop('emp_length', axis=1, inplace=True)"
   ]
  },
  {
   "cell_type": "markdown",
   "metadata": {
    "_uuid": "1301a21538be386af061a7eaf967ed3714d924b6",
    "papermill": {
     "duration": 0.194106,
     "end_time": "2020-12-12T08:46:10.096906",
     "exception": false,
     "start_time": "2020-12-12T08:46:09.902800",
     "status": "completed"
    },
    "tags": []
   },
   "source": [
    "Loan status does not appear to vary much with employment length on average, except for a small drop in charge-offs for borrowers with over 10 years of employment."
   ]
  },
  {
   "cell_type": "markdown",
   "metadata": {
    "_cell_guid": "e994c5db-880e-4ec0-8cbd-4aacad373993",
    "_uuid": "332158cff90d2e051f5a80bee5983019ada32a30",
    "papermill": {
     "duration": 0.196332,
     "end_time": "2020-12-12T08:46:10.488798",
     "exception": false,
     "start_time": "2020-12-12T08:46:10.292466",
     "status": "completed"
    },
    "tags": []
   },
   "source": [
    "### 3.2.9 home_ownership"
   ]
  },
  {
   "cell_type": "markdown",
   "metadata": {
    "_uuid": "267058a2938fbadf9cc48efe9fe6474aa65ab95b",
    "papermill": {
     "duration": 0.197094,
     "end_time": "2020-12-12T08:46:10.883884",
     "exception": false,
     "start_time": "2020-12-12T08:46:10.686790",
     "status": "completed"
    },
    "tags": []
   },
   "source": [
    "Data Dictionary: \"The home ownership status provided by the borrower during registration or obtained from the credit report. Our values are: RENT, OWN, MORTGAGE, OTHER.\""
   ]
  },
  {
   "cell_type": "code",
   "execution_count": null,
   "metadata": {
    "_cell_guid": "d574efb7-1a6b-4ec2-a446-827d75d0d9cf",
    "_uuid": "017c6be384f35a700cebfa761dbaee4ec6b73256",
    "execution": {
     "iopub.execute_input": "2020-12-12T08:46:11.771877Z",
     "iopub.status.busy": "2020-12-12T08:46:11.555113Z",
     "iopub.status.idle": "2020-12-12T08:46:11.780497Z",
     "shell.execute_reply": "2020-12-12T08:46:11.780989Z"
    },
    "papermill": {
     "duration": 0.702297,
     "end_time": "2020-12-12T08:46:11.781129",
     "exception": false,
     "start_time": "2020-12-12T08:46:11.078832",
     "status": "completed"
    },
    "tags": []
   },
   "outputs": [],
   "source": [
    "loans['home_ownership'].value_counts(dropna=False)"
   ]
  },
  {
   "cell_type": "markdown",
   "metadata": {
    "_uuid": "026cafca68a89a5e27e0de6dbe0416540e1ebfb5",
    "papermill": {
     "duration": 0.195563,
     "end_time": "2020-12-12T08:46:12.174056",
     "exception": false,
     "start_time": "2020-12-12T08:46:11.978493",
     "status": "completed"
    },
    "tags": []
   },
   "source": [
    "Replace the values `ANY` and `NONE` with `OTHER`:"
   ]
  },
  {
   "cell_type": "code",
   "execution_count": null,
   "metadata": {
    "_uuid": "98e072c98be007e9ad879bd642a3f28d17cf0ef5",
    "execution": {
     "iopub.execute_input": "2020-12-12T08:46:12.792812Z",
     "iopub.status.busy": "2020-12-12T08:46:12.690589Z",
     "iopub.status.idle": "2020-12-12T08:46:12.809295Z",
     "shell.execute_reply": "2020-12-12T08:46:12.808524Z"
    },
    "papermill": {
     "duration": 0.442535,
     "end_time": "2020-12-12T08:46:12.809408",
     "exception": false,
     "start_time": "2020-12-12T08:46:12.366873",
     "status": "completed"
    },
    "tags": []
   },
   "outputs": [],
   "source": [
    "loans['home_ownership'].replace(['NONE', 'ANY'], 'OTHER', inplace=True)"
   ]
  },
  {
   "cell_type": "code",
   "execution_count": null,
   "metadata": {
    "_uuid": "5311d93a7dbdf5fd53fa3e0dbaf1619e292755b9",
    "execution": {
     "iopub.execute_input": "2020-12-12T08:46:13.580737Z",
     "iopub.status.busy": "2020-12-12T08:46:13.580167Z",
     "iopub.status.idle": "2020-12-12T08:46:13.675126Z",
     "shell.execute_reply": "2020-12-12T08:46:13.674540Z"
    },
    "papermill": {
     "duration": 0.561128,
     "end_time": "2020-12-12T08:46:13.675236",
     "exception": false,
     "start_time": "2020-12-12T08:46:13.114108",
     "status": "completed"
    },
    "tags": []
   },
   "outputs": [],
   "source": [
    "loans['home_ownership'].value_counts(dropna=False)"
   ]
  },
  {
   "cell_type": "code",
   "execution_count": null,
   "metadata": {
    "_uuid": "fecf1daf53d2fbbfd7626b1dfeda7c8c4d68ce70",
    "execution": {
     "iopub.execute_input": "2020-12-12T08:46:14.093295Z",
     "iopub.status.busy": "2020-12-12T08:46:14.090906Z",
     "iopub.status.idle": "2020-12-12T08:46:39.817667Z",
     "shell.execute_reply": "2020-12-12T08:46:39.817063Z"
    },
    "papermill": {
     "duration": 25.935945,
     "end_time": "2020-12-12T08:46:39.817770",
     "exception": false,
     "start_time": "2020-12-12T08:46:13.881825",
     "status": "completed"
    },
    "tags": []
   },
   "outputs": [],
   "source": [
    "plot_var('home_ownership', 'Home Ownership', continuous=False)"
   ]
  },
  {
   "cell_type": "markdown",
   "metadata": {
    "_uuid": "b840f99998fc7cbfd7e395f7b06b7b2da46231f5",
    "papermill": {
     "duration": 0.197035,
     "end_time": "2020-12-12T08:46:40.212588",
     "exception": false,
     "start_time": "2020-12-12T08:46:40.015553",
     "status": "completed"
    },
    "tags": []
   },
   "source": [
    "There appear to be large differences in charge-off rates by home ownership status. Renters and homeowners have a higher probability of charge-off. Let's compare the charge-off rates:"
   ]
  },
  {
   "cell_type": "code",
   "execution_count": null,
   "metadata": {
    "_uuid": "76bc94460d1679808d930020cd3d8c912853ab02",
    "execution": {
     "iopub.execute_input": "2020-12-12T08:46:40.720484Z",
     "iopub.status.busy": "2020-12-12T08:46:40.655681Z",
     "iopub.status.idle": "2020-12-12T08:46:41.119106Z",
     "shell.execute_reply": "2020-12-12T08:46:41.118487Z"
    },
    "papermill": {
     "duration": 0.707768,
     "end_time": "2020-12-12T08:46:41.119212",
     "exception": false,
     "start_time": "2020-12-12T08:46:40.411444",
     "status": "completed"
    },
    "tags": []
   },
   "outputs": [],
   "source": [
    "loans.groupby('home_ownership')['loan_status'].value_counts(normalize=True).loc[:,'Charged Off']"
   ]
  },
  {
   "cell_type": "markdown",
   "metadata": {
    "_uuid": "65606df932385c3701a621e1b28675e327cb4694",
    "papermill": {
     "duration": 0.199012,
     "end_time": "2020-12-12T08:46:41.518528",
     "exception": false,
     "start_time": "2020-12-12T08:46:41.319516",
     "status": "completed"
    },
    "tags": []
   },
   "source": [
    "### 3.2.10 annual_inc"
   ]
  },
  {
   "cell_type": "markdown",
   "metadata": {
    "_uuid": "65b83b1fcba64ad4b9ee8fddfdcced4eb6f23c4d",
    "papermill": {
     "duration": 0.195374,
     "end_time": "2020-12-12T08:46:41.913099",
     "exception": false,
     "start_time": "2020-12-12T08:46:41.717725",
     "status": "completed"
    },
    "tags": []
   },
   "source": [
    "Data Dictionary: \"The self-reported annual income provided by the borrower during registration.\""
   ]
  },
  {
   "cell_type": "code",
   "execution_count": null,
   "metadata": {
    "_uuid": "7fa40eca6b607ce35b5f34d1d02ddc963fdf0074",
    "execution": {
     "iopub.execute_input": "2020-12-12T08:46:42.315501Z",
     "iopub.status.busy": "2020-12-12T08:46:42.314849Z",
     "iopub.status.idle": "2020-12-12T08:46:42.378649Z",
     "shell.execute_reply": "2020-12-12T08:46:42.378125Z"
    },
    "papermill": {
     "duration": 0.265747,
     "end_time": "2020-12-12T08:46:42.378751",
     "exception": false,
     "start_time": "2020-12-12T08:46:42.113004",
     "status": "completed"
    },
    "tags": []
   },
   "outputs": [],
   "source": [
    "loans['annual_inc'].describe()"
   ]
  },
  {
   "cell_type": "markdown",
   "metadata": {
    "_uuid": "8528a8d00474e62dcc0aa9f4aa5eec2e4b232451",
    "papermill": {
     "duration": 0.197804,
     "end_time": "2020-12-12T08:46:42.777490",
     "exception": false,
     "start_time": "2020-12-12T08:46:42.579686",
     "status": "completed"
    },
    "tags": []
   },
   "source": [
    "Annual income ranges from \\$0 to \\$9,550,000, with a median of \\$65,000. Because of the large range of incomes, we should take a log transform of the annual income variable."
   ]
  },
  {
   "cell_type": "code",
   "execution_count": null,
   "metadata": {
    "_uuid": "629e0a263df7c3f174251bceb46a0f7b56763af5",
    "execution": {
     "iopub.execute_input": "2020-12-12T08:46:43.180883Z",
     "iopub.status.busy": "2020-12-12T08:46:43.180258Z",
     "iopub.status.idle": "2020-12-12T08:46:46.997359Z",
     "shell.execute_reply": "2020-12-12T08:46:46.996653Z"
    },
    "papermill": {
     "duration": 4.020048,
     "end_time": "2020-12-12T08:46:46.997473",
     "exception": false,
     "start_time": "2020-12-12T08:46:42.977425",
     "status": "completed"
    },
    "tags": []
   },
   "outputs": [],
   "source": [
    "loans['log_annual_inc'] = loans['annual_inc'].apply(lambda x: np.log10(x+1))"
   ]
  },
  {
   "cell_type": "code",
   "execution_count": null,
   "metadata": {
    "_uuid": "f5da594512f3e0bda4dbcff7f14d4960d117a090",
    "execution": {
     "iopub.execute_input": "2020-12-12T08:46:47.399926Z",
     "iopub.status.busy": "2020-12-12T08:46:47.399319Z",
     "iopub.status.idle": "2020-12-12T08:46:47.775772Z",
     "shell.execute_reply": "2020-12-12T08:46:47.776186Z"
    },
    "papermill": {
     "duration": 0.581574,
     "end_time": "2020-12-12T08:46:47.776293",
     "exception": false,
     "start_time": "2020-12-12T08:46:47.194719",
     "status": "completed"
    },
    "tags": []
   },
   "outputs": [],
   "source": [
    "loans.drop('annual_inc', axis=1, inplace=True)"
   ]
  },
  {
   "cell_type": "code",
   "execution_count": null,
   "metadata": {
    "_uuid": "26692c73baef3581133ce39ad3589e8f95a06a09",
    "execution": {
     "iopub.execute_input": "2020-12-12T08:46:48.061756Z",
     "iopub.status.busy": "2020-12-12T08:46:48.061189Z",
     "iopub.status.idle": "2020-12-12T08:46:48.108691Z",
     "shell.execute_reply": "2020-12-12T08:46:48.108246Z"
    },
    "papermill": {
     "duration": 0.192442,
     "end_time": "2020-12-12T08:46:48.108769",
     "exception": false,
     "start_time": "2020-12-12T08:46:47.916327",
     "status": "completed"
    },
    "tags": []
   },
   "outputs": [],
   "source": [
    "loans['log_annual_inc'].describe()"
   ]
  },
  {
   "cell_type": "code",
   "execution_count": null,
   "metadata": {
    "_uuid": "f46d1c2e9acf9abe31d10da67e0983fe5ac97465",
    "execution": {
     "iopub.execute_input": "2020-12-12T08:46:48.404478Z",
     "iopub.status.busy": "2020-12-12T08:46:48.402538Z",
     "iopub.status.idle": "2020-12-12T08:47:16.056043Z",
     "shell.execute_reply": "2020-12-12T08:47:16.056526Z"
    },
    "papermill": {
     "duration": 27.808323,
     "end_time": "2020-12-12T08:47:16.056670",
     "exception": false,
     "start_time": "2020-12-12T08:46:48.248347",
     "status": "completed"
    },
    "tags": []
   },
   "outputs": [],
   "source": [
    "plot_var('log_annual_inc', 'Log Annual Income', continuous=True)"
   ]
  },
  {
   "cell_type": "markdown",
   "metadata": {
    "_uuid": "f940872d6034e5fdeb1b4561a926fb2e3ce3b0d2",
    "papermill": {
     "duration": 0.201074,
     "end_time": "2020-12-12T08:47:16.462737",
     "exception": false,
     "start_time": "2020-12-12T08:47:16.261663",
     "status": "completed"
    },
    "tags": []
   },
   "source": [
    "It appears that individuals with higher income are more likely to pay off their loans. Let's compare the summary statistics by loan status:"
   ]
  },
  {
   "cell_type": "code",
   "execution_count": null,
   "metadata": {
    "_uuid": "3db85420d3a989d7a4890854e14c9122ce83142a",
    "execution": {
     "iopub.execute_input": "2020-12-12T08:47:17.119021Z",
     "iopub.status.busy": "2020-12-12T08:47:17.118400Z",
     "iopub.status.idle": "2020-12-12T08:47:17.382255Z",
     "shell.execute_reply": "2020-12-12T08:47:17.382948Z"
    },
    "papermill": {
     "duration": 0.681015,
     "end_time": "2020-12-12T08:47:17.383141",
     "exception": false,
     "start_time": "2020-12-12T08:47:16.702126",
     "status": "completed"
    },
    "tags": []
   },
   "outputs": [],
   "source": [
    "loans.groupby('loan_status')['log_annual_inc'].describe()"
   ]
  },
  {
   "cell_type": "markdown",
   "metadata": {
    "_cell_guid": "119da036-552d-4a95-a61f-7fdd464bcf5b",
    "_uuid": "840799ab7f984830bf29f0b677f4f14b672d4253",
    "papermill": {
     "duration": 0.302612,
     "end_time": "2020-12-12T08:47:17.991035",
     "exception": false,
     "start_time": "2020-12-12T08:47:17.688423",
     "status": "completed"
    },
    "tags": []
   },
   "source": [
    "### 3.2.11 verification_status"
   ]
  },
  {
   "cell_type": "markdown",
   "metadata": {
    "_uuid": "bdd838e4d41f6d75d04d870b8df168a7ba7583ab",
    "papermill": {
     "duration": 0.306149,
     "end_time": "2020-12-12T08:47:18.606572",
     "exception": false,
     "start_time": "2020-12-12T08:47:18.300423",
     "status": "completed"
    },
    "tags": []
   },
   "source": [
    "Data Dictionary: \"Indicates if income was verified by [Lending Club], not verified, or if the income source was verified.\""
   ]
  },
  {
   "cell_type": "code",
   "execution_count": null,
   "metadata": {
    "_uuid": "7943b3cb9228cf5a4b85acbdbae34bf45320a32f",
    "execution": {
     "iopub.execute_input": "2020-12-12T08:47:19.235173Z",
     "iopub.status.busy": "2020-12-12T08:47:19.232177Z",
     "iopub.status.idle": "2020-12-12T08:47:47.657622Z",
     "shell.execute_reply": "2020-12-12T08:47:47.658289Z"
    },
    "papermill": {
     "duration": 28.74224,
     "end_time": "2020-12-12T08:47:47.658426",
     "exception": false,
     "start_time": "2020-12-12T08:47:18.916186",
     "status": "completed"
    },
    "tags": []
   },
   "outputs": [],
   "source": [
    "plot_var('verification_status', 'Verification Status', continuous=False)"
   ]
  },
  {
   "cell_type": "markdown",
   "metadata": {
    "_uuid": "b800dc7016a63c31420307ca966e6ea8f746d90b",
    "papermill": {
     "duration": 0.21572,
     "end_time": "2020-12-12T08:47:48.122265",
     "exception": false,
     "start_time": "2020-12-12T08:47:47.906545",
     "status": "completed"
    },
    "tags": []
   },
   "source": [
    "### 3.2.12 issue_d"
   ]
  },
  {
   "cell_type": "markdown",
   "metadata": {
    "_uuid": "db9d278aafb51cbe458d569a21e248e4caece73c",
    "papermill": {
     "duration": 0.215652,
     "end_time": "2020-12-12T08:47:48.545366",
     "exception": false,
     "start_time": "2020-12-12T08:47:48.329714",
     "status": "completed"
    },
    "tags": []
   },
   "source": [
    "Data Dictionary: \"The month which the loan was funded.\"\n",
    "\n",
    "Because we're only using variables available to investors before the loan was funded, `issue_d` will not be included in the final model. We're keeping it for now just to perform the train/test split later, then we'll drop it."
   ]
  },
  {
   "cell_type": "markdown",
   "metadata": {
    "_cell_guid": "3a91aec4-9bc4-42d6-8c62-e3892a9a2754",
    "_uuid": "87124cd85754a1e6ef201217421ff2f50108cb2a",
    "papermill": {
     "duration": 0.205154,
     "end_time": "2020-12-12T08:47:48.996707",
     "exception": false,
     "start_time": "2020-12-12T08:47:48.791553",
     "status": "completed"
    },
    "tags": []
   },
   "source": [
    "### 3.2.13 purpose"
   ]
  },
  {
   "cell_type": "markdown",
   "metadata": {
    "_uuid": "ee566a2316c9c7221e99520e5c4d65acbfaa2c85",
    "papermill": {
     "duration": 0.204142,
     "end_time": "2020-12-12T08:47:49.405786",
     "exception": false,
     "start_time": "2020-12-12T08:47:49.201644",
     "status": "completed"
    },
    "tags": []
   },
   "source": [
    "Data Dictionary: \"A category provided by the borrower for the loan request.\""
   ]
  },
  {
   "cell_type": "code",
   "execution_count": null,
   "metadata": {
    "_cell_guid": "9de7d1b4-212b-4478-88a2-a3176a03e982",
    "_uuid": "5d4c3c93e59ee2cde87f4fc5487b43c555c33faf",
    "execution": {
     "iopub.execute_input": "2020-12-12T08:47:49.818264Z",
     "iopub.status.busy": "2020-12-12T08:47:49.817641Z",
     "iopub.status.idle": "2020-12-12T08:47:50.320586Z",
     "shell.execute_reply": "2020-12-12T08:47:50.321082Z"
    },
    "papermill": {
     "duration": 0.708036,
     "end_time": "2020-12-12T08:47:50.321215",
     "exception": false,
     "start_time": "2020-12-12T08:47:49.613179",
     "status": "completed"
    },
    "tags": []
   },
   "outputs": [],
   "source": [
    "loans['purpose'].value_counts()"
   ]
  },
  {
   "cell_type": "markdown",
   "metadata": {
    "_uuid": "e936d0cb2436cf6420470e108813579756305493",
    "papermill": {
     "duration": 0.201419,
     "end_time": "2020-12-12T08:47:50.724911",
     "exception": false,
     "start_time": "2020-12-12T08:47:50.523492",
     "status": "completed"
    },
    "tags": []
   },
   "source": [
    "Calculate the charge-off rates by purpose:"
   ]
  },
  {
   "cell_type": "code",
   "execution_count": null,
   "metadata": {
    "_uuid": "2d994abd68d7c93661ba101c8931137172d8b279",
    "execution": {
     "iopub.execute_input": "2020-12-12T08:47:51.245918Z",
     "iopub.status.busy": "2020-12-12T08:47:51.245441Z",
     "iopub.status.idle": "2020-12-12T08:47:51.970036Z",
     "shell.execute_reply": "2020-12-12T08:47:51.970695Z"
    },
    "papermill": {
     "duration": 1.042779,
     "end_time": "2020-12-12T08:47:51.970849",
     "exception": false,
     "start_time": "2020-12-12T08:47:50.928070",
     "status": "completed"
    },
    "tags": []
   },
   "outputs": [],
   "source": [
    "loans.groupby('purpose')['loan_status'].value_counts(normalize=True).loc[:,'Charged Off'].sort_values()"
   ]
  },
  {
   "cell_type": "markdown",
   "metadata": {
    "_cell_guid": "240c20e9-6336-47c6-9d92-69cc73433966",
    "_uuid": "fab8e8d284e011c9da9fedfa1a586a409f77ea0b",
    "papermill": {
     "duration": 0.227699,
     "end_time": "2020-12-12T08:47:52.400855",
     "exception": false,
     "start_time": "2020-12-12T08:47:52.173156",
     "status": "completed"
    },
    "tags": []
   },
   "source": [
    "Notice that only 12% of completed loans for weddings have charged-off, but 30% of completed small business loans have charged-off."
   ]
  },
  {
   "cell_type": "markdown",
   "metadata": {
    "_uuid": "2581b89fca27f1d69122731d5703444e061138c5",
    "papermill": {
     "duration": 0.20168,
     "end_time": "2020-12-12T08:47:52.806363",
     "exception": false,
     "start_time": "2020-12-12T08:47:52.604683",
     "status": "completed"
    },
    "tags": []
   },
   "source": [
    "### 3.2.14 title"
   ]
  },
  {
   "cell_type": "markdown",
   "metadata": {
    "_uuid": "8380f6c31fcbe300435354840a97292d0a04fb9a",
    "papermill": {
     "duration": 0.201877,
     "end_time": "2020-12-12T08:47:53.215052",
     "exception": false,
     "start_time": "2020-12-12T08:47:53.013175",
     "status": "completed"
    },
    "tags": []
   },
   "source": [
    "Data Dictionary: \"The loan title provided by the borrower.\""
   ]
  },
  {
   "cell_type": "code",
   "execution_count": null,
   "metadata": {
    "_uuid": "cdda39635718a035e89dc3d7fe90d5cd9b1e79cf",
    "execution": {
     "iopub.execute_input": "2020-12-12T08:47:53.721588Z",
     "iopub.status.busy": "2020-12-12T08:47:53.720789Z",
     "iopub.status.idle": "2020-12-12T08:47:54.197093Z",
     "shell.execute_reply": "2020-12-12T08:47:54.196575Z"
    },
    "papermill": {
     "duration": 0.779764,
     "end_time": "2020-12-12T08:47:54.197201",
     "exception": false,
     "start_time": "2020-12-12T08:47:53.417437",
     "status": "completed"
    },
    "tags": []
   },
   "outputs": [],
   "source": [
    "loans['title'].describe()"
   ]
  },
  {
   "cell_type": "markdown",
   "metadata": {
    "_uuid": "af49ee25241e78487df5840fee478258bb5028e7",
    "papermill": {
     "duration": 0.206624,
     "end_time": "2020-12-12T08:47:54.612103",
     "exception": false,
     "start_time": "2020-12-12T08:47:54.405479",
     "status": "completed"
    },
    "tags": []
   },
   "source": [
    "View the top 10 loan titles, and their frequencies:"
   ]
  },
  {
   "cell_type": "code",
   "execution_count": null,
   "metadata": {
    "_uuid": "dfc34183c9b46b21f253e45f1f4416b1b9b3067b",
    "execution": {
     "iopub.execute_input": "2020-12-12T08:47:55.127953Z",
     "iopub.status.busy": "2020-12-12T08:47:55.127359Z",
     "iopub.status.idle": "2020-12-12T08:47:55.389072Z",
     "shell.execute_reply": "2020-12-12T08:47:55.389683Z"
    },
    "papermill": {
     "duration": 0.569364,
     "end_time": "2020-12-12T08:47:55.389827",
     "exception": false,
     "start_time": "2020-12-12T08:47:54.820463",
     "status": "completed"
    },
    "tags": []
   },
   "outputs": [],
   "source": [
    "loans['title'].value_counts().head(10)"
   ]
  },
  {
   "cell_type": "markdown",
   "metadata": {
    "_uuid": "8f5af45b8e3673d6d7e65ed8907228474a689ea3",
    "papermill": {
     "duration": 0.20537,
     "end_time": "2020-12-12T08:47:55.803377",
     "exception": false,
     "start_time": "2020-12-12T08:47:55.598007",
     "status": "completed"
    },
    "tags": []
   },
   "source": [
    "There are 60,298 different titles in the dataset, and based on the top 10 titles, the `purpose` variable appears to already contain this information. So we drop the `title` variable."
   ]
  },
  {
   "cell_type": "code",
   "execution_count": null,
   "metadata": {
    "_uuid": "5dbf1388adbb7e82d03453800dd4f07539548d2d",
    "execution": {
     "iopub.execute_input": "2020-12-12T08:47:56.217082Z",
     "iopub.status.busy": "2020-12-12T08:47:56.216442Z",
     "iopub.status.idle": "2020-12-12T08:47:56.571425Z",
     "shell.execute_reply": "2020-12-12T08:47:56.570857Z"
    },
    "papermill": {
     "duration": 0.56366,
     "end_time": "2020-12-12T08:47:56.571528",
     "exception": false,
     "start_time": "2020-12-12T08:47:56.007868",
     "status": "completed"
    },
    "tags": []
   },
   "outputs": [],
   "source": [
    "loans.drop('title', axis=1, inplace=True)"
   ]
  },
  {
   "cell_type": "markdown",
   "metadata": {
    "_cell_guid": "b6908ad9-66be-4a38-8e45-bacde206e987",
    "_uuid": "f68d4795cca9861dd340a2c155c0b956ae9f53fa",
    "papermill": {
     "duration": 0.203343,
     "end_time": "2020-12-12T08:47:56.979156",
     "exception": false,
     "start_time": "2020-12-12T08:47:56.775813",
     "status": "completed"
    },
    "tags": []
   },
   "source": [
    "### 3.2.15 zip_code, addr_state"
   ]
  },
  {
   "cell_type": "markdown",
   "metadata": {
    "_uuid": "8aae00d3fdc7c6024867aa13898bbb9f497ec41c",
    "papermill": {
     "duration": 0.204479,
     "end_time": "2020-12-12T08:47:57.390021",
     "exception": false,
     "start_time": "2020-12-12T08:47:57.185542",
     "status": "completed"
    },
    "tags": []
   },
   "source": [
    "Data Dictionary for `zip_code`: \"The first 3 numbers of the zip code provided by the borrower in the loan application.\"\n",
    "\n",
    "Data Dictionary for `addr_state`: \"The state provided by the borrower in the loan application.\""
   ]
  },
  {
   "cell_type": "code",
   "execution_count": null,
   "metadata": {
    "_uuid": "229f0e1973578d67d9eba581c4752381b7791b0f",
    "execution": {
     "iopub.execute_input": "2020-12-12T08:47:57.807764Z",
     "iopub.status.busy": "2020-12-12T08:47:57.807129Z",
     "iopub.status.idle": "2020-12-12T08:47:57.880436Z",
     "shell.execute_reply": "2020-12-12T08:47:57.880895Z"
    },
    "papermill": {
     "duration": 0.283703,
     "end_time": "2020-12-12T08:47:57.881051",
     "exception": false,
     "start_time": "2020-12-12T08:47:57.597348",
     "status": "completed"
    },
    "tags": []
   },
   "outputs": [],
   "source": [
    "loans['zip_code'].sample(5)"
   ]
  },
  {
   "cell_type": "code",
   "execution_count": null,
   "metadata": {
    "_uuid": "5479d6d3285a343e1c3b9c12388ba8368ff7edcb",
    "execution": {
     "iopub.execute_input": "2020-12-12T08:47:58.401066Z",
     "iopub.status.busy": "2020-12-12T08:47:58.400256Z",
     "iopub.status.idle": "2020-12-12T08:47:58.513695Z",
     "shell.execute_reply": "2020-12-12T08:47:58.513047Z"
    },
    "papermill": {
     "duration": 0.425918,
     "end_time": "2020-12-12T08:47:58.513833",
     "exception": false,
     "start_time": "2020-12-12T08:47:58.087915",
     "status": "completed"
    },
    "tags": []
   },
   "outputs": [],
   "source": [
    "loans['zip_code'].nunique()"
   ]
  },
  {
   "cell_type": "code",
   "execution_count": null,
   "metadata": {
    "_uuid": "934ad57bec83db1ad928e9fb6a9b2454e0048268",
    "execution": {
     "iopub.execute_input": "2020-12-12T08:47:59.119093Z",
     "iopub.status.busy": "2020-12-12T08:47:59.118503Z",
     "iopub.status.idle": "2020-12-12T08:47:59.204660Z",
     "shell.execute_reply": "2020-12-12T08:47:59.204020Z"
    },
    "papermill": {
     "duration": 0.379773,
     "end_time": "2020-12-12T08:47:59.204767",
     "exception": false,
     "start_time": "2020-12-12T08:47:58.824994",
     "status": "completed"
    },
    "tags": []
   },
   "outputs": [],
   "source": [
    "loans['addr_state'].sample(5)"
   ]
  },
  {
   "cell_type": "code",
   "execution_count": null,
   "metadata": {
    "_uuid": "84d6f45f96adc6293858f311993cef781614ef6d",
    "execution": {
     "iopub.execute_input": "2020-12-12T08:47:59.746382Z",
     "iopub.status.busy": "2020-12-12T08:47:59.681577Z",
     "iopub.status.idle": "2020-12-12T08:47:59.775187Z",
     "shell.execute_reply": "2020-12-12T08:47:59.775693Z"
    },
    "papermill": {
     "duration": 0.356793,
     "end_time": "2020-12-12T08:47:59.775842",
     "exception": false,
     "start_time": "2020-12-12T08:47:59.419049",
     "status": "completed"
    },
    "tags": []
   },
   "outputs": [],
   "source": [
    "loans['addr_state'].nunique()"
   ]
  },
  {
   "cell_type": "markdown",
   "metadata": {
    "_cell_guid": "a2485d09-8385-427d-9bcb-7c47b8034e53",
    "_uuid": "69aa28976c0826de8e461d39c5e3b5bfdf49e61c",
    "papermill": {
     "duration": 0.206868,
     "end_time": "2020-12-12T08:48:00.188922",
     "exception": false,
     "start_time": "2020-12-12T08:47:59.982054",
     "status": "completed"
    },
    "tags": []
   },
   "source": [
    "There are a lot of different zip codes, so let's just keep the state column."
   ]
  },
  {
   "cell_type": "code",
   "execution_count": null,
   "metadata": {
    "_cell_guid": "aef7a94f-613c-4137-86f2-d0591ea3a4bc",
    "_uuid": "d6d4c635eb86b895acda91d0cc1fa38327a96e7d",
    "execution": {
     "iopub.execute_input": "2020-12-12T08:48:00.651672Z",
     "iopub.status.busy": "2020-12-12T08:48:00.651034Z",
     "iopub.status.idle": "2020-12-12T08:48:00.938844Z",
     "shell.execute_reply": "2020-12-12T08:48:00.938319Z"
    },
    "papermill": {
     "duration": 0.542732,
     "end_time": "2020-12-12T08:48:00.938994",
     "exception": false,
     "start_time": "2020-12-12T08:48:00.396262",
     "status": "completed"
    },
    "tags": []
   },
   "outputs": [],
   "source": [
    "loans.drop(labels='zip_code', axis=1, inplace=True)"
   ]
  },
  {
   "cell_type": "markdown",
   "metadata": {
    "_uuid": "607b05af73b4c7982d976a36eb19991f0b167abb",
    "papermill": {
     "duration": 0.206876,
     "end_time": "2020-12-12T08:48:01.352655",
     "exception": false,
     "start_time": "2020-12-12T08:48:01.145779",
     "status": "completed"
    },
    "tags": []
   },
   "source": [
    "Calculate the charge-off rates by address state:"
   ]
  },
  {
   "cell_type": "code",
   "execution_count": null,
   "metadata": {
    "_uuid": "48f9b89b369bf944b74f96a92aa36dbe53b89f2c",
    "execution": {
     "iopub.execute_input": "2020-12-12T08:48:01.807023Z",
     "iopub.status.busy": "2020-12-12T08:48:01.806384Z",
     "iopub.status.idle": "2020-12-12T08:48:02.348897Z",
     "shell.execute_reply": "2020-12-12T08:48:02.348287Z"
    },
    "papermill": {
     "duration": 0.789954,
     "end_time": "2020-12-12T08:48:02.349025",
     "exception": false,
     "start_time": "2020-12-12T08:48:01.559071",
     "status": "completed"
    },
    "scrolled": true,
    "tags": []
   },
   "outputs": [],
   "source": [
    "loans.groupby('addr_state')['loan_status'].value_counts(normalize=True).loc[:,'Charged Off'].sort_values()"
   ]
  },
  {
   "cell_type": "markdown",
   "metadata": {
    "_uuid": "4c5831c94055345d34fb6adfe177057026dd3f11",
    "papermill": {
     "duration": 0.207609,
     "end_time": "2020-12-12T08:48:02.764449",
     "exception": false,
     "start_time": "2020-12-12T08:48:02.556840",
     "status": "completed"
    },
    "tags": []
   },
   "source": [
    "The charge-off rate ranges from 13.0% in Washington, DC to 27.6% in Mississippi."
   ]
  },
  {
   "cell_type": "markdown",
   "metadata": {
    "_uuid": "f033b39352baf72562bcbd95dc79542e7d41a9b5",
    "papermill": {
     "duration": 0.21044,
     "end_time": "2020-12-12T08:48:03.183872",
     "exception": false,
     "start_time": "2020-12-12T08:48:02.973432",
     "status": "completed"
    },
    "tags": []
   },
   "source": [
    "### 3.2.16 dti"
   ]
  },
  {
   "cell_type": "markdown",
   "metadata": {
    "_uuid": "2b3358f8a0a91ec648c4ce00c40408450a22d07f",
    "papermill": {
     "duration": 0.207044,
     "end_time": "2020-12-12T08:48:03.632203",
     "exception": false,
     "start_time": "2020-12-12T08:48:03.425159",
     "status": "completed"
    },
    "tags": []
   },
   "source": [
    "Data Dictionary: \"A ratio calculated using the borrower’s total monthly debt payments on the total debt obligations, excluding mortgage and the requested LC loan, divided by the borrower’s self-reported monthly income.\""
   ]
  },
  {
   "cell_type": "code",
   "execution_count": null,
   "metadata": {
    "_uuid": "e15c355e0907a6356f3bdedc662df9ce797e58ec",
    "execution": {
     "iopub.execute_input": "2020-12-12T08:48:04.053499Z",
     "iopub.status.busy": "2020-12-12T08:48:04.052854Z",
     "iopub.status.idle": "2020-12-12T08:48:04.125813Z",
     "shell.execute_reply": "2020-12-12T08:48:04.125331Z"
    },
    "papermill": {
     "duration": 0.285517,
     "end_time": "2020-12-12T08:48:04.125924",
     "exception": false,
     "start_time": "2020-12-12T08:48:03.840407",
     "status": "completed"
    },
    "tags": []
   },
   "outputs": [],
   "source": [
    "loans['dti'].describe()"
   ]
  },
  {
   "cell_type": "markdown",
   "metadata": {
    "_uuid": "98847fa16dfede71424c267b7b0446f37c3bf2a2",
    "papermill": {
     "duration": 0.210055,
     "end_time": "2020-12-12T08:48:04.543342",
     "exception": false,
     "start_time": "2020-12-12T08:48:04.333287",
     "status": "completed"
    },
    "tags": []
   },
   "source": [
    "Note sure if the values of -1 and 999 make sense...\n",
    "\n",
    "There are several outliers that mess up our default plots. Plot a histogram for `dti` less than 60:"
   ]
  },
  {
   "cell_type": "code",
   "execution_count": null,
   "metadata": {
    "_uuid": "824839d9abcbdcc4cd7c5f181747c159576b5314",
    "execution": {
     "iopub.execute_input": "2020-12-12T08:48:04.968738Z",
     "iopub.status.busy": "2020-12-12T08:48:04.967695Z",
     "iopub.status.idle": "2020-12-12T08:48:05.844502Z",
     "shell.execute_reply": "2020-12-12T08:48:05.843917Z"
    },
    "papermill": {
     "duration": 1.092294,
     "end_time": "2020-12-12T08:48:05.844606",
     "exception": false,
     "start_time": "2020-12-12T08:48:04.752312",
     "status": "completed"
    },
    "tags": []
   },
   "outputs": [],
   "source": [
    "plt.figure(figsize=(8,3), dpi=90)\n",
    "sns.distplot(loans.loc[loans['dti'].notnull() & (loans['dti']<60), 'dti'], kde=False)\n",
    "plt.xlabel('Debt-to-income Ratio')\n",
    "plt.ylabel('Count')\n",
    "plt.title('Debt-to-income Ratio')"
   ]
  },
  {
   "cell_type": "markdown",
   "metadata": {
    "_uuid": "3a999762ead384f20a0faa97b1929d95142e88b1",
    "papermill": {
     "duration": 0.159631,
     "end_time": "2020-12-12T08:48:06.217281",
     "exception": false,
     "start_time": "2020-12-12T08:48:06.057650",
     "status": "completed"
    },
    "tags": []
   },
   "source": [
    "How many of the `dti` values are \"outliers\" (above 60)?"
   ]
  },
  {
   "cell_type": "code",
   "execution_count": null,
   "metadata": {
    "_uuid": "6baebe7830c1476f21897a7e860ee073671212c2",
    "execution": {
     "iopub.execute_input": "2020-12-12T08:48:06.591512Z",
     "iopub.status.busy": "2020-12-12T08:48:06.590465Z",
     "iopub.status.idle": "2020-12-12T08:48:06.599161Z",
     "shell.execute_reply": "2020-12-12T08:48:06.598527Z"
    },
    "papermill": {
     "duration": 0.227243,
     "end_time": "2020-12-12T08:48:06.599266",
     "exception": false,
     "start_time": "2020-12-12T08:48:06.372023",
     "status": "completed"
    },
    "tags": []
   },
   "outputs": [],
   "source": [
    "(loans['dti']>=60).sum()"
   ]
  },
  {
   "cell_type": "markdown",
   "metadata": {
    "_uuid": "7ed039841170d89aa188ab0a36834abb4dd83560",
    "papermill": {
     "duration": 0.212449,
     "end_time": "2020-12-12T08:48:07.027288",
     "exception": false,
     "start_time": "2020-12-12T08:48:06.814839",
     "status": "completed"
    },
    "tags": []
   },
   "source": [
    "Very few. Compare the summary statistics by loan status:"
   ]
  },
  {
   "cell_type": "code",
   "execution_count": null,
   "metadata": {
    "_uuid": "34f2731e79ebc05a2ccf97cab162ba1cc45fd0f0",
    "execution": {
     "iopub.execute_input": "2020-12-12T08:48:07.602497Z",
     "iopub.status.busy": "2020-12-12T08:48:07.601803Z",
     "iopub.status.idle": "2020-12-12T08:48:07.939164Z",
     "shell.execute_reply": "2020-12-12T08:48:07.938545Z"
    },
    "papermill": {
     "duration": 0.664918,
     "end_time": "2020-12-12T08:48:07.939264",
     "exception": false,
     "start_time": "2020-12-12T08:48:07.274346",
     "status": "completed"
    },
    "tags": []
   },
   "outputs": [],
   "source": [
    "loans.groupby('loan_status')['dti'].describe()"
   ]
  },
  {
   "cell_type": "markdown",
   "metadata": {
    "_uuid": "7a36bd72aa5b6df18557a5a1fced2933c5f96940",
    "papermill": {
     "duration": 0.214965,
     "end_time": "2020-12-12T08:48:08.365015",
     "exception": false,
     "start_time": "2020-12-12T08:48:08.150050",
     "status": "completed"
    },
    "tags": []
   },
   "source": [
    "Completed loans that are charged off tend to have higher debt-to-income ratios."
   ]
  },
  {
   "cell_type": "markdown",
   "metadata": {
    "_uuid": "5a18058b0fe6c56755cd139b4addb773a858d63f",
    "papermill": {
     "duration": 0.212754,
     "end_time": "2020-12-12T08:48:08.790594",
     "exception": false,
     "start_time": "2020-12-12T08:48:08.577840",
     "status": "completed"
    },
    "tags": []
   },
   "source": [
    "### 3.2.17 earliest_cr_line"
   ]
  },
  {
   "cell_type": "markdown",
   "metadata": {
    "_uuid": "cf0c55c690b586c368e834d990cbdef4c088752d",
    "papermill": {
     "duration": 0.215647,
     "end_time": "2020-12-12T08:48:09.220821",
     "exception": false,
     "start_time": "2020-12-12T08:48:09.005174",
     "status": "completed"
    },
    "tags": []
   },
   "source": [
    "Data Dictionary: \"The month the borrower's earliest reported credit line was opened.\""
   ]
  },
  {
   "cell_type": "code",
   "execution_count": null,
   "metadata": {
    "_uuid": "f9451992dc43c401459fc5333bdd7d3e337e389a",
    "execution": {
     "iopub.execute_input": "2020-12-12T08:48:09.652166Z",
     "iopub.status.busy": "2020-12-12T08:48:09.651320Z",
     "iopub.status.idle": "2020-12-12T08:48:09.742431Z",
     "shell.execute_reply": "2020-12-12T08:48:09.741567Z"
    },
    "papermill": {
     "duration": 0.3074,
     "end_time": "2020-12-12T08:48:09.742562",
     "exception": false,
     "start_time": "2020-12-12T08:48:09.435162",
     "status": "completed"
    },
    "tags": []
   },
   "outputs": [],
   "source": [
    "loans['earliest_cr_line'].sample(5)"
   ]
  },
  {
   "cell_type": "code",
   "execution_count": null,
   "metadata": {
    "_uuid": "b368d43942f4a41d0ff62f9c72cb2a27a0ed6564",
    "execution": {
     "iopub.execute_input": "2020-12-12T08:48:10.472895Z",
     "iopub.status.busy": "2020-12-12T08:48:10.471834Z",
     "iopub.status.idle": "2020-12-12T08:48:10.479771Z",
     "shell.execute_reply": "2020-12-12T08:48:10.478312Z"
    },
    "papermill": {
     "duration": 0.41778,
     "end_time": "2020-12-12T08:48:10.479908",
     "exception": false,
     "start_time": "2020-12-12T08:48:10.062128",
     "status": "completed"
    },
    "tags": []
   },
   "outputs": [],
   "source": [
    "loans['earliest_cr_line'].isnull().any()"
   ]
  },
  {
   "cell_type": "markdown",
   "metadata": {
    "_uuid": "a65093e2c849dfbcb3942dcf1538511ae762c43b",
    "papermill": {
     "duration": 0.214121,
     "end_time": "2020-12-12T08:48:10.907925",
     "exception": false,
     "start_time": "2020-12-12T08:48:10.693804",
     "status": "completed"
    },
    "tags": []
   },
   "source": [
    "Let's just retain the year for simplicity:"
   ]
  },
  {
   "cell_type": "code",
   "execution_count": null,
   "metadata": {
    "_uuid": "f7d4f74c691db1539f7aa2cc092bdec390b9f932",
    "execution": {
     "iopub.execute_input": "2020-12-12T08:48:11.338839Z",
     "iopub.status.busy": "2020-12-12T08:48:11.338203Z",
     "iopub.status.idle": "2020-12-12T08:48:12.877579Z",
     "shell.execute_reply": "2020-12-12T08:48:12.878136Z"
    },
    "papermill": {
     "duration": 1.757138,
     "end_time": "2020-12-12T08:48:12.878270",
     "exception": false,
     "start_time": "2020-12-12T08:48:11.121132",
     "status": "completed"
    },
    "tags": []
   },
   "outputs": [],
   "source": [
    "loans['earliest_cr_line'] = loans['earliest_cr_line'].apply(lambda s: int(s[-4:]))"
   ]
  },
  {
   "cell_type": "code",
   "execution_count": null,
   "metadata": {
    "_uuid": "b9bcb63c0a4d56a32cca56ad70087621b4fff30a",
    "execution": {
     "iopub.execute_input": "2020-12-12T08:48:13.369787Z",
     "iopub.status.busy": "2020-12-12T08:48:13.368935Z",
     "iopub.status.idle": "2020-12-12T08:48:13.435645Z",
     "shell.execute_reply": "2020-12-12T08:48:13.436624Z"
    },
    "papermill": {
     "duration": 0.345358,
     "end_time": "2020-12-12T08:48:13.436858",
     "exception": false,
     "start_time": "2020-12-12T08:48:13.091500",
     "status": "completed"
    },
    "tags": []
   },
   "outputs": [],
   "source": [
    "loans['earliest_cr_line'].describe()"
   ]
  },
  {
   "cell_type": "code",
   "execution_count": null,
   "metadata": {
    "_uuid": "66d577854e7297a51ba2af177c34cb6dec848d01",
    "execution": {
     "iopub.execute_input": "2020-12-12T08:48:13.893395Z",
     "iopub.status.busy": "2020-12-12T08:48:13.892769Z",
     "iopub.status.idle": "2020-12-12T08:48:39.087118Z",
     "shell.execute_reply": "2020-12-12T08:48:39.087593Z"
    },
    "papermill": {
     "duration": 25.429099,
     "end_time": "2020-12-12T08:48:39.087726",
     "exception": false,
     "start_time": "2020-12-12T08:48:13.658627",
     "status": "completed"
    },
    "tags": []
   },
   "outputs": [],
   "source": [
    "plot_var('earliest_cr_line', 'Year of Earliest Credit Line', continuous=True)"
   ]
  },
  {
   "cell_type": "markdown",
   "metadata": {
    "_uuid": "73b64c59588aaa73dc3c9fefb228db448d96d066",
    "papermill": {
     "duration": 0.218661,
     "end_time": "2020-12-12T08:48:39.525698",
     "exception": false,
     "start_time": "2020-12-12T08:48:39.307037",
     "status": "completed"
    },
    "tags": []
   },
   "source": [
    "Borrowers who are charged-off tend to have shorter lines of credit."
   ]
  },
  {
   "cell_type": "markdown",
   "metadata": {
    "_uuid": "59b22cdd55c8c1033cacdf50467b87cc29a19ee8",
    "papermill": {
     "duration": 0.214639,
     "end_time": "2020-12-12T08:48:39.951949",
     "exception": false,
     "start_time": "2020-12-12T08:48:39.737310",
     "status": "completed"
    },
    "tags": []
   },
   "source": [
    "### 3.2.18 fico_range_low, fico_range_high"
   ]
  },
  {
   "cell_type": "markdown",
   "metadata": {
    "_uuid": "c8a60604c3106fa9e45e4f62c9b9f8b842a9dd25",
    "papermill": {
     "duration": 0.212087,
     "end_time": "2020-12-12T08:48:40.377114",
     "exception": false,
     "start_time": "2020-12-12T08:48:40.165027",
     "status": "completed"
    },
    "tags": []
   },
   "source": [
    "Data Dictionary for `fico_range_low`: \"The lower boundary range the borrower’s FICO at loan origination belongs to.\"\n",
    "\n",
    "Data Dictionary for `fico_range_high`: \"The upper boundary range the borrower’s FICO at loan origination belongs to.\""
   ]
  },
  {
   "cell_type": "code",
   "execution_count": null,
   "metadata": {
    "_uuid": "74036440410daa88235fb15f02ea106fb10734d2",
    "execution": {
     "iopub.execute_input": "2020-12-12T08:48:40.816910Z",
     "iopub.status.busy": "2020-12-12T08:48:40.814626Z",
     "iopub.status.idle": "2020-12-12T08:48:40.980680Z",
     "shell.execute_reply": "2020-12-12T08:48:40.980103Z"
    },
    "papermill": {
     "duration": 0.386475,
     "end_time": "2020-12-12T08:48:40.980798",
     "exception": false,
     "start_time": "2020-12-12T08:48:40.594323",
     "status": "completed"
    },
    "tags": []
   },
   "outputs": [],
   "source": [
    "loans[['fico_range_low', 'fico_range_high']].describe()"
   ]
  },
  {
   "cell_type": "markdown",
   "metadata": {
    "_uuid": "81cee266ca70b9cac8ea1a9fd1d44a9a4de3488f",
    "papermill": {
     "duration": 0.222653,
     "end_time": "2020-12-12T08:48:41.423776",
     "exception": false,
     "start_time": "2020-12-12T08:48:41.201123",
     "status": "completed"
    },
    "tags": []
   },
   "source": [
    "Check the Pearson correlation between these values:"
   ]
  },
  {
   "cell_type": "code",
   "execution_count": null,
   "metadata": {
    "_uuid": "55e633246efe6a4c48059c58b1a8e60acc6ef6a4",
    "execution": {
     "iopub.execute_input": "2020-12-12T08:48:41.864857Z",
     "iopub.status.busy": "2020-12-12T08:48:41.864274Z",
     "iopub.status.idle": "2020-12-12T08:48:41.911793Z",
     "shell.execute_reply": "2020-12-12T08:48:41.910997Z"
    },
    "papermill": {
     "duration": 0.271892,
     "end_time": "2020-12-12T08:48:41.911917",
     "exception": false,
     "start_time": "2020-12-12T08:48:41.640025",
     "status": "completed"
    },
    "tags": []
   },
   "outputs": [],
   "source": [
    "loans[['fico_range_low','fico_range_high']].corr()"
   ]
  },
  {
   "cell_type": "markdown",
   "metadata": {
    "_uuid": "fb77477acd26e22232c3ddd544b681600b4519c6",
    "papermill": {
     "duration": 0.308193,
     "end_time": "2020-12-12T08:48:42.543084",
     "exception": false,
     "start_time": "2020-12-12T08:48:42.234891",
     "status": "completed"
    },
    "tags": []
   },
   "source": [
    "We only need to keep one of the FICO scores. We'll take the average of the two and call it `fico_score`:"
   ]
  },
  {
   "cell_type": "code",
   "execution_count": null,
   "metadata": {
    "_uuid": "64ec73aa4353d3da3248938ac39207b08e8f7d99",
    "execution": {
     "iopub.execute_input": "2020-12-12T08:48:43.191181Z",
     "iopub.status.busy": "2020-12-12T08:48:43.190219Z",
     "iopub.status.idle": "2020-12-12T08:48:43.200463Z",
     "shell.execute_reply": "2020-12-12T08:48:43.199889Z"
    },
    "papermill": {
     "duration": 0.340522,
     "end_time": "2020-12-12T08:48:43.200580",
     "exception": false,
     "start_time": "2020-12-12T08:48:42.860058",
     "status": "completed"
    },
    "tags": []
   },
   "outputs": [],
   "source": [
    "loans['fico_score'] = 0.5*loans['fico_range_low'] + 0.5*loans['fico_range_high']"
   ]
  },
  {
   "cell_type": "code",
   "execution_count": null,
   "metadata": {
    "_uuid": "9daa47292046914f4ebfb665c094aa559d814127",
    "execution": {
     "iopub.execute_input": "2020-12-12T08:48:43.616146Z",
     "iopub.status.busy": "2020-12-12T08:48:43.615674Z",
     "iopub.status.idle": "2020-12-12T08:48:43.978858Z",
     "shell.execute_reply": "2020-12-12T08:48:43.978336Z"
    },
    "papermill": {
     "duration": 0.560978,
     "end_time": "2020-12-12T08:48:43.978990",
     "exception": false,
     "start_time": "2020-12-12T08:48:43.418012",
     "status": "completed"
    },
    "tags": []
   },
   "outputs": [],
   "source": [
    "loans.drop(['fico_range_high', 'fico_range_low'], axis=1, inplace=True)"
   ]
  },
  {
   "cell_type": "code",
   "execution_count": null,
   "metadata": {
    "_uuid": "eaee8c63add495c56290f00825ff3a0555f80b2e",
    "execution": {
     "iopub.execute_input": "2020-12-12T08:48:44.417445Z",
     "iopub.status.busy": "2020-12-12T08:48:44.411733Z",
     "iopub.status.idle": "2020-12-12T08:49:15.564181Z",
     "shell.execute_reply": "2020-12-12T08:49:15.564682Z"
    },
    "papermill": {
     "duration": 31.372042,
     "end_time": "2020-12-12T08:49:15.564810",
     "exception": false,
     "start_time": "2020-12-12T08:48:44.192768",
     "status": "completed"
    },
    "tags": []
   },
   "outputs": [],
   "source": [
    "plot_var('fico_score', 'FICO Score', continuous=True)"
   ]
  },
  {
   "cell_type": "markdown",
   "metadata": {
    "_uuid": "0b0558e604751c8f4d56a12f49b91b60dfdcade5",
    "papermill": {
     "duration": 0.21614,
     "end_time": "2020-12-12T08:49:15.996484",
     "exception": false,
     "start_time": "2020-12-12T08:49:15.780344",
     "status": "completed"
    },
    "tags": []
   },
   "source": [
    "There is a noticeable difference in FICO scores between fully paid and charged-off loans. Compare the summary statistics:"
   ]
  },
  {
   "cell_type": "code",
   "execution_count": null,
   "metadata": {
    "_uuid": "03f04196cdf3607455cfb9c1d936cc9185ee89e9",
    "execution": {
     "iopub.execute_input": "2020-12-12T08:49:16.446151Z",
     "iopub.status.busy": "2020-12-12T08:49:16.445530Z",
     "iopub.status.idle": "2020-12-12T08:49:16.762755Z",
     "shell.execute_reply": "2020-12-12T08:49:16.762163Z"
    },
    "papermill": {
     "duration": 0.540761,
     "end_time": "2020-12-12T08:49:16.762856",
     "exception": false,
     "start_time": "2020-12-12T08:49:16.222095",
     "status": "completed"
    },
    "tags": []
   },
   "outputs": [],
   "source": [
    "loans.groupby('loan_status')['fico_score'].describe()"
   ]
  },
  {
   "cell_type": "markdown",
   "metadata": {
    "_uuid": "f109939068ad7a2503992b507f086e2e08fd33c3",
    "papermill": {
     "duration": 0.218492,
     "end_time": "2020-12-12T08:49:17.202245",
     "exception": false,
     "start_time": "2020-12-12T08:49:16.983753",
     "status": "completed"
    },
    "tags": []
   },
   "source": [
    "Loans that charge off have a FICO score 10 points lower on average."
   ]
  },
  {
   "cell_type": "markdown",
   "metadata": {
    "_uuid": "9834eea5d0705d23012b9b48adfcc5e78e12f12e",
    "papermill": {
     "duration": 0.216891,
     "end_time": "2020-12-12T08:49:17.643800",
     "exception": false,
     "start_time": "2020-12-12T08:49:17.426909",
     "status": "completed"
    },
    "tags": []
   },
   "source": [
    "### 3.2.19 open_acc"
   ]
  },
  {
   "cell_type": "markdown",
   "metadata": {
    "_uuid": "bc134a0fd6e4104163a39d545393ccaae30b8225",
    "papermill": {
     "duration": 0.224022,
     "end_time": "2020-12-12T08:49:18.087726",
     "exception": false,
     "start_time": "2020-12-12T08:49:17.863704",
     "status": "completed"
    },
    "tags": []
   },
   "source": [
    "Data Dictionary: \"The number of open credit lines in the borrower's credit file.\""
   ]
  },
  {
   "cell_type": "code",
   "execution_count": null,
   "metadata": {
    "_uuid": "438b09f99afac6eabb6548c5cf99f818a25db3a4",
    "execution": {
     "iopub.execute_input": "2020-12-12T08:49:18.557252Z",
     "iopub.status.busy": "2020-12-12T08:49:18.556446Z",
     "iopub.status.idle": "2020-12-12T08:49:43.286947Z",
     "shell.execute_reply": "2020-12-12T08:49:43.286285Z"
    },
    "papermill": {
     "duration": 24.96395,
     "end_time": "2020-12-12T08:49:43.287110",
     "exception": false,
     "start_time": "2020-12-12T08:49:18.323160",
     "status": "completed"
    },
    "tags": []
   },
   "outputs": [],
   "source": [
    "plt.figure(figsize=(10,3), dpi=90)\n",
    "sns.countplot(loans['open_acc'], order=sorted(loans['open_acc'].unique()), color='#5975A4', saturation=1)\n",
    "_, _ = plt.xticks(np.arange(0, 90, 5), np.arange(0, 90, 5))\n",
    "plt.title('Number of Open Credit Lines')"
   ]
  },
  {
   "cell_type": "markdown",
   "metadata": {
    "_uuid": "f80b2f0a75554bd3a025cb6a58da77121a9279ee",
    "papermill": {
     "duration": 0.328447,
     "end_time": "2020-12-12T08:49:43.947169",
     "exception": false,
     "start_time": "2020-12-12T08:49:43.618722",
     "status": "completed"
    },
    "tags": []
   },
   "source": [
    "Is there a difference in number of credit lines between fully paid loans and charged-off loans?"
   ]
  },
  {
   "cell_type": "code",
   "execution_count": null,
   "metadata": {
    "_uuid": "a5f2f2f167bd0b736c8b62cd468dcd6e3d4c55f1",
    "execution": {
     "iopub.execute_input": "2020-12-12T08:49:44.643829Z",
     "iopub.status.busy": "2020-12-12T08:49:44.643232Z",
     "iopub.status.idle": "2020-12-12T08:49:44.911191Z",
     "shell.execute_reply": "2020-12-12T08:49:44.911708Z"
    },
    "papermill": {
     "duration": 0.63497,
     "end_time": "2020-12-12T08:49:44.911835",
     "exception": false,
     "start_time": "2020-12-12T08:49:44.276865",
     "status": "completed"
    },
    "tags": []
   },
   "outputs": [],
   "source": [
    "loans.groupby('loan_status')['open_acc'].describe()"
   ]
  },
  {
   "cell_type": "markdown",
   "metadata": {
    "_uuid": "c9bf815957b7e3304d4919a0f6b16fa7111eb41a",
    "papermill": {
     "duration": 0.223122,
     "end_time": "2020-12-12T08:49:45.357398",
     "exception": false,
     "start_time": "2020-12-12T08:49:45.134276",
     "status": "completed"
    },
    "tags": []
   },
   "source": [
    "### 3.2.20 pub_rec"
   ]
  },
  {
   "cell_type": "markdown",
   "metadata": {
    "_uuid": "43da4907b41831d1ddb9bdca1dd26f6c2c4eb816",
    "papermill": {
     "duration": 0.218009,
     "end_time": "2020-12-12T08:49:45.798860",
     "exception": false,
     "start_time": "2020-12-12T08:49:45.580851",
     "status": "completed"
    },
    "tags": []
   },
   "source": [
    "Data Dictionary: \"Number of derogatory public records.\""
   ]
  },
  {
   "cell_type": "code",
   "execution_count": null,
   "metadata": {
    "_uuid": "2b029d31eae519bbd88c70ea9de49669e18e0ea4",
    "execution": {
     "iopub.execute_input": "2020-12-12T08:49:46.239669Z",
     "iopub.status.busy": "2020-12-12T08:49:46.239041Z",
     "iopub.status.idle": "2020-12-12T08:49:46.261795Z",
     "shell.execute_reply": "2020-12-12T08:49:46.261208Z"
    },
    "papermill": {
     "duration": 0.240568,
     "end_time": "2020-12-12T08:49:46.261895",
     "exception": false,
     "start_time": "2020-12-12T08:49:46.021327",
     "status": "completed"
    },
    "scrolled": false,
    "tags": []
   },
   "outputs": [],
   "source": [
    "loans['pub_rec'].value_counts().sort_index()"
   ]
  },
  {
   "cell_type": "markdown",
   "metadata": {
    "_uuid": "d0475a68ce69b03a2c1072f50594123338888be3",
    "papermill": {
     "duration": 0.220494,
     "end_time": "2020-12-12T08:49:46.703639",
     "exception": false,
     "start_time": "2020-12-12T08:49:46.483145",
     "status": "completed"
    },
    "tags": []
   },
   "source": [
    "Is there a difference in average public records between fully paid loans and charged-off loans?"
   ]
  },
  {
   "cell_type": "code",
   "execution_count": null,
   "metadata": {
    "_uuid": "f599e72bff7b6c30c1a534266a9ce19a5ad5fea3",
    "execution": {
     "iopub.execute_input": "2020-12-12T08:49:47.179167Z",
     "iopub.status.busy": "2020-12-12T08:49:47.178536Z",
     "iopub.status.idle": "2020-12-12T08:49:47.430948Z",
     "shell.execute_reply": "2020-12-12T08:49:47.431598Z"
    },
    "papermill": {
     "duration": 0.509853,
     "end_time": "2020-12-12T08:49:47.431750",
     "exception": false,
     "start_time": "2020-12-12T08:49:46.921897",
     "status": "completed"
    },
    "tags": []
   },
   "outputs": [],
   "source": [
    "loans.groupby('loan_status')['pub_rec'].describe()"
   ]
  },
  {
   "cell_type": "markdown",
   "metadata": {
    "_uuid": "9700f45aac9e053fc5600f3bb384a99d694d23a4",
    "papermill": {
     "duration": 0.223383,
     "end_time": "2020-12-12T08:49:47.878477",
     "exception": false,
     "start_time": "2020-12-12T08:49:47.655094",
     "status": "completed"
    },
    "tags": []
   },
   "source": [
    "### 3.2.21 revol_bal"
   ]
  },
  {
   "cell_type": "markdown",
   "metadata": {
    "_uuid": "bc84556ef86591e0a1cdf14013962abf24a4a8e7",
    "papermill": {
     "duration": 0.223924,
     "end_time": "2020-12-12T08:49:48.326062",
     "exception": false,
     "start_time": "2020-12-12T08:49:48.102138",
     "status": "completed"
    },
    "tags": []
   },
   "source": [
    "Data Dictionary: \"Total credit revolving balance.\""
   ]
  },
  {
   "cell_type": "code",
   "execution_count": null,
   "metadata": {
    "_uuid": "a9df59d86d2a75fbf7c3da95ab9f2a51e89f8075",
    "execution": {
     "iopub.execute_input": "2020-12-12T08:49:48.780198Z",
     "iopub.status.busy": "2020-12-12T08:49:48.779106Z",
     "iopub.status.idle": "2020-12-12T08:49:48.863010Z",
     "shell.execute_reply": "2020-12-12T08:49:48.862320Z"
    },
    "papermill": {
     "duration": 0.310464,
     "end_time": "2020-12-12T08:49:48.863126",
     "exception": false,
     "start_time": "2020-12-12T08:49:48.552662",
     "status": "completed"
    },
    "tags": []
   },
   "outputs": [],
   "source": [
    "loans['revol_bal'].describe()"
   ]
  },
  {
   "cell_type": "markdown",
   "metadata": {
    "_uuid": "a28e0e941e50bc1a8516387a679705acb9e1e891",
    "papermill": {
     "duration": 0.227342,
     "end_time": "2020-12-12T08:49:49.313484",
     "exception": false,
     "start_time": "2020-12-12T08:49:49.086142",
     "status": "completed"
    },
    "tags": []
   },
   "source": [
    "Do a log transform:"
   ]
  },
  {
   "cell_type": "code",
   "execution_count": null,
   "metadata": {
    "_uuid": "f5393f6fe924e4b85e862ca72ed3bfc707f5ae75",
    "execution": {
     "iopub.execute_input": "2020-12-12T08:49:49.798798Z",
     "iopub.status.busy": "2020-12-12T08:49:49.798199Z",
     "iopub.status.idle": "2020-12-12T08:49:53.865293Z",
     "shell.execute_reply": "2020-12-12T08:49:53.865780Z"
    },
    "papermill": {
     "duration": 4.294921,
     "end_time": "2020-12-12T08:49:53.865921",
     "exception": false,
     "start_time": "2020-12-12T08:49:49.571000",
     "status": "completed"
    },
    "tags": []
   },
   "outputs": [],
   "source": [
    "loans['log_revol_bal'] = loans['revol_bal'].apply(lambda x: np.log10(x+1))"
   ]
  },
  {
   "cell_type": "code",
   "execution_count": null,
   "metadata": {
    "_uuid": "6f8271c84321617c80ec76a40cb5eb2d52e54770",
    "execution": {
     "iopub.execute_input": "2020-12-12T08:49:54.314128Z",
     "iopub.status.busy": "2020-12-12T08:49:54.313477Z",
     "iopub.status.idle": "2020-12-12T08:49:54.675198Z",
     "shell.execute_reply": "2020-12-12T08:49:54.674527Z"
    },
    "papermill": {
     "duration": 0.587425,
     "end_time": "2020-12-12T08:49:54.675305",
     "exception": false,
     "start_time": "2020-12-12T08:49:54.087880",
     "status": "completed"
    },
    "tags": []
   },
   "outputs": [],
   "source": [
    "loans.drop('revol_bal', axis=1, inplace=True)"
   ]
  },
  {
   "cell_type": "code",
   "execution_count": null,
   "metadata": {
    "_uuid": "6c6faec593b7f4c891738461d379991c2ebf8e7d",
    "execution": {
     "iopub.execute_input": "2020-12-12T08:49:55.400107Z",
     "iopub.status.busy": "2020-12-12T08:49:55.396639Z",
     "iopub.status.idle": "2020-12-12T08:50:28.598677Z",
     "shell.execute_reply": "2020-12-12T08:50:28.599234Z"
    },
    "papermill": {
     "duration": 33.558866,
     "end_time": "2020-12-12T08:50:28.599365",
     "exception": false,
     "start_time": "2020-12-12T08:49:55.040499",
     "status": "completed"
    },
    "tags": []
   },
   "outputs": [],
   "source": [
    "plot_var('log_revol_bal', 'Log Revolving Credit Balance', continuous=True)"
   ]
  },
  {
   "cell_type": "code",
   "execution_count": null,
   "metadata": {
    "_uuid": "14c0ad7c138276198f43312d9dc32ffd3e93de5a",
    "execution": {
     "iopub.execute_input": "2020-12-12T08:50:29.085369Z",
     "iopub.status.busy": "2020-12-12T08:50:29.084498Z",
     "iopub.status.idle": "2020-12-12T08:50:29.346949Z",
     "shell.execute_reply": "2020-12-12T08:50:29.347678Z"
    },
    "papermill": {
     "duration": 0.525176,
     "end_time": "2020-12-12T08:50:29.347831",
     "exception": false,
     "start_time": "2020-12-12T08:50:28.822655",
     "status": "completed"
    },
    "tags": []
   },
   "outputs": [],
   "source": [
    "loans.groupby('loan_status')['log_revol_bal'].describe()"
   ]
  },
  {
   "cell_type": "markdown",
   "metadata": {
    "_uuid": "777861b73161a134ea46fd518adcf090af59891c",
    "papermill": {
     "duration": 0.328572,
     "end_time": "2020-12-12T08:50:30.013355",
     "exception": false,
     "start_time": "2020-12-12T08:50:29.684783",
     "status": "completed"
    },
    "tags": []
   },
   "source": [
    "There isn't a large difference in the means."
   ]
  },
  {
   "cell_type": "markdown",
   "metadata": {
    "_uuid": "274ad58c32460e96c0cda63756245feb5a3c5636",
    "papermill": {
     "duration": 0.224053,
     "end_time": "2020-12-12T08:50:30.460055",
     "exception": false,
     "start_time": "2020-12-12T08:50:30.236002",
     "status": "completed"
    },
    "tags": []
   },
   "source": [
    "### 3.2.22 revol_util"
   ]
  },
  {
   "cell_type": "markdown",
   "metadata": {
    "_uuid": "06b12ab73f8a7ef9e6855f7580d990126f2e77d7",
    "papermill": {
     "duration": 0.159753,
     "end_time": "2020-12-12T08:50:30.786667",
     "exception": false,
     "start_time": "2020-12-12T08:50:30.626914",
     "status": "completed"
    },
    "tags": []
   },
   "source": [
    "Data Dictionary: \"Revolving line utilization rate, or the amount of credit the borrower is using relative to all available revolving credit.\""
   ]
  },
  {
   "cell_type": "code",
   "execution_count": null,
   "metadata": {
    "execution": {
     "iopub.execute_input": "2020-12-12T08:50:31.111756Z",
     "iopub.status.busy": "2020-12-12T08:50:31.110503Z",
     "iopub.status.idle": "2020-12-12T08:50:32.795640Z",
     "shell.execute_reply": "2020-12-12T08:50:32.795023Z"
    },
    "papermill": {
     "duration": 1.848885,
     "end_time": "2020-12-12T08:50:32.795743",
     "exception": false,
     "start_time": "2020-12-12T08:50:30.946858",
     "status": "completed"
    },
    "tags": []
   },
   "outputs": [],
   "source": [
    "# Let's remove % percent sign from `revol_util` and convert it into `float`\n",
    "loans.revol_util = loans.revol_util.map(lambda x: str(x).replace('%','')).astype(np.float64)\n",
    "loans['revol_util'].head()"
   ]
  },
  {
   "cell_type": "code",
   "execution_count": null,
   "metadata": {
    "_uuid": "82b93a10a26ac401f29d8a0c26360f19270513e0",
    "execution": {
     "iopub.execute_input": "2020-12-12T08:50:33.253631Z",
     "iopub.status.busy": "2020-12-12T08:50:33.252756Z",
     "iopub.status.idle": "2020-12-12T08:50:33.325038Z",
     "shell.execute_reply": "2020-12-12T08:50:33.324295Z"
    },
    "papermill": {
     "duration": 0.301537,
     "end_time": "2020-12-12T08:50:33.325191",
     "exception": false,
     "start_time": "2020-12-12T08:50:33.023654",
     "status": "completed"
    },
    "tags": []
   },
   "outputs": [],
   "source": [
    "loans['revol_util'].describe()"
   ]
  },
  {
   "cell_type": "code",
   "execution_count": null,
   "metadata": {
    "_uuid": "930efc10b857a727a814ea87288ce1c83a6ca87c",
    "execution": {
     "iopub.execute_input": "2020-12-12T08:50:34.015469Z",
     "iopub.status.busy": "2020-12-12T08:50:34.014602Z",
     "iopub.status.idle": "2020-12-12T08:51:00.071165Z",
     "shell.execute_reply": "2020-12-12T08:51:00.069838Z"
    },
    "papermill": {
     "duration": 26.406039,
     "end_time": "2020-12-12T08:51:00.071303",
     "exception": false,
     "start_time": "2020-12-12T08:50:33.665264",
     "status": "completed"
    },
    "tags": []
   },
   "outputs": [],
   "source": [
    "plot_var('revol_util', 'Revolving Line Utilization', continuous=True)"
   ]
  },
  {
   "cell_type": "code",
   "execution_count": null,
   "metadata": {
    "_uuid": "e4654724c59ce71ca5ec446808316fed38290e29",
    "execution": {
     "iopub.execute_input": "2020-12-12T08:51:00.630097Z",
     "iopub.status.busy": "2020-12-12T08:51:00.629231Z",
     "iopub.status.idle": "2020-12-12T08:51:00.893179Z",
     "shell.execute_reply": "2020-12-12T08:51:00.892395Z"
    },
    "papermill": {
     "duration": 0.59089,
     "end_time": "2020-12-12T08:51:00.893306",
     "exception": false,
     "start_time": "2020-12-12T08:51:00.302416",
     "status": "completed"
    },
    "tags": []
   },
   "outputs": [],
   "source": [
    "loans.groupby('loan_status')['revol_util'].describe()"
   ]
  },
  {
   "cell_type": "markdown",
   "metadata": {
    "_uuid": "599986b31222b7e3a70ce696ef97fa594b58b791",
    "papermill": {
     "duration": 0.34295,
     "end_time": "2020-12-12T08:51:01.574379",
     "exception": false,
     "start_time": "2020-12-12T08:51:01.231429",
     "status": "completed"
    },
    "tags": []
   },
   "source": [
    "### 3.2.23 total_acc"
   ]
  },
  {
   "cell_type": "markdown",
   "metadata": {
    "_uuid": "78693b367060c9cbc60843086b92b9b259f75637",
    "papermill": {
     "duration": 0.344686,
     "end_time": "2020-12-12T08:51:02.257749",
     "exception": false,
     "start_time": "2020-12-12T08:51:01.913063",
     "status": "completed"
    },
    "tags": []
   },
   "source": [
    "Data Dictionary: \"The total number of credit lines currently in the borrower's credit file.\""
   ]
  },
  {
   "cell_type": "code",
   "execution_count": null,
   "metadata": {
    "_uuid": "ba530c2e2f0c0b16189414805e9f4faf6425b322",
    "execution": {
     "iopub.execute_input": "2020-12-12T08:51:03.029741Z",
     "iopub.status.busy": "2020-12-12T08:51:03.028938Z",
     "iopub.status.idle": "2020-12-12T08:51:34.474488Z",
     "shell.execute_reply": "2020-12-12T08:51:34.475160Z"
    },
    "papermill": {
     "duration": 31.871294,
     "end_time": "2020-12-12T08:51:34.475336",
     "exception": false,
     "start_time": "2020-12-12T08:51:02.604042",
     "status": "completed"
    },
    "tags": []
   },
   "outputs": [],
   "source": [
    "plt.figure(figsize=(12,3), dpi=90)\n",
    "sns.countplot(loans['total_acc'], order=sorted(loans['total_acc'].unique()), color='#5975A4', saturation=1)\n",
    "_, _ = plt.xticks(np.arange(0, 176, 10), np.arange(0, 176, 10))\n",
    "plt.title('Total Number of Credit Lines')"
   ]
  },
  {
   "cell_type": "code",
   "execution_count": null,
   "metadata": {
    "_uuid": "1ffdc791ddadb0bde1b7dced82d4b9c3d1bef74c",
    "execution": {
     "iopub.execute_input": "2020-12-12T08:51:35.172522Z",
     "iopub.status.busy": "2020-12-12T08:51:35.171704Z",
     "iopub.status.idle": "2020-12-12T08:51:35.477862Z",
     "shell.execute_reply": "2020-12-12T08:51:35.478518Z"
    },
    "papermill": {
     "duration": 0.655494,
     "end_time": "2020-12-12T08:51:35.478689",
     "exception": false,
     "start_time": "2020-12-12T08:51:34.823195",
     "status": "completed"
    },
    "tags": []
   },
   "outputs": [],
   "source": [
    "loans.groupby('loan_status')['total_acc'].describe()"
   ]
  },
  {
   "cell_type": "markdown",
   "metadata": {
    "_uuid": "a55ac61ba08221393359b2204e5786d1078eb113",
    "papermill": {
     "duration": 0.261458,
     "end_time": "2020-12-12T08:51:36.084661",
     "exception": false,
     "start_time": "2020-12-12T08:51:35.823203",
     "status": "completed"
    },
    "tags": []
   },
   "source": [
    "No large differences here."
   ]
  },
  {
   "cell_type": "markdown",
   "metadata": {
    "_cell_guid": "57408b52-70fd-4a45-b5bb-12f0c2612190",
    "_uuid": "2a671f42515e7c4727430a48e6163c6f77801275",
    "papermill": {
     "duration": 0.227216,
     "end_time": "2020-12-12T08:51:36.539680",
     "exception": false,
     "start_time": "2020-12-12T08:51:36.312464",
     "status": "completed"
    },
    "tags": []
   },
   "source": [
    "### 3.2.24 initial_list_status"
   ]
  },
  {
   "cell_type": "markdown",
   "metadata": {
    "_uuid": "b570aeb10d835dbf719bc47ffc02db4cd8ac720f",
    "papermill": {
     "duration": 0.234962,
     "end_time": "2020-12-12T08:51:36.951091",
     "exception": false,
     "start_time": "2020-12-12T08:51:36.716129",
     "status": "completed"
    },
    "tags": []
   },
   "source": [
    "Data Dictionary: \"The initial listing status of the loan. Possible values are – W, F.\" I'm not sure what this means."
   ]
  },
  {
   "cell_type": "code",
   "execution_count": null,
   "metadata": {
    "_uuid": "0b3696c284b62470ecabcec5b5d4013d525caf9f",
    "execution": {
     "iopub.execute_input": "2020-12-12T08:51:37.416160Z",
     "iopub.status.busy": "2020-12-12T08:51:37.415507Z",
     "iopub.status.idle": "2020-12-12T08:52:01.895601Z",
     "shell.execute_reply": "2020-12-12T08:52:01.896518Z"
    },
    "papermill": {
     "duration": 24.712055,
     "end_time": "2020-12-12T08:52:01.896688",
     "exception": false,
     "start_time": "2020-12-12T08:51:37.184633",
     "status": "completed"
    },
    "tags": []
   },
   "outputs": [],
   "source": [
    "plot_var('initial_list_status', 'Initial List Status', continuous=False)"
   ]
  },
  {
   "cell_type": "markdown",
   "metadata": {
    "_cell_guid": "b34ab6cc-0a3f-4780-a234-743b9d406dca",
    "_uuid": "77b5eba4a13bd157c68f522ab8002094bb8b456d",
    "papermill": {
     "duration": 0.351332,
     "end_time": "2020-12-12T08:52:02.593993",
     "exception": false,
     "start_time": "2020-12-12T08:52:02.242661",
     "status": "completed"
    },
    "tags": []
   },
   "source": [
    "### 3.2.25 application_type"
   ]
  },
  {
   "cell_type": "markdown",
   "metadata": {
    "_uuid": "bff95bd7fbb026125207073d8a637e01db86b510",
    "papermill": {
     "duration": 0.347054,
     "end_time": "2020-12-12T08:52:03.284426",
     "exception": false,
     "start_time": "2020-12-12T08:52:02.937372",
     "status": "completed"
    },
    "tags": []
   },
   "source": [
    "Data Dictionary: \"Indicates whether the loan is an individual application or a joint application with two co-borrowers.\""
   ]
  },
  {
   "cell_type": "code",
   "execution_count": null,
   "metadata": {
    "_cell_guid": "0fc4f079-695a-49e9-abac-05bf841bd9e5",
    "_uuid": "afc3918d6aa0db8f5ddeab49d17359155db1376d",
    "execution": {
     "iopub.execute_input": "2020-12-12T08:52:04.495848Z",
     "iopub.status.busy": "2020-12-12T08:52:04.494875Z",
     "iopub.status.idle": "2020-12-12T08:52:04.505121Z",
     "shell.execute_reply": "2020-12-12T08:52:04.503563Z"
    },
    "papermill": {
     "duration": 0.871569,
     "end_time": "2020-12-12T08:52:04.505232",
     "exception": false,
     "start_time": "2020-12-12T08:52:03.633663",
     "status": "completed"
    },
    "tags": []
   },
   "outputs": [],
   "source": [
    "loans['application_type'].value_counts()"
   ]
  },
  {
   "cell_type": "markdown",
   "metadata": {
    "_uuid": "726d40ca553d1b83fa358fc2b622285af6672aa2",
    "papermill": {
     "duration": 0.246553,
     "end_time": "2020-12-12T08:52:04.996003",
     "exception": false,
     "start_time": "2020-12-12T08:52:04.749450",
     "status": "completed"
    },
    "tags": []
   },
   "source": [
    "Let's just compare the charge-off rates by application type:"
   ]
  },
  {
   "cell_type": "code",
   "execution_count": null,
   "metadata": {
    "_uuid": "a7f9652dc12bbd0c83c0e549e869adf992a79fbd",
    "execution": {
     "iopub.execute_input": "2020-12-12T08:52:05.602917Z",
     "iopub.status.busy": "2020-12-12T08:52:05.538757Z",
     "iopub.status.idle": "2020-12-12T08:52:05.937440Z",
     "shell.execute_reply": "2020-12-12T08:52:05.936490Z"
    },
    "papermill": {
     "duration": 0.69954,
     "end_time": "2020-12-12T08:52:05.937582",
     "exception": false,
     "start_time": "2020-12-12T08:52:05.238042",
     "status": "completed"
    },
    "tags": []
   },
   "outputs": [],
   "source": [
    "loans.groupby('application_type')['loan_status'].value_counts(normalize=True).loc[:,'Charged Off']"
   ]
  },
  {
   "cell_type": "markdown",
   "metadata": {
    "_uuid": "31551940d109ad9c98080bffa261b50ae75472da",
    "papermill": {
     "duration": 0.344459,
     "end_time": "2020-12-12T08:52:06.632660",
     "exception": false,
     "start_time": "2020-12-12T08:52:06.288201",
     "status": "completed"
    },
    "tags": []
   },
   "source": [
    "Joint loans are slightly less likely to be charged-off."
   ]
  },
  {
   "cell_type": "markdown",
   "metadata": {
    "_uuid": "36d0be89d6a28c1a2b9c2ab2d107a6a753813399",
    "papermill": {
     "duration": 0.348137,
     "end_time": "2020-12-12T08:52:07.326039",
     "exception": false,
     "start_time": "2020-12-12T08:52:06.977902",
     "status": "completed"
    },
    "tags": []
   },
   "source": [
    "### 3.2.26 mort_acc"
   ]
  },
  {
   "cell_type": "markdown",
   "metadata": {
    "_uuid": "c59b7d73342ddfc3f69ec292101ef17dc0571c1b",
    "papermill": {
     "duration": 0.347484,
     "end_time": "2020-12-12T08:52:08.027433",
     "exception": false,
     "start_time": "2020-12-12T08:52:07.679949",
     "status": "completed"
    },
    "tags": []
   },
   "source": [
    "Data Dictionary: \"Number of mortgage accounts.\""
   ]
  },
  {
   "cell_type": "code",
   "execution_count": null,
   "metadata": {
    "_uuid": "d57da17ada8a190fdba31674991dc0330e8c7afc",
    "execution": {
     "iopub.execute_input": "2020-12-12T08:52:08.728794Z",
     "iopub.status.busy": "2020-12-12T08:52:08.727923Z",
     "iopub.status.idle": "2020-12-12T08:52:08.806319Z",
     "shell.execute_reply": "2020-12-12T08:52:08.805751Z"
    },
    "papermill": {
     "duration": 0.432355,
     "end_time": "2020-12-12T08:52:08.806433",
     "exception": false,
     "start_time": "2020-12-12T08:52:08.374078",
     "status": "completed"
    },
    "tags": []
   },
   "outputs": [],
   "source": [
    "loans['mort_acc'].describe()"
   ]
  },
  {
   "cell_type": "markdown",
   "metadata": {
    "_uuid": "6a68f75f3813a814aabca8bf4816042e0f90315b",
    "papermill": {
     "duration": 0.234342,
     "end_time": "2020-12-12T08:52:09.274550",
     "exception": false,
     "start_time": "2020-12-12T08:52:09.040208",
     "status": "completed"
    },
    "tags": []
   },
   "source": [
    "Not sure how someone can have 51 mortgage accounts...but apparently they do. Check the top 10 values:"
   ]
  },
  {
   "cell_type": "code",
   "execution_count": null,
   "metadata": {
    "_uuid": "230c26b2c068f72bfac412378fd4fc61302e5a81",
    "execution": {
     "iopub.execute_input": "2020-12-12T08:52:09.740227Z",
     "iopub.status.busy": "2020-12-12T08:52:09.739557Z",
     "iopub.status.idle": "2020-12-12T08:52:09.783601Z",
     "shell.execute_reply": "2020-12-12T08:52:09.782979Z"
    },
    "papermill": {
     "duration": 0.278559,
     "end_time": "2020-12-12T08:52:09.783702",
     "exception": false,
     "start_time": "2020-12-12T08:52:09.505143",
     "status": "completed"
    },
    "tags": []
   },
   "outputs": [],
   "source": [
    "loans['mort_acc'].value_counts().head(10)"
   ]
  },
  {
   "cell_type": "code",
   "execution_count": null,
   "metadata": {
    "execution": {
     "iopub.execute_input": "2020-12-12T08:52:10.256071Z",
     "iopub.status.busy": "2020-12-12T08:52:10.255418Z",
     "iopub.status.idle": "2020-12-12T08:52:10.800679Z",
     "shell.execute_reply": "2020-12-12T08:52:10.800052Z"
    },
    "papermill": {
     "duration": 0.786503,
     "end_time": "2020-12-12T08:52:10.800785",
     "exception": false,
     "start_time": "2020-12-12T08:52:10.014282",
     "status": "completed"
    },
    "tags": []
   },
   "outputs": [],
   "source": [
    "total_acc_avg = loans.groupby('total_acc').mean()['mort_acc'].fillna(0)\n",
    "\n",
    "def fill_mort_acc(total_acc,mort_acc):\n",
    "    '''\n",
    "    Accepts the total_acc and mort_acc values for the row.\n",
    "    Checks if the mort_acc is NaN , if so, it returns the avg mort_acc value\n",
    "    for the corresponding total_acc value for that row.\n",
    "    \n",
    "    total_acc_avg here should be a Series or dictionary containing the mapping of the\n",
    "    groupby averages of mort_acc per total_acc values.\n",
    "    '''\n",
    "    if mort_acc>=0:\n",
    "        return total_acc_avg[total_acc]\n",
    "    else:\n",
    "        return mort_acc"
   ]
  },
  {
   "cell_type": "code",
   "execution_count": null,
   "metadata": {
    "execution": {
     "iopub.execute_input": "2020-12-12T08:52:11.276084Z",
     "iopub.status.busy": "2020-12-12T08:52:11.275481Z",
     "iopub.status.idle": "2020-12-12T08:53:07.611672Z",
     "shell.execute_reply": "2020-12-12T08:53:07.611048Z"
    },
    "papermill": {
     "duration": 56.580929,
     "end_time": "2020-12-12T08:53:07.611777",
     "exception": false,
     "start_time": "2020-12-12T08:52:11.030848",
     "status": "completed"
    },
    "tags": []
   },
   "outputs": [],
   "source": [
    "loans['mort_acc'] = loans.apply(lambda x: fill_mort_acc(x['total_acc'], x['mort_acc']), axis=1)"
   ]
  },
  {
   "cell_type": "markdown",
   "metadata": {
    "_uuid": "e3c50701da3ef25a6995ac5ae9d5852d6fcf5e42",
    "papermill": {
     "duration": 0.265992,
     "end_time": "2020-12-12T08:53:08.110283",
     "exception": false,
     "start_time": "2020-12-12T08:53:07.844291",
     "status": "completed"
    },
    "tags": []
   },
   "source": [
    "Compare the summary statistics by loan status:"
   ]
  },
  {
   "cell_type": "code",
   "execution_count": null,
   "metadata": {
    "_uuid": "ca421be234db5b0a65e91607958241e389c1c5a2",
    "execution": {
     "iopub.execute_input": "2020-12-12T08:53:08.688219Z",
     "iopub.status.busy": "2020-12-12T08:53:08.687539Z",
     "iopub.status.idle": "2020-12-12T08:53:08.900671Z",
     "shell.execute_reply": "2020-12-12T08:53:08.900081Z"
    },
    "papermill": {
     "duration": 0.556394,
     "end_time": "2020-12-12T08:53:08.900784",
     "exception": false,
     "start_time": "2020-12-12T08:53:08.344390",
     "status": "completed"
    },
    "tags": []
   },
   "outputs": [],
   "source": [
    "loans.groupby('loan_status')['mort_acc'].describe()"
   ]
  },
  {
   "cell_type": "markdown",
   "metadata": {
    "_uuid": "623e07fbc94d998879913ddea49abadb458e0f9e",
    "papermill": {
     "duration": 0.240668,
     "end_time": "2020-12-12T08:53:09.375238",
     "exception": false,
     "start_time": "2020-12-12T08:53:09.134570",
     "status": "completed"
    },
    "tags": []
   },
   "source": [
    "Individuals who pay off their loans are more likely to have several mortgage accounts."
   ]
  },
  {
   "cell_type": "markdown",
   "metadata": {
    "_uuid": "66fbd303b48b42cfa07cf82e4eb84c8ea48c5e25",
    "papermill": {
     "duration": 0.24386,
     "end_time": "2020-12-12T08:53:09.858057",
     "exception": false,
     "start_time": "2020-12-12T08:53:09.614197",
     "status": "completed"
    },
    "tags": []
   },
   "source": [
    "### 3.2.27 pub_rec_bankruptcies"
   ]
  },
  {
   "cell_type": "markdown",
   "metadata": {
    "_uuid": "a358a17d05c11b6036361de7c716fc450af487d3",
    "papermill": {
     "duration": 0.240408,
     "end_time": "2020-12-12T08:53:10.343682",
     "exception": false,
     "start_time": "2020-12-12T08:53:10.103274",
     "status": "completed"
    },
    "tags": []
   },
   "source": [
    "Data Dictionary: \"Number of public record bankruptcies.\""
   ]
  },
  {
   "cell_type": "code",
   "execution_count": null,
   "metadata": {
    "_uuid": "c2e3ebafc34f79fb222378381779aebee88fb594",
    "execution": {
     "iopub.execute_input": "2020-12-12T08:53:10.820991Z",
     "iopub.status.busy": "2020-12-12T08:53:10.820331Z",
     "iopub.status.idle": "2020-12-12T08:53:10.847143Z",
     "shell.execute_reply": "2020-12-12T08:53:10.846608Z"
    },
    "papermill": {
     "duration": 0.268506,
     "end_time": "2020-12-12T08:53:10.847244",
     "exception": false,
     "start_time": "2020-12-12T08:53:10.578738",
     "status": "completed"
    },
    "tags": []
   },
   "outputs": [],
   "source": [
    "loans['pub_rec_bankruptcies'].value_counts().sort_index()"
   ]
  },
  {
   "cell_type": "code",
   "execution_count": null,
   "metadata": {
    "_uuid": "eb7bd6823a5d5ab02a03a82d199a0afa86327742",
    "execution": {
     "iopub.execute_input": "2020-12-12T08:53:11.349559Z",
     "iopub.status.busy": "2020-12-12T08:53:11.348910Z",
     "iopub.status.idle": "2020-12-12T08:53:37.582422Z",
     "shell.execute_reply": "2020-12-12T08:53:37.581807Z"
    },
    "papermill": {
     "duration": 26.501668,
     "end_time": "2020-12-12T08:53:37.582539",
     "exception": false,
     "start_time": "2020-12-12T08:53:11.080871",
     "status": "completed"
    },
    "tags": []
   },
   "outputs": [],
   "source": [
    "plot_var('pub_rec_bankruptcies', 'Public Record Bankruptcies', continuous=False)"
   ]
  },
  {
   "cell_type": "markdown",
   "metadata": {
    "_uuid": "48df80a32f50b9e4fd2fb6d17c16882bbef2a272",
    "papermill": {
     "duration": 0.239497,
     "end_time": "2020-12-12T08:53:38.058789",
     "exception": false,
     "start_time": "2020-12-12T08:53:37.819292",
     "status": "completed"
    },
    "tags": []
   },
   "source": [
    "<a id=\"4\"></a>\n",
    "# 4. More Pre-processing"
   ]
  },
  {
   "cell_type": "markdown",
   "metadata": {
    "_uuid": "5c5d46ae7fa6b3e2596d2174278a9ecb413b32f2",
    "papermill": {
     "duration": 0.240458,
     "end_time": "2020-12-12T08:53:38.539047",
     "exception": false,
     "start_time": "2020-12-12T08:53:38.298589",
     "status": "completed"
    },
    "tags": []
   },
   "source": [
    "<a id=\"4.1\"></a>\n",
    "## 4.1 Convert loan status to 0/1 charge-off indicator"
   ]
  },
  {
   "cell_type": "markdown",
   "metadata": {
    "_uuid": "0247c5eb2bf19c3c8b85ae2a377fddb796898832",
    "papermill": {
     "duration": 0.234968,
     "end_time": "2020-12-12T08:53:39.010595",
     "exception": false,
     "start_time": "2020-12-12T08:53:38.775627",
     "status": "completed"
    },
    "tags": []
   },
   "source": [
    "Change the response variable `loan_status` to a 0/1 variable, where 0 indicates fully paid and 1 indicates charge-off:"
   ]
  },
  {
   "cell_type": "code",
   "execution_count": null,
   "metadata": {
    "_uuid": "c32e2cafd777d4b0ea59df465d63caa424c92e99",
    "execution": {
     "iopub.execute_input": "2020-12-12T08:53:39.561678Z",
     "iopub.status.busy": "2020-12-12T08:53:39.561037Z",
     "iopub.status.idle": "2020-12-12T08:53:41.480688Z",
     "shell.execute_reply": "2020-12-12T08:53:41.481273Z"
    },
    "papermill": {
     "duration": 2.236633,
     "end_time": "2020-12-12T08:53:41.481415",
     "exception": false,
     "start_time": "2020-12-12T08:53:39.244782",
     "status": "completed"
    },
    "tags": []
   },
   "outputs": [],
   "source": [
    "loans['charged_off'] = (loans['loan_status'] == 'Charged Off').apply(np.uint8)\n",
    "loans.drop('loan_status', axis=1, inplace=True)"
   ]
  },
  {
   "cell_type": "code",
   "execution_count": null,
   "metadata": {
    "execution": {
     "iopub.execute_input": "2020-12-12T08:53:41.960411Z",
     "iopub.status.busy": "2020-12-12T08:53:41.959769Z",
     "iopub.status.idle": "2020-12-12T08:53:43.251078Z",
     "shell.execute_reply": "2020-12-12T08:53:43.251563Z"
    },
    "papermill": {
     "duration": 1.532025,
     "end_time": "2020-12-12T08:53:43.251735",
     "exception": false,
     "start_time": "2020-12-12T08:53:41.719710",
     "status": "completed"
    },
    "tags": []
   },
   "outputs": [],
   "source": [
    "loans = loans.dropna().reset_index(drop=True)"
   ]
  },
  {
   "cell_type": "markdown",
   "metadata": {
    "_uuid": "e1a009f88678ed738dd4babd0739c1bbffa313ca",
    "papermill": {
     "duration": 0.237076,
     "end_time": "2020-12-12T08:53:43.729138",
     "exception": false,
     "start_time": "2020-12-12T08:53:43.492062",
     "status": "completed"
    },
    "tags": []
   },
   "source": [
    "<a id=\"4.2\"></a>\n",
    "## 4.2 Create dummy variables"
   ]
  },
  {
   "cell_type": "markdown",
   "metadata": {
    "_uuid": "3fab723da1b9d7ac6ce5e47bd94106084415d26d",
    "papermill": {
     "duration": 0.371591,
     "end_time": "2020-12-12T08:53:44.428054",
     "exception": false,
     "start_time": "2020-12-12T08:53:44.056463",
     "status": "completed"
    },
    "tags": []
   },
   "source": [
    "How many variables do we currently have?"
   ]
  },
  {
   "cell_type": "code",
   "execution_count": null,
   "metadata": {
    "_uuid": "4b06bb284d909ebb9d8d1379449dcb823eb836b4",
    "execution": {
     "iopub.execute_input": "2020-12-12T08:53:44.838592Z",
     "iopub.status.busy": "2020-12-12T08:53:44.838176Z",
     "iopub.status.idle": "2020-12-12T08:53:44.840987Z",
     "shell.execute_reply": "2020-12-12T08:53:44.841397Z"
    },
    "papermill": {
     "duration": 0.174925,
     "end_time": "2020-12-12T08:53:44.841482",
     "exception": false,
     "start_time": "2020-12-12T08:53:44.666557",
     "status": "completed"
    },
    "tags": []
   },
   "outputs": [],
   "source": [
    "loans.shape"
   ]
  },
  {
   "cell_type": "markdown",
   "metadata": {
    "_uuid": "64ae9a25aac69e02473e8f085dd047beb49c337d",
    "papermill": {
     "duration": 0.235658,
     "end_time": "2020-12-12T08:53:45.287599",
     "exception": false,
     "start_time": "2020-12-12T08:53:45.051941",
     "status": "completed"
    },
    "tags": []
   },
   "source": [
    "If any categorical variables have missing values, we'll need to create NaN dummy variables for those. So first check which variables have missing data:"
   ]
  },
  {
   "cell_type": "code",
   "execution_count": null,
   "metadata": {
    "_uuid": "f8fb1d0f3c874d40c788ef4e2dae98540045c9e2",
    "execution": {
     "iopub.execute_input": "2020-12-12T08:53:45.761393Z",
     "iopub.status.busy": "2020-12-12T08:53:45.760756Z",
     "iopub.status.idle": "2020-12-12T08:53:46.502077Z",
     "shell.execute_reply": "2020-12-12T08:53:46.502561Z"
    },
    "papermill": {
     "duration": 0.980425,
     "end_time": "2020-12-12T08:53:46.502711",
     "exception": false,
     "start_time": "2020-12-12T08:53:45.522286",
     "status": "completed"
    },
    "tags": []
   },
   "outputs": [],
   "source": [
    "missing_fractions = loans.isnull().mean().sort_values(ascending=False) # Fraction of data missing for each variable"
   ]
  },
  {
   "cell_type": "code",
   "execution_count": null,
   "metadata": {
    "_uuid": "3784fdc046846e12d9e24f35fdfa3479ef5ee031",
    "execution": {
     "iopub.execute_input": "2020-12-12T08:53:46.982359Z",
     "iopub.status.busy": "2020-12-12T08:53:46.981697Z",
     "iopub.status.idle": "2020-12-12T08:53:46.987525Z",
     "shell.execute_reply": "2020-12-12T08:53:46.988199Z"
    },
    "papermill": {
     "duration": 0.249901,
     "end_time": "2020-12-12T08:53:46.988375",
     "exception": false,
     "start_time": "2020-12-12T08:53:46.738474",
     "status": "completed"
    },
    "tags": []
   },
   "outputs": [],
   "source": [
    "print(missing_fractions[missing_fractions > 0]) # Print variables that are missing data"
   ]
  },
  {
   "cell_type": "markdown",
   "metadata": {
    "_uuid": "2f88ae0cbff3633cebeefc3872480653ef205001",
    "papermill": {
     "duration": 0.240804,
     "end_time": "2020-12-12T08:53:47.465220",
     "exception": false,
     "start_time": "2020-12-12T08:53:47.224416",
     "status": "completed"
    },
    "tags": []
   },
   "source": [
    "There are no categorical variables with missing values, and therefore we don't need any `NaN` dummy variables.\n",
    "\n",
    "Create dummy variables for the categorical variables:"
   ]
  },
  {
   "cell_type": "code",
   "execution_count": null,
   "metadata": {
    "_uuid": "ae134b08939ec0e79a48fe5fb0854f1909155ae3",
    "execution": {
     "iopub.execute_input": "2020-12-12T08:53:47.944070Z",
     "iopub.status.busy": "2020-12-12T08:53:47.943176Z",
     "iopub.status.idle": "2020-12-12T08:53:47.951195Z",
     "shell.execute_reply": "2020-12-12T08:53:47.950660Z"
    },
    "papermill": {
     "duration": 0.247752,
     "end_time": "2020-12-12T08:53:47.951298",
     "exception": false,
     "start_time": "2020-12-12T08:53:47.703546",
     "status": "completed"
    },
    "tags": []
   },
   "outputs": [],
   "source": [
    "print(loans.columns)"
   ]
  },
  {
   "cell_type": "code",
   "execution_count": null,
   "metadata": {
    "_uuid": "9e9bb9c2bf409ec5be518e3c3896bbb07cc4abb2",
    "execution": {
     "iopub.execute_input": "2020-12-12T08:53:48.548416Z",
     "iopub.status.busy": "2020-12-12T08:53:48.467345Z",
     "iopub.status.idle": "2020-12-12T08:53:51.341108Z",
     "shell.execute_reply": "2020-12-12T08:53:51.341585Z"
    },
    "papermill": {
     "duration": 3.155171,
     "end_time": "2020-12-12T08:53:51.341753",
     "exception": false,
     "start_time": "2020-12-12T08:53:48.186582",
     "status": "completed"
    },
    "tags": []
   },
   "outputs": [],
   "source": [
    "loans = pd.get_dummies(loans, columns=['sub_grade', 'home_ownership', 'verification_status', 'purpose', 'addr_state', 'initial_list_status', 'application_type'], drop_first=True)"
   ]
  },
  {
   "cell_type": "markdown",
   "metadata": {
    "_uuid": "f73371a37cb725909d17b8e9bcf3ee35bf8e65b0",
    "papermill": {
     "duration": 0.235305,
     "end_time": "2020-12-12T08:53:51.814702",
     "exception": false,
     "start_time": "2020-12-12T08:53:51.579397",
     "status": "completed"
    },
    "tags": []
   },
   "source": [
    "How many variables are there now?"
   ]
  },
  {
   "cell_type": "code",
   "execution_count": null,
   "metadata": {
    "_uuid": "7f7b283b25cee3c1fae860e415f09108b01990fc",
    "execution": {
     "iopub.execute_input": "2020-12-12T08:53:52.295874Z",
     "iopub.status.busy": "2020-12-12T08:53:52.295235Z",
     "iopub.status.idle": "2020-12-12T08:53:52.298735Z",
     "shell.execute_reply": "2020-12-12T08:53:52.299253Z"
    },
    "papermill": {
     "duration": 0.249349,
     "end_time": "2020-12-12T08:53:52.299401",
     "exception": false,
     "start_time": "2020-12-12T08:53:52.050052",
     "status": "completed"
    },
    "tags": []
   },
   "outputs": [],
   "source": [
    "loans.shape"
   ]
  },
  {
   "cell_type": "markdown",
   "metadata": {
    "_uuid": "5aac6b7e148e1e72116ab037216b20ff886d4d20",
    "papermill": {
     "duration": 0.239783,
     "end_time": "2020-12-12T08:53:52.781851",
     "exception": false,
     "start_time": "2020-12-12T08:53:52.542068",
     "status": "completed"
    },
    "tags": []
   },
   "source": [
    "Check our data with the new dummy variables:"
   ]
  },
  {
   "cell_type": "code",
   "execution_count": null,
   "metadata": {
    "_uuid": "754d01e2f194c88b1c719c007e53d28d1bc85dab",
    "execution": {
     "iopub.execute_input": "2020-12-12T08:53:53.270151Z",
     "iopub.status.busy": "2020-12-12T08:53:53.269431Z",
     "iopub.status.idle": "2020-12-12T08:53:53.640625Z",
     "shell.execute_reply": "2020-12-12T08:53:53.641157Z"
    },
    "papermill": {
     "duration": 0.616777,
     "end_time": "2020-12-12T08:53:53.641288",
     "exception": false,
     "start_time": "2020-12-12T08:53:53.024511",
     "status": "completed"
    },
    "tags": []
   },
   "outputs": [],
   "source": [
    "loans.sample(5)"
   ]
  },
  {
   "cell_type": "markdown",
   "metadata": {
    "_uuid": "a8775d773bb8dff6b281363f0b0d72bd3d1e80a3",
    "papermill": {
     "duration": 0.237211,
     "end_time": "2020-12-12T08:53:54.116514",
     "exception": false,
     "start_time": "2020-12-12T08:53:53.879303",
     "status": "completed"
    },
    "tags": []
   },
   "source": [
    "<a id=\"4.3\"></a>\n",
    "## 4.3 Train/test split"
   ]
  },
  {
   "cell_type": "code",
   "execution_count": null,
   "metadata": {
    "_uuid": "6b07dcb5d20a9e55a9f2a1616ccef58ee567b26f",
    "execution": {
     "iopub.execute_input": "2020-12-12T08:53:54.603208Z",
     "iopub.status.busy": "2020-12-12T08:53:54.602543Z",
     "iopub.status.idle": "2020-12-12T08:53:54.604844Z",
     "shell.execute_reply": "2020-12-12T08:53:54.605343Z"
    },
    "papermill": {
     "duration": 0.247014,
     "end_time": "2020-12-12T08:53:54.605474",
     "exception": false,
     "start_time": "2020-12-12T08:53:54.358460",
     "status": "completed"
    },
    "tags": []
   },
   "outputs": [],
   "source": [
    "# We'll make our modeling problem more realistic by performing the train/test split based on the month that the loan was funded. That is, we'll use loans funded on earlier dates to predict whether future loans will charge-off. The variable `issue_d` includes the month and year that the loan was funded.\n",
    "# loans['issue_d'].sample(5)\n",
    "\n",
    "# Are there any missing values?\n",
    "# loans['issue_d'].isnull().any()\n",
    "\n",
    "# No. Let's convert the issue dates to datetime objects:\n",
    "# loans['issue_d'] = pd.to_datetime(loans['issue_d'])\n",
    "# loans['issue_d'].sample(5)\n",
    "\n",
    "# The new datetime values are all on the first day of the month. Check the summary statistics of the issue dates:\n",
    "# loans['issue_d'].describe()\n",
    "# There are only 154 unique issue dates over the 10-year period because we only have month/year information. In this particular dataset, the first loans were issued in June 2007, and the most recent loans were issued in March 2020. The busiest month was March 2016 with 57,553 loans funded in that month. What is the distribution of loans funded in each year?\n",
    "\n",
    "# plt.figure(figsize=(6,3), dpi=90)\n",
    "# loans['issue_d'].dt.year.value_counts().sort_index().plot.bar(color='darkblue')\n",
    "# plt.xlabel('Year')\n",
    "# plt.ylabel('Number of Loans Funded')\n",
    "# plt.title('Loans Funded per Year')\n",
    "\n",
    "# We'll form the test set from the most recent 10% of the loans.\n",
    "\n",
    "# loans_train = loans.loc[loans['issue_d'] <  loans['issue_d'].quantile(0.9)]\n",
    "# loans_test =  loans.loc[loans['issue_d'] >= loans['issue_d'].quantile(0.9)]\n",
    "# Refer [this video](https://www.youtube.com/watch?v=idXEk3MjC9M) if you didn't understood the quantile. Check that we properly partitioned the loans:\n",
    "\n",
    "# What is the test size?\n",
    "# loans_test.shape[0] / loans.shape[0]\n",
    "# About 10.8%. The partition looks good, so we can delete the original `loans` dataframe:\n",
    "# The training set includes loans from June 2007 to April 2018. The test set includes loans from May 2018 to March 2020. Now we need to delete the `issue_d` variable, because it was not available before the loan was funded.\n",
    "\n",
    "# del loans\n",
    "\n",
    "# loans_train.drop('issue_d', axis=1, inplace=True)\n",
    "# loans_test.drop('issue_d', axis=1, inplace=True)\n",
    "\n",
    "# del loans_train, loans_test\n",
    "\n",
    "# y_train = loans_train['charged_off']\n",
    "# y_test = loans_test['charged_off']\n",
    "\n",
    "# X_train = loans_train.drop('charged_off', axis=1)\n",
    "# X_test = loans_test.drop('charged_off', axis=1)"
   ]
  },
  {
   "cell_type": "code",
   "execution_count": null,
   "metadata": {
    "execution": {
     "iopub.execute_input": "2020-12-12T08:53:55.091401Z",
     "iopub.status.busy": "2020-12-12T08:53:55.090782Z",
     "iopub.status.idle": "2020-12-12T08:53:55.260161Z",
     "shell.execute_reply": "2020-12-12T08:53:55.259505Z"
    },
    "papermill": {
     "duration": 0.415013,
     "end_time": "2020-12-12T08:53:55.260271",
     "exception": false,
     "start_time": "2020-12-12T08:53:54.845258",
     "status": "completed"
    },
    "tags": []
   },
   "outputs": [],
   "source": [
    "loans.drop('issue_d', axis=1, inplace=True)"
   ]
  },
  {
   "cell_type": "code",
   "execution_count": null,
   "metadata": {
    "execution": {
     "iopub.execute_input": "2020-12-12T08:53:55.843986Z",
     "iopub.status.busy": "2020-12-12T08:53:55.839189Z",
     "iopub.status.idle": "2020-12-12T08:53:55.922126Z",
     "shell.execute_reply": "2020-12-12T08:53:55.921550Z"
    },
    "papermill": {
     "duration": 0.397399,
     "end_time": "2020-12-12T08:53:55.922240",
     "exception": false,
     "start_time": "2020-12-12T08:53:55.524841",
     "status": "completed"
    },
    "tags": []
   },
   "outputs": [],
   "source": [
    "# Features\n",
    "X = loans.drop('charged_off',axis=1)\n",
    "\n",
    "# Label\n",
    "y = loans['charged_off']"
   ]
  },
  {
   "cell_type": "code",
   "execution_count": null,
   "metadata": {
    "execution": {
     "iopub.execute_input": "2020-12-12T08:53:56.416267Z",
     "iopub.status.busy": "2020-12-12T08:53:56.415453Z",
     "iopub.status.idle": "2020-12-12T08:53:57.747193Z",
     "shell.execute_reply": "2020-12-12T08:53:57.746515Z"
    },
    "papermill": {
     "duration": 1.583996,
     "end_time": "2020-12-12T08:53:57.747302",
     "exception": false,
     "start_time": "2020-12-12T08:53:56.163306",
     "status": "completed"
    },
    "tags": []
   },
   "outputs": [],
   "source": [
    "# Split\n",
    "X_train, X_test, y_train, y_test = train_test_split(X, y, test_size=0.2, random_state=101)"
   ]
  },
  {
   "cell_type": "code",
   "execution_count": null,
   "metadata": {
    "execution": {
     "iopub.execute_input": "2020-12-12T08:53:58.233994Z",
     "iopub.status.busy": "2020-12-12T08:53:58.233026Z",
     "iopub.status.idle": "2020-12-12T08:53:58.239781Z",
     "shell.execute_reply": "2020-12-12T08:53:58.240516Z"
    },
    "papermill": {
     "duration": 0.25135,
     "end_time": "2020-12-12T08:53:58.240715",
     "exception": false,
     "start_time": "2020-12-12T08:53:57.989365",
     "status": "completed"
    },
    "tags": []
   },
   "outputs": [],
   "source": [
    "print(\"X_train.shape: \", X_train.shape)\n",
    "print(\"X_test.shape:  \", X_test.shape)\n",
    "print(\"y_train.shape: \", y_train.shape)\n",
    "print(\"y_test.shape:  \", y_test.shape)"
   ]
  },
  {
   "cell_type": "markdown",
   "metadata": {
    "_uuid": "5b58f15c7241322f0fdcad9c071a2c82a371daa8",
    "papermill": {
     "duration": 0.239187,
     "end_time": "2020-12-12T08:53:58.720994",
     "exception": false,
     "start_time": "2020-12-12T08:53:58.481807",
     "status": "completed"
    },
    "tags": []
   },
   "source": [
    "<a id=\"5\"></a>\n",
    "# 5. Linear Dependence of Charge-off on the Predictors"
   ]
  },
  {
   "cell_type": "markdown",
   "metadata": {
    "_uuid": "850d60c4caa3ae9cc3fd0d45c72e92b332c9555b",
    "papermill": {
     "duration": 0.239566,
     "end_time": "2020-12-12T08:53:59.204237",
     "exception": false,
     "start_time": "2020-12-12T08:53:58.964671",
     "status": "completed"
    },
    "tags": []
   },
   "source": [
    "On the training set, we compute the [Pearson correlation](https://www.youtube.com/watch?v=6fUYt1alA1U), $F$-statistic, and $p$ value of each predictor with the response variable `charged_off`."
   ]
  },
  {
   "cell_type": "code",
   "execution_count": null,
   "metadata": {
    "_uuid": "10f5578718ddb1578ad854e711d430e19cff009c",
    "execution": {
     "iopub.execute_input": "2020-12-12T08:53:59.699026Z",
     "iopub.status.busy": "2020-12-12T08:53:59.698326Z",
     "iopub.status.idle": "2020-12-12T08:53:59.702709Z",
     "shell.execute_reply": "2020-12-12T08:53:59.703224Z"
    },
    "papermill": {
     "duration": 0.252345,
     "end_time": "2020-12-12T08:53:59.703379",
     "exception": false,
     "start_time": "2020-12-12T08:53:59.451034",
     "status": "completed"
    },
    "tags": []
   },
   "outputs": [],
   "source": [
    "linear_dep = pd.DataFrame()"
   ]
  },
  {
   "cell_type": "markdown",
   "metadata": {
    "_uuid": "664f387e3a890929d76b9a8daf7863a72a23973c",
    "papermill": {
     "duration": 0.239272,
     "end_time": "2020-12-12T08:54:00.183745",
     "exception": false,
     "start_time": "2020-12-12T08:53:59.944473",
     "status": "completed"
    },
    "tags": []
   },
   "source": [
    "<a id=\"5.1\"></a>\n",
    "## 5.1 Pearson correlation\n",
    "We use the Pearson correlation coefficient to examine the strength and direction of the linear relationship between two continuous variables.\n",
    "\n",
    "The correlation coefficient can range in value from −1 to +1. The larger the absolute value of the coefficient, the stronger the relationship between the variables. For the Pearson correlation, an absolute value of 1 indicates a perfect linear relationship. A correlation close to 0 indicates no linear relationship between the variables. \n",
    "\n",
    "The sign of the coefficient indicates the direction of the relationship. If both variables tend to increase or decrease together, the coefficient is positive, and the line that represents the correlation slopes upward. If one variable tends to increase as the other decreases, the coefficient is negative, and the line that represents the correlation slopes downward.\n",
    "\n",
    "* We can see a strong correlation between loan_amnt and installment. (The monthly payment owed by the borrower if the loan originates)"
   ]
  },
  {
   "cell_type": "code",
   "execution_count": null,
   "metadata": {
    "_uuid": "b6019bf1538388309cf2f8672d166f447bf9635e",
    "execution": {
     "iopub.execute_input": "2020-12-12T08:54:00.671529Z",
     "iopub.status.busy": "2020-12-12T08:54:00.670682Z",
     "iopub.status.idle": "2020-12-12T08:54:02.604122Z",
     "shell.execute_reply": "2020-12-12T08:54:02.602760Z"
    },
    "papermill": {
     "duration": 2.18007,
     "end_time": "2020-12-12T08:54:02.604247",
     "exception": false,
     "start_time": "2020-12-12T08:54:00.424177",
     "status": "completed"
    },
    "tags": []
   },
   "outputs": [],
   "source": [
    "for col in X_train.columns:\n",
    "    linear_dep.loc[col, 'pearson_corr'] = X_train[col].corr(y_train)\n",
    "linear_dep['abs_pearson_corr'] = abs(linear_dep['pearson_corr'])"
   ]
  },
  {
   "cell_type": "code",
   "execution_count": null,
   "metadata": {
    "execution": {
     "iopub.execute_input": "2020-12-12T08:54:03.110223Z",
     "iopub.status.busy": "2020-12-12T08:54:03.106622Z",
     "iopub.status.idle": "2020-12-12T08:54:03.116841Z",
     "shell.execute_reply": "2020-12-12T08:54:03.116243Z"
    },
    "papermill": {
     "duration": 0.272269,
     "end_time": "2020-12-12T08:54:03.116944",
     "exception": false,
     "start_time": "2020-12-12T08:54:02.844675",
     "status": "completed"
    },
    "scrolled": false,
    "tags": []
   },
   "outputs": [],
   "source": [
    "linear_dep"
   ]
  },
  {
   "cell_type": "markdown",
   "metadata": {
    "_uuid": "4c627f36e7ec9f9d25499806e9d0d3bbf5697421",
    "papermill": {
     "duration": 0.243141,
     "end_time": "2020-12-12T08:54:03.601168",
     "exception": false,
     "start_time": "2020-12-12T08:54:03.358027",
     "status": "completed"
    },
    "tags": []
   },
   "source": [
    "$F$-statistics:"
   ]
  },
  {
   "cell_type": "code",
   "execution_count": null,
   "metadata": {
    "_uuid": "684f3bed36161e0c33d64c2c84dbbc9eb39e440a",
    "execution": {
     "iopub.execute_input": "2020-12-12T08:54:04.106241Z",
     "iopub.status.busy": "2020-12-12T08:54:04.105591Z",
     "iopub.status.idle": "2020-12-12T08:54:13.813341Z",
     "shell.execute_reply": "2020-12-12T08:54:13.813821Z"
    },
    "papermill": {
     "duration": 9.966418,
     "end_time": "2020-12-12T08:54:13.813989",
     "exception": false,
     "start_time": "2020-12-12T08:54:03.847571",
     "status": "completed"
    },
    "tags": []
   },
   "outputs": [],
   "source": [
    "from sklearn.feature_selection import f_classif\n",
    "for col in X_train.columns:\n",
    "    mask = X_train[col].notnull()\n",
    "    (linear_dep.loc[col, 'F'], linear_dep.loc[col, 'p_value']) = f_classif(pd.DataFrame(X_train.loc[mask, col]), y_train.loc[mask])"
   ]
  },
  {
   "cell_type": "markdown",
   "metadata": {
    "_uuid": "b91ab2fa2ff419231949ed1b184477acf5e0aa5f",
    "papermill": {
     "duration": 0.276807,
     "end_time": "2020-12-12T08:54:14.337630",
     "exception": false,
     "start_time": "2020-12-12T08:54:14.060823",
     "status": "completed"
    },
    "tags": []
   },
   "source": [
    "Sort the results by the absolute value of the Pearson correlation:"
   ]
  },
  {
   "cell_type": "code",
   "execution_count": null,
   "metadata": {
    "_uuid": "62d65ed8b7bc37539f675e181307a46be126928f",
    "execution": {
     "iopub.execute_input": "2020-12-12T08:54:14.828068Z",
     "iopub.status.busy": "2020-12-12T08:54:14.827444Z",
     "iopub.status.idle": "2020-12-12T08:54:14.830313Z",
     "shell.execute_reply": "2020-12-12T08:54:14.831196Z"
    },
    "papermill": {
     "duration": 0.252603,
     "end_time": "2020-12-12T08:54:14.831366",
     "exception": false,
     "start_time": "2020-12-12T08:54:14.578763",
     "status": "completed"
    },
    "tags": []
   },
   "outputs": [],
   "source": [
    "linear_dep.sort_values('abs_pearson_corr', ascending=False, inplace=True)\n",
    "linear_dep.drop('abs_pearson_corr', axis=1, inplace=True)"
   ]
  },
  {
   "cell_type": "markdown",
   "metadata": {
    "_uuid": "a0b101a77e258cdec2394df09b039031b5888a69",
    "papermill": {
     "duration": 0.310253,
     "end_time": "2020-12-12T08:54:15.482579",
     "exception": false,
     "start_time": "2020-12-12T08:54:15.172326",
     "status": "completed"
    },
    "tags": []
   },
   "source": [
    "Reset the index:"
   ]
  },
  {
   "cell_type": "code",
   "execution_count": null,
   "metadata": {
    "_uuid": "6d7817f634240f49aa191278c9b6030b337548dc",
    "execution": {
     "iopub.execute_input": "2020-12-12T08:54:16.222525Z",
     "iopub.status.busy": "2020-12-12T08:54:16.221676Z",
     "iopub.status.idle": "2020-12-12T08:54:16.230418Z",
     "shell.execute_reply": "2020-12-12T08:54:16.229675Z"
    },
    "papermill": {
     "duration": 0.38357,
     "end_time": "2020-12-12T08:54:16.230575",
     "exception": false,
     "start_time": "2020-12-12T08:54:15.847005",
     "status": "completed"
    },
    "tags": []
   },
   "outputs": [],
   "source": [
    "linear_dep.reset_index(inplace=True)\n",
    "linear_dep.rename(columns={'index':'variable'}, inplace=True)"
   ]
  },
  {
   "cell_type": "markdown",
   "metadata": {
    "_uuid": "d5e871058f15c3308070c06a39ffb72b97ffcf01",
    "papermill": {
     "duration": 0.365601,
     "end_time": "2020-12-12T08:54:16.966637",
     "exception": false,
     "start_time": "2020-12-12T08:54:16.601036",
     "status": "completed"
    },
    "tags": []
   },
   "source": [
    "View the results for the top 20 predictors most correlated with `charged_off`:"
   ]
  },
  {
   "cell_type": "code",
   "execution_count": null,
   "metadata": {
    "_uuid": "be6ab5410fa8a2a4a9ef245a118a63ab289d5b78",
    "execution": {
     "iopub.execute_input": "2020-12-12T08:54:17.712382Z",
     "iopub.status.busy": "2020-12-12T08:54:17.711469Z",
     "iopub.status.idle": "2020-12-12T08:54:17.717347Z",
     "shell.execute_reply": "2020-12-12T08:54:17.716582Z"
    },
    "papermill": {
     "duration": 0.384308,
     "end_time": "2020-12-12T08:54:17.717450",
     "exception": false,
     "start_time": "2020-12-12T08:54:17.333142",
     "status": "completed"
    },
    "tags": []
   },
   "outputs": [],
   "source": [
    "linear_dep.head(30)"
   ]
  },
  {
   "cell_type": "markdown",
   "metadata": {
    "_uuid": "5e5dcf585172763f43cfc8d17aab1ea43a748e0b",
    "papermill": {
     "duration": 0.271025,
     "end_time": "2020-12-12T08:54:18.230934",
     "exception": false,
     "start_time": "2020-12-12T08:54:17.959909",
     "status": "completed"
    },
    "tags": []
   },
   "source": [
    "The variables most linearly correlated with `charged_off` are the interest rate, loan period (term), FICO score, debt-to-income ratio, number of mortgages, income, the loan grade, and the loan amount.\n",
    "\n",
    "Now view the results for the 20 least correlated predictors:"
   ]
  },
  {
   "cell_type": "code",
   "execution_count": null,
   "metadata": {
    "_uuid": "78e5a4415c86e28a64a4eff1cdf5c810ae002dc4",
    "execution": {
     "iopub.execute_input": "2020-12-12T08:54:18.936583Z",
     "iopub.status.busy": "2020-12-12T08:54:18.935566Z",
     "iopub.status.idle": "2020-12-12T08:54:18.939709Z",
     "shell.execute_reply": "2020-12-12T08:54:18.940511Z"
    },
    "papermill": {
     "duration": 0.386427,
     "end_time": "2020-12-12T08:54:18.940674",
     "exception": false,
     "start_time": "2020-12-12T08:54:18.554247",
     "status": "completed"
    },
    "tags": []
   },
   "outputs": [],
   "source": [
    "linear_dep.tail(20)"
   ]
  },
  {
   "cell_type": "markdown",
   "metadata": {
    "_uuid": "3e56b96b36ab489ecda4ff0165d0fb93eb9ee32e",
    "papermill": {
     "duration": 0.377157,
     "end_time": "2020-12-12T08:54:19.688515",
     "exception": false,
     "start_time": "2020-12-12T08:54:19.311358",
     "status": "completed"
    },
    "tags": []
   },
   "source": [
    "It looks like the borrower's state of residence, the revolving balance, and several of the loan purposes are irrelevant for predicting charge-off."
   ]
  },
  {
   "cell_type": "markdown",
   "metadata": {
    "_cell_guid": "52309b77-d97d-412a-b20f-da81f44a486f",
    "_uuid": "bbabe5a3810756b27f10e862f3d7ea34a21a20f8",
    "papermill": {
     "duration": 0.373128,
     "end_time": "2020-12-12T08:54:20.431205",
     "exception": false,
     "start_time": "2020-12-12T08:54:20.058077",
     "status": "completed"
    },
    "tags": []
   },
   "source": [
    "<a id=\"6\"></a>\n",
    "# 6. Model Training and Testing"
   ]
  },
  {
   "cell_type": "markdown",
   "metadata": {
    "_uuid": "19f4b16ed13d2187aebc5a76e34eb6cf2c7cfaed",
    "papermill": {
     "duration": 0.365455,
     "end_time": "2020-12-12T08:54:21.162998",
     "exception": false,
     "start_time": "2020-12-12T08:54:20.797543",
     "status": "completed"
    },
    "tags": []
   },
   "source": [
    "We implement machine learning pipelines consisting of one or more of the following steps, depending on the particular model:\n",
    "1. Mean imputation of missing values\n",
    "2. Dimension reduction using linear discriminant analysis (LDA)\n",
    "3. Data standardization: rescaling to zero mean and unit variance\n",
    "4. The chosen model\n",
    "\n",
    "We will evaluate and compare the following models using a cross-validated AUROC score on the training set:\n",
    "1. Neural Network\n",
    "2. Logistic regression with SGD training\n",
    "3. Random forest\n",
    "\n",
    "We'll perform some hyperparameter tuning for each model to choose the most promising model, then more carefully tune the hyperparameters of the best-performing model."
   ]
  },
  {
   "cell_type": "markdown",
   "metadata": {
    "_uuid": "fd08230abd9280d520181a667054428a6bce6b56",
    "papermill": {
     "duration": 0.361911,
     "end_time": "2020-12-12T08:54:21.890562",
     "exception": false,
     "start_time": "2020-12-12T08:54:21.528651",
     "status": "completed"
    },
    "tags": []
   },
   "source": [
    "<a id=\"6.1\"></a>\n",
    "## 6.1 Neural Network"
   ]
  },
  {
   "cell_type": "code",
   "execution_count": null,
   "metadata": {
    "execution": {
     "iopub.execute_input": "2020-12-12T08:54:22.639091Z",
     "iopub.status.busy": "2020-12-12T08:54:22.637637Z",
     "iopub.status.idle": "2020-12-12T08:54:24.367444Z",
     "shell.execute_reply": "2020-12-12T08:54:24.368226Z"
    },
    "papermill": {
     "duration": 2.106852,
     "end_time": "2020-12-12T08:54:24.369004",
     "exception": false,
     "start_time": "2020-12-12T08:54:22.262152",
     "status": "completed"
    },
    "tags": []
   },
   "outputs": [],
   "source": [
    "scaler = MinMaxScaler()\n",
    "\n",
    "# fit and transfrom\n",
    "X_train = scaler.fit_transform(X_train)\n",
    "X_test = scaler.transform(X_test)\n",
    "\n",
    "# everything has been scaled between 1 and 0\n",
    "print('Max: ',X_train.max())\n",
    "print('Min: ', X_train.min())"
   ]
  },
  {
   "cell_type": "code",
   "execution_count": null,
   "metadata": {},
   "outputs": [],
   "source": [
    "import tensorflow as tf\n",
    "\n",
    "assert tf.test.is_gpu_available()\n",
    "assert tf.test.is_built_with_cuda()"
   ]
  },
  {
   "cell_type": "code",
   "execution_count": null,
   "metadata": {
    "execution": {
     "iopub.execute_input": "2020-12-12T08:54:25.116811Z",
     "iopub.status.busy": "2020-12-12T08:54:25.115938Z",
     "iopub.status.idle": "2020-12-12T08:54:25.247425Z",
     "shell.execute_reply": "2020-12-12T08:54:25.248108Z"
    },
    "papermill": {
     "duration": 0.508551,
     "end_time": "2020-12-12T08:54:25.248276",
     "exception": false,
     "start_time": "2020-12-12T08:54:24.739725",
     "status": "completed"
    },
    "tags": []
   },
   "outputs": [],
   "source": [
    "model = Sequential()\n",
    "\n",
    "# input layer\n",
    "model.add(Dense(X_train.shape[1],activation='relu'))\n",
    "model.add(Dropout(0.2))\n",
    "\n",
    "# hidden layer\n",
    "model.add(Dense(128,activation='relu'))\n",
    "model.add(Dropout(0.2))\n",
    "\n",
    "model.add(Dense(64,activation='relu'))\n",
    "model.add(Dropout(0.2))\n",
    "\n",
    "# hidden layer\n",
    "model.add(Dense(32,activation='relu'))\n",
    "model.add(Dropout(0.2))\n",
    "\n",
    "model.add(Dense(16,activation='relu'))\n",
    "model.add(Dropout(0.2))\n",
    "\n",
    "# output layer\n",
    "model.add(Dense(1, activation='sigmoid'))\n",
    "\n",
    "# compile model\n",
    "model.compile(optimizer=\"adam\", loss='binary_crossentropy')"
   ]
  },
  {
   "cell_type": "code",
   "execution_count": null,
   "metadata": {
    "execution": {
     "iopub.execute_input": "2020-12-12T08:54:25.987866Z",
     "iopub.status.busy": "2020-12-12T08:54:25.987072Z",
     "iopub.status.idle": "2020-12-12T08:54:25.990712Z",
     "shell.execute_reply": "2020-12-12T08:54:25.990141Z"
    },
    "papermill": {
     "duration": 0.373402,
     "end_time": "2020-12-12T08:54:25.990824",
     "exception": false,
     "start_time": "2020-12-12T08:54:25.617422",
     "status": "completed"
    },
    "tags": []
   },
   "outputs": [],
   "source": [
    "# Early Stopping\n",
    "early_stop = EarlyStopping(patience=50)"
   ]
  },
  {
   "cell_type": "code",
   "execution_count": null,
   "metadata": {
    "execution": {
     "iopub.execute_input": "2020-12-12T08:54:26.490106Z",
     "iopub.status.busy": "2020-12-12T08:54:26.489475Z",
     "iopub.status.idle": "2020-12-12T09:11:05.423529Z",
     "shell.execute_reply": "2020-12-12T09:11:05.421048Z"
    },
    "papermill": {
     "duration": 999.188509,
     "end_time": "2020-12-12T09:11:05.423778",
     "exception": false,
     "start_time": "2020-12-12T08:54:26.235269",
     "status": "completed"
    },
    "scrolled": true,
    "tags": []
   },
   "outputs": [],
   "source": [
    "model.fit(x=X_train, \n",
    "          y=y_train, \n",
    "          epochs=25,\n",
    "          verbose = 4,\n",
    "          batch_size=4096,\n",
    "          validation_data=(X_test, y_test))\n",
    "\n"
   ]
  },
  {
   "cell_type": "code",
   "execution_count": null,
   "metadata": {
    "execution": {
     "iopub.execute_input": "2020-12-12T09:11:06.046759Z",
     "iopub.status.busy": "2020-12-12T09:11:06.046128Z",
     "iopub.status.idle": "2020-12-12T09:11:06.048728Z",
     "shell.execute_reply": "2020-12-12T09:11:06.049356Z"
    },
    "papermill": {
     "duration": 0.320289,
     "end_time": "2020-12-12T09:11:06.049491",
     "exception": false,
     "start_time": "2020-12-12T09:11:05.729202",
     "status": "completed"
    },
    "tags": []
   },
   "outputs": [],
   "source": [
    "losses = pd.DataFrame(model.history.history)"
   ]
  },
  {
   "cell_type": "code",
   "execution_count": null,
   "metadata": {
    "execution": {
     "iopub.execute_input": "2020-12-12T09:11:06.644384Z",
     "iopub.status.busy": "2020-12-12T09:11:06.643764Z",
     "iopub.status.idle": "2020-12-12T09:11:13.901176Z",
     "shell.execute_reply": "2020-12-12T09:11:13.900595Z"
    },
    "papermill": {
     "duration": 7.558458,
     "end_time": "2020-12-12T09:11:13.901302",
     "exception": false,
     "start_time": "2020-12-12T09:11:06.342844",
     "status": "completed"
    },
    "tags": []
   },
   "outputs": [],
   "source": [
    "predictions = model.predict_classes(X_test)\n",
    "\n",
    "print('Classification Report:')\n",
    "print(classification_report(y_test, predictions))\n",
    "print('\\n')\n",
    "print('Confusion Matirx:')\n",
    "print(confusion_matrix(y_test, predictions))"
   ]
  },
  {
   "cell_type": "code",
   "execution_count": null,
   "metadata": {
    "execution": {
     "iopub.execute_input": "2020-12-12T09:11:14.559717Z",
     "iopub.status.busy": "2020-12-12T09:11:14.554461Z",
     "iopub.status.idle": "2020-12-12T09:11:14.660401Z",
     "shell.execute_reply": "2020-12-12T09:11:14.660878Z"
    },
    "papermill": {
     "duration": 0.452485,
     "end_time": "2020-12-12T09:11:14.661041",
     "exception": false,
     "start_time": "2020-12-12T09:11:14.208556",
     "status": "completed"
    },
    "tags": []
   },
   "outputs": [],
   "source": [
    "rnd.seed(101)\n",
    "random_ind = rnd.randint(0,len(loans))\n",
    "\n",
    "new_customer = loans.drop('charged_off',axis=1).iloc[random_ind]\n",
    "new_customer"
   ]
  },
  {
   "cell_type": "code",
   "execution_count": null,
   "metadata": {
    "execution": {
     "iopub.execute_input": "2020-12-12T09:11:15.267060Z",
     "iopub.status.busy": "2020-12-12T09:11:15.266107Z",
     "iopub.status.idle": "2020-12-12T09:11:15.324837Z",
     "shell.execute_reply": "2020-12-12T09:11:15.325552Z"
    },
    "papermill": {
     "duration": 0.369894,
     "end_time": "2020-12-12T09:11:15.325721",
     "exception": false,
     "start_time": "2020-12-12T09:11:14.955827",
     "status": "completed"
    },
    "tags": []
   },
   "outputs": [],
   "source": [
    "# we need to reshape this to be in the same shape of the training data that the model was trained on\n",
    "model.predict_classes(new_customer.values.reshape(1,X_train.shape[1]))"
   ]
  },
  {
   "cell_type": "code",
   "execution_count": null,
   "metadata": {
    "execution": {
     "iopub.execute_input": "2020-12-12T09:11:16.045937Z",
     "iopub.status.busy": "2020-12-12T09:11:16.045121Z",
     "iopub.status.idle": "2020-12-12T09:11:16.050825Z",
     "shell.execute_reply": "2020-12-12T09:11:16.049944Z"
    },
    "papermill": {
     "duration": 0.306463,
     "end_time": "2020-12-12T09:11:16.050946",
     "exception": false,
     "start_time": "2020-12-12T09:11:15.744483",
     "status": "completed"
    },
    "tags": []
   },
   "outputs": [],
   "source": [
    "# the prediction was right\n",
    "loans.iloc[random_ind]['charged_off']"
   ]
  },
  {
   "cell_type": "markdown",
   "metadata": {
    "_uuid": "2e951c2ffc831a7abe5035c95d3011a10cf6c55f",
    "papermill": {
     "duration": 0.441912,
     "end_time": "2020-12-12T09:11:16.946810",
     "exception": false,
     "start_time": "2020-12-12T09:11:16.504898",
     "status": "completed"
    },
    "tags": []
   },
   "source": [
    "<a id=\"6.2\"></a>\n",
    "## 6.2 Logistic regression with SGD training"
   ]
  },
  {
   "cell_type": "markdown",
   "metadata": {
    "_cell_guid": "fc774c42-47e6-427a-ac9c-a4bdbf7b5837",
    "_uuid": "39ac0b9f118cbb5b11d6749f2ec3f8aa3f97ac6d",
    "papermill": {
     "duration": 0.290628,
     "end_time": "2020-12-12T09:11:17.617795",
     "exception": false,
     "start_time": "2020-12-12T09:11:17.327167",
     "status": "completed"
    },
    "tags": []
   },
   "source": [
    "The `SGDClassifier` estimator in scikit-learn implements linear classifiers (SVM, logistic regression, and others) with stochastic gradient descent (SGD) training. A particular linear classifier is chosen through the `loss` hyperparameter. Because we want to predict the probability of charge-off, we choose logistic regression (a probabilistic classifier) by setting `loss = 'log'`."
   ]
  },
  {
   "cell_type": "markdown",
   "metadata": {
    "_uuid": "3bda07c1025d052dc57e47e3b8c60c2bfa1d9e83",
    "papermill": {
     "duration": 0.299647,
     "end_time": "2020-12-12T09:11:18.210931",
     "exception": false,
     "start_time": "2020-12-12T09:11:17.911284",
     "status": "completed"
    },
    "tags": []
   },
   "source": [
    "The machine learning pipeline:"
   ]
  },
  {
   "cell_type": "code",
   "execution_count": null,
   "metadata": {
    "_uuid": "67db7c7b385300c52c55e48863a743432a54cc69",
    "execution": {
     "iopub.execute_input": "2020-12-12T09:11:18.826480Z",
     "iopub.status.busy": "2020-12-12T09:11:18.824724Z",
     "iopub.status.idle": "2020-12-12T09:11:18.827037Z",
     "shell.execute_reply": "2020-12-12T09:11:18.827414Z"
    },
    "papermill": {
     "duration": 0.311945,
     "end_time": "2020-12-12T09:11:18.827522",
     "exception": false,
     "start_time": "2020-12-12T09:11:18.515577",
     "status": "completed"
    },
    "tags": []
   },
   "outputs": [],
   "source": [
    "pipeline_sgdlogreg = Pipeline([\n",
    "    ('imputer', SimpleImputer(copy=False)), # Mean imputation by default\n",
    "    ('scaler', StandardScaler(copy=False)),\n",
    "    ('model', SGDClassifier(loss='log', max_iter=1000, tol=1e-3, random_state=1, warm_start=True))\n",
    "])"
   ]
  },
  {
   "cell_type": "markdown",
   "metadata": {
    "_uuid": "3934bf0ae9ea5808ecf12254484b83c6bbe4db30",
    "papermill": {
     "duration": 0.316241,
     "end_time": "2020-12-12T09:11:19.354218",
     "exception": false,
     "start_time": "2020-12-12T09:11:19.037977",
     "status": "completed"
    },
    "tags": []
   },
   "source": [
    "A small grid of hyperparameters to search over:"
   ]
  },
  {
   "cell_type": "code",
   "execution_count": null,
   "metadata": {
    "_uuid": "7459d6cdd73f68f18975be07e9e8ba38353d514a",
    "execution": {
     "iopub.execute_input": "2020-12-12T09:11:19.992395Z",
     "iopub.status.busy": "2020-12-12T09:11:19.991656Z",
     "iopub.status.idle": "2020-12-12T09:11:19.994720Z",
     "shell.execute_reply": "2020-12-12T09:11:19.994195Z"
    },
    "papermill": {
     "duration": 0.350945,
     "end_time": "2020-12-12T09:11:19.994826",
     "exception": false,
     "start_time": "2020-12-12T09:11:19.643881",
     "status": "completed"
    },
    "tags": []
   },
   "outputs": [],
   "source": [
    "param_grid_sgdlogreg = {\n",
    "    'model__alpha': [10**-5, 10**-2, 10**1],\n",
    "    'model__penalty': ['l1', 'l2']\n",
    "}"
   ]
  },
  {
   "cell_type": "markdown",
   "metadata": {
    "_uuid": "f7f8e7ec0d9f40aabbac611e192db879f8c22d97",
    "papermill": {
     "duration": 0.292018,
     "end_time": "2020-12-12T09:11:20.580031",
     "exception": false,
     "start_time": "2020-12-12T09:11:20.288013",
     "status": "completed"
    },
    "tags": []
   },
   "source": [
    "Create the search grid object:"
   ]
  },
  {
   "cell_type": "code",
   "execution_count": null,
   "metadata": {
    "_cell_guid": "c016e122-86dd-4c96-88c2-a901fe48cf70",
    "_uuid": "8144ec0a936a93a1fbf5e2dd00cd0082dbc40782",
    "execution": {
     "iopub.execute_input": "2020-12-12T09:11:21.163664Z",
     "iopub.status.busy": "2020-12-12T09:11:21.162998Z",
     "iopub.status.idle": "2020-12-12T09:11:21.166022Z",
     "shell.execute_reply": "2020-12-12T09:11:21.166500Z"
    },
    "papermill": {
     "duration": 0.298464,
     "end_time": "2020-12-12T09:11:21.166627",
     "exception": false,
     "start_time": "2020-12-12T09:11:20.868163",
     "status": "completed"
    },
    "tags": []
   },
   "outputs": [],
   "source": [
    "grid_sgdlogreg = GridSearchCV(estimator=pipeline_sgdlogreg, param_grid=param_grid_sgdlogreg, scoring='roc_auc', n_jobs=-1, pre_dispatch=1, cv=5, verbose=1, return_train_score=False)"
   ]
  },
  {
   "cell_type": "markdown",
   "metadata": {
    "_uuid": "38ac4e8e24104c06d2abc4d52b46f606f254a15a",
    "papermill": {
     "duration": 0.429762,
     "end_time": "2020-12-12T09:11:22.049990",
     "exception": false,
     "start_time": "2020-12-12T09:11:21.620228",
     "status": "completed"
    },
    "tags": []
   },
   "source": [
    "Conduct the grid search and train the final model on the whole dataset:"
   ]
  },
  {
   "cell_type": "code",
   "execution_count": null,
   "metadata": {
    "_cell_guid": "b907b40c-402d-4d4a-a919-e4b63e0a832d",
    "_uuid": "76e6c2e828e670a1494d4d4fbec01f232f067512",
    "execution": {
     "iopub.execute_input": "2020-12-12T09:11:22.931603Z",
     "iopub.status.busy": "2020-12-12T09:11:22.930785Z",
     "iopub.status.idle": "2020-12-12T09:33:34.141049Z",
     "shell.execute_reply": "2020-12-12T09:33:34.140301Z"
    },
    "papermill": {
     "duration": 1331.652494,
     "end_time": "2020-12-12T09:33:34.141165",
     "exception": false,
     "start_time": "2020-12-12T09:11:22.488671",
     "status": "completed"
    },
    "scrolled": true,
    "tags": []
   },
   "outputs": [],
   "source": [
    "grid_sgdlogreg.fit(X_train, y_train)"
   ]
  },
  {
   "cell_type": "markdown",
   "metadata": {
    "_uuid": "c877b3a2823c5b3a73c4f55e64a92328a1a9cb19",
    "papermill": {
     "duration": 0.292655,
     "end_time": "2020-12-12T09:33:34.729044",
     "exception": false,
     "start_time": "2020-12-12T09:33:34.436389",
     "status": "completed"
    },
    "tags": []
   },
   "source": [
    "Mean cross-validated AUROC score of the best model:"
   ]
  },
  {
   "cell_type": "code",
   "execution_count": null,
   "metadata": {
    "_uuid": "08435a05c474849b5e3a9faf574166383fcf3e1f",
    "execution": {
     "iopub.execute_input": "2020-12-12T09:33:35.315206Z",
     "iopub.status.busy": "2020-12-12T09:33:35.314283Z",
     "iopub.status.idle": "2020-12-12T09:33:35.320134Z",
     "shell.execute_reply": "2020-12-12T09:33:35.319327Z"
    },
    "papermill": {
     "duration": 0.301471,
     "end_time": "2020-12-12T09:33:35.320265",
     "exception": false,
     "start_time": "2020-12-12T09:33:35.018794",
     "status": "completed"
    },
    "tags": []
   },
   "outputs": [],
   "source": [
    "grid_sgdlogreg.best_score_"
   ]
  },
  {
   "cell_type": "markdown",
   "metadata": {
    "_cell_guid": "67901f97-33dc-4ff0-8968-127eda9da452",
    "_uuid": "a6829cf727f13a804180637da8cfc8477754b8c6",
    "papermill": {
     "duration": 0.435733,
     "end_time": "2020-12-12T09:33:36.192280",
     "exception": false,
     "start_time": "2020-12-12T09:33:35.756547",
     "status": "completed"
    },
    "tags": []
   },
   "source": [
    "Best hyperparameters:"
   ]
  },
  {
   "cell_type": "code",
   "execution_count": null,
   "metadata": {
    "_cell_guid": "14983fb4-d45a-431d-9c03-20d737862cc7",
    "_uuid": "fffc4de31000514e733ccd7c8f0aac9306226644",
    "execution": {
     "iopub.execute_input": "2020-12-12T09:33:37.068525Z",
     "iopub.status.busy": "2020-12-12T09:33:37.067699Z",
     "iopub.status.idle": "2020-12-12T09:33:37.073022Z",
     "shell.execute_reply": "2020-12-12T09:33:37.072377Z"
    },
    "papermill": {
     "duration": 0.44645,
     "end_time": "2020-12-12T09:33:37.073125",
     "exception": false,
     "start_time": "2020-12-12T09:33:36.626675",
     "status": "completed"
    },
    "tags": []
   },
   "outputs": [],
   "source": [
    "grid_sgdlogreg.best_params_"
   ]
  },
  {
   "cell_type": "markdown",
   "metadata": {
    "_uuid": "cc88ccfb97a0f7678a5e629ccb7ad3cdf59c2ca2",
    "papermill": {
     "duration": 0.295378,
     "end_time": "2020-12-12T09:33:37.659173",
     "exception": false,
     "start_time": "2020-12-12T09:33:37.363795",
     "status": "completed"
    },
    "tags": []
   },
   "source": [
    "<a id=\"6.3\"></a>\n",
    "## 6.3 Random forest classifier"
   ]
  },
  {
   "cell_type": "markdown",
   "metadata": {
    "_cell_guid": "fc774c42-47e6-427a-ac9c-a4bdbf7b5837",
    "_uuid": "39ac0b9f118cbb5b11d6749f2ec3f8aa3f97ac6d",
    "papermill": {
     "duration": 0.28342,
     "end_time": "2020-12-12T09:33:38.239846",
     "exception": false,
     "start_time": "2020-12-12T09:33:37.956426",
     "status": "completed"
    },
    "tags": []
   },
   "source": [
    "Next we train a random forest model. Note that data standardization is not necessary for a random forest."
   ]
  },
  {
   "cell_type": "code",
   "execution_count": null,
   "metadata": {
    "_uuid": "44cef4bc961a193829febfc689817575eb023691",
    "execution": {
     "iopub.execute_input": "2020-12-12T09:33:38.799244Z",
     "iopub.status.busy": "2020-12-12T09:33:38.798459Z",
     "iopub.status.idle": "2020-12-12T09:33:38.802332Z",
     "shell.execute_reply": "2020-12-12T09:33:38.802856Z"
    },
    "papermill": {
     "duration": 0.2999,
     "end_time": "2020-12-12T09:33:38.803038",
     "exception": false,
     "start_time": "2020-12-12T09:33:38.503138",
     "status": "completed"
    },
    "tags": []
   },
   "outputs": [],
   "source": [
    "pipeline_rfc = Pipeline([\n",
    "    ('imputer', SimpleImputer(copy=False)),\n",
    "    ('model', RandomForestClassifier(n_jobs=-1, random_state=1))\n",
    "])"
   ]
  },
  {
   "cell_type": "markdown",
   "metadata": {
    "_uuid": "5a421f2838ac69f19d963768245c172b6a856a69",
    "papermill": {
     "duration": 0.33656,
     "end_time": "2020-12-12T09:33:39.429688",
     "exception": false,
     "start_time": "2020-12-12T09:33:39.093128",
     "status": "completed"
    },
    "tags": []
   },
   "source": [
    "The random forest takes very long to train, so we don't test different hyperparameter choices. We'll still use `GridSearchCV` for the sake of consistency."
   ]
  },
  {
   "cell_type": "code",
   "execution_count": null,
   "metadata": {
    "_uuid": "40e26dde7b06814585e336cc93636279b7b063e8",
    "execution": {
     "iopub.execute_input": "2020-12-12T09:33:40.017288Z",
     "iopub.status.busy": "2020-12-12T09:33:40.016478Z",
     "iopub.status.idle": "2020-12-12T09:33:40.020517Z",
     "shell.execute_reply": "2020-12-12T09:33:40.019834Z"
    },
    "papermill": {
     "duration": 0.298379,
     "end_time": "2020-12-12T09:33:40.020625",
     "exception": false,
     "start_time": "2020-12-12T09:33:39.722246",
     "status": "completed"
    },
    "tags": []
   },
   "outputs": [],
   "source": [
    "param_grid_rfc = {\n",
    "    'model__n_estimators': [50] # The number of randomized trees to build\n",
    "}"
   ]
  },
  {
   "cell_type": "markdown",
   "metadata": {
    "_uuid": "b3ddc28e898d8e4127cc8ac532bfdc5efdd564b5",
    "papermill": {
     "duration": 0.295256,
     "end_time": "2020-12-12T09:33:40.603853",
     "exception": false,
     "start_time": "2020-12-12T09:33:40.308597",
     "status": "completed"
    },
    "tags": []
   },
   "source": [
    "The AUROC will always improve (with decreasing gains) as the number of estimators increases, but it's not necessarily worth the extra training time and model complexity."
   ]
  },
  {
   "cell_type": "code",
   "execution_count": null,
   "metadata": {
    "_cell_guid": "c016e122-86dd-4c96-88c2-a901fe48cf70",
    "_uuid": "8144ec0a936a93a1fbf5e2dd00cd0082dbc40782",
    "execution": {
     "iopub.execute_input": "2020-12-12T09:33:41.196750Z",
     "iopub.status.busy": "2020-12-12T09:33:41.196109Z",
     "iopub.status.idle": "2020-12-12T09:33:41.199651Z",
     "shell.execute_reply": "2020-12-12T09:33:41.199102Z"
    },
    "papermill": {
     "duration": 0.300532,
     "end_time": "2020-12-12T09:33:41.199758",
     "exception": false,
     "start_time": "2020-12-12T09:33:40.899226",
     "status": "completed"
    },
    "tags": []
   },
   "outputs": [],
   "source": [
    "grid_rfc = GridSearchCV(estimator=pipeline_rfc, param_grid=param_grid_rfc, scoring='roc_auc', n_jobs=-1, pre_dispatch=1, cv=5, verbose=1, return_train_score=False)"
   ]
  },
  {
   "cell_type": "code",
   "execution_count": null,
   "metadata": {
    "_cell_guid": "b907b40c-402d-4d4a-a919-e4b63e0a832d",
    "_uuid": "76e6c2e828e670a1494d4d4fbec01f232f067512",
    "execution": {
     "iopub.execute_input": "2020-12-12T09:33:41.793409Z",
     "iopub.status.busy": "2020-12-12T09:33:41.792727Z",
     "iopub.status.idle": "2020-12-12T09:56:08.262395Z",
     "shell.execute_reply": "2020-12-12T09:56:08.262920Z"
    },
    "papermill": {
     "duration": 1346.766785,
     "end_time": "2020-12-12T09:56:08.263077",
     "exception": false,
     "start_time": "2020-12-12T09:33:41.496292",
     "status": "completed"
    },
    "tags": []
   },
   "outputs": [],
   "source": [
    "grid_rfc.fit(X_train, y_train)"
   ]
  },
  {
   "cell_type": "markdown",
   "metadata": {
    "_uuid": "85e7efcd2cec88501d0e47e12a6a5982ecaaf405",
    "papermill": {
     "duration": 0.208361,
     "end_time": "2020-12-12T09:56:08.755534",
     "exception": false,
     "start_time": "2020-12-12T09:56:08.547173",
     "status": "completed"
    },
    "tags": []
   },
   "source": [
    "Mean cross-validated AUROC score of the random forest:"
   ]
  },
  {
   "cell_type": "code",
   "execution_count": null,
   "metadata": {
    "_uuid": "54a61497986d5cafaad3a1d93933f49ec0fa328e",
    "execution": {
     "iopub.execute_input": "2020-12-12T09:56:09.271513Z",
     "iopub.status.busy": "2020-12-12T09:56:09.270593Z",
     "iopub.status.idle": "2020-12-12T09:56:09.278851Z",
     "shell.execute_reply": "2020-12-12T09:56:09.279499Z"
    },
    "papermill": {
     "duration": 0.311597,
     "end_time": "2020-12-12T09:56:09.279627",
     "exception": false,
     "start_time": "2020-12-12T09:56:08.968030",
     "status": "completed"
    },
    "tags": []
   },
   "outputs": [],
   "source": [
    "grid_rfc.best_score_"
   ]
  },
  {
   "cell_type": "markdown",
   "metadata": {
    "_uuid": "acc3197dc05fa0bd5164850aa86fdd783f53088a",
    "papermill": {
     "duration": 0.211004,
     "end_time": "2020-12-12T09:56:09.764707",
     "exception": false,
     "start_time": "2020-12-12T09:56:09.553703",
     "status": "completed"
    },
    "tags": []
   },
   "source": [
    "Not quite as good as logistic regression, at least according to this metric."
   ]
  },
  {
   "cell_type": "markdown",
   "metadata": {
    "_cell_guid": "04560103-0efe-4ace-831b-be73ece4fe7b",
    "_uuid": "4476709021bd10a8e39d8f7e99e8fdf4adcb6970",
    "papermill": {
     "duration": 0.208665,
     "end_time": "2020-12-12T09:56:10.183442",
     "exception": false,
     "start_time": "2020-12-12T09:56:09.974777",
     "status": "completed"
    },
    "tags": []
   },
   "source": [
    "<a id=\"6.4\"></a>\n",
    "## 6.4 Tune hyperparameters on the chosen model more finely"
   ]
  },
  {
   "cell_type": "markdown",
   "metadata": {
    "_cell_guid": "b7460548-ee72-4f66-b921-2ea68bd5db24",
    "_uuid": "edd6b1de60cf7b9da054d0259ea83e8b4e4e8719",
    "papermill": {
     "duration": 0.298086,
     "end_time": "2020-12-12T09:56:10.723409",
     "exception": false,
     "start_time": "2020-12-12T09:56:10.425323",
     "status": "completed"
    },
    "tags": []
   },
   "source": [
    "The three models performed quite similarly according to the AUROC:"
   ]
  },
  {
   "cell_type": "code",
   "execution_count": null,
   "metadata": {
    "_uuid": "399dbe1ae869b7b09f4c793b2f0d2dbf2ab3ce99",
    "execution": {
     "iopub.execute_input": "2020-12-12T09:56:11.320693Z",
     "iopub.status.busy": "2020-12-12T09:56:11.320067Z",
     "iopub.status.idle": "2020-12-12T09:56:11.325618Z",
     "shell.execute_reply": "2020-12-12T09:56:11.325059Z"
    },
    "papermill": {
     "duration": 0.306014,
     "end_time": "2020-12-12T09:56:11.325733",
     "exception": false,
     "start_time": "2020-12-12T09:56:11.019719",
     "status": "completed"
    },
    "tags": []
   },
   "outputs": [],
   "source": [
    "print('Cross-validated AUROC scores')\n",
    "print(grid_sgdlogreg.best_score_, '- Logistic regression')\n",
    "print(grid_rfc.best_score_, '- Random forest')"
   ]
  },
  {
   "cell_type": "markdown",
   "metadata": {
    "_uuid": "ad636baf5b85663770647c4c49572d9d6b5ea445",
    "papermill": {
     "duration": 0.299526,
     "end_time": "2020-12-12T09:56:11.923098",
     "exception": false,
     "start_time": "2020-12-12T09:56:11.623572",
     "status": "completed"
    },
    "tags": []
   },
   "source": [
    "Logistic regression squeaked out ahead, and coupled with the fact that `SGDClassifier` trains much faster than the other two models, we'll select logistic regression as our final model. Now we'll tune the hyperparameters more finely."
   ]
  },
  {
   "cell_type": "code",
   "execution_count": null,
   "metadata": {
    "_uuid": "f793dda90e2860bb02a771f9d960fa13d53140ea",
    "execution": {
     "iopub.execute_input": "2020-12-12T09:56:12.672032Z",
     "iopub.status.busy": "2020-12-12T09:56:12.671343Z",
     "iopub.status.idle": "2020-12-12T09:56:12.674615Z",
     "shell.execute_reply": "2020-12-12T09:56:12.675303Z"
    },
    "papermill": {
     "duration": 0.451534,
     "end_time": "2020-12-12T09:56:12.675446",
     "exception": false,
     "start_time": "2020-12-12T09:56:12.223912",
     "status": "completed"
    },
    "tags": []
   },
   "outputs": [],
   "source": [
    "param_grid_sgdlogreg = {\n",
    "    'model__alpha': np.logspace(-4.5, 0.5, 11), # Fills in the gaps between 10^-5 and 10^1\n",
    "    'model__penalty': ['l1', 'l2']\n",
    "}\n",
    "\n",
    "print(param_grid_sgdlogreg)"
   ]
  },
  {
   "cell_type": "code",
   "execution_count": null,
   "metadata": {
    "_cell_guid": "c016e122-86dd-4c96-88c2-a901fe48cf70",
    "_uuid": "8144ec0a936a93a1fbf5e2dd00cd0082dbc40782",
    "execution": {
     "iopub.execute_input": "2020-12-12T09:56:13.280793Z",
     "iopub.status.busy": "2020-12-12T09:56:13.280176Z",
     "iopub.status.idle": "2020-12-12T09:56:13.285137Z",
     "shell.execute_reply": "2020-12-12T09:56:13.285833Z"
    },
    "papermill": {
     "duration": 0.317188,
     "end_time": "2020-12-12T09:56:13.286001",
     "exception": false,
     "start_time": "2020-12-12T09:56:12.968813",
     "status": "completed"
    },
    "tags": []
   },
   "outputs": [],
   "source": [
    "grid_sgdlogreg = GridSearchCV(estimator=pipeline_sgdlogreg, param_grid=param_grid_sgdlogreg, scoring='roc_auc', n_jobs=-1, pre_dispatch=1, cv=5, verbose=1, return_train_score=False)"
   ]
  },
  {
   "cell_type": "code",
   "execution_count": null,
   "metadata": {
    "_cell_guid": "b907b40c-402d-4d4a-a919-e4b63e0a832d",
    "_uuid": "76e6c2e828e670a1494d4d4fbec01f232f067512",
    "execution": {
     "iopub.execute_input": "2020-12-12T09:56:14.103934Z",
     "iopub.status.busy": "2020-12-12T09:56:14.103112Z",
     "iopub.status.idle": "2020-12-12T10:58:41.846111Z",
     "shell.execute_reply": "2020-12-12T10:58:41.845536Z"
    },
    "papermill": {
     "duration": 3748.186815,
     "end_time": "2020-12-12T10:58:41.846225",
     "exception": false,
     "start_time": "2020-12-12T09:56:13.659410",
     "status": "completed"
    },
    "scrolled": true,
    "tags": []
   },
   "outputs": [],
   "source": [
    "grid_sgdlogreg.fit(X_train, y_train)"
   ]
  },
  {
   "cell_type": "markdown",
   "metadata": {
    "_uuid": "fffdf580c56431cd185b46c3761b3ae5013e996e",
    "papermill": {
     "duration": 0.304153,
     "end_time": "2020-12-12T10:58:42.415897",
     "exception": false,
     "start_time": "2020-12-12T10:58:42.111744",
     "status": "completed"
    },
    "tags": []
   },
   "source": [
    "Mean cross-validated AUROC score of the best model:"
   ]
  },
  {
   "cell_type": "code",
   "execution_count": null,
   "metadata": {
    "_uuid": "27ba528bb11b21569f709e91f8166b044f72acc5",
    "execution": {
     "iopub.execute_input": "2020-12-12T10:58:43.272243Z",
     "iopub.status.busy": "2020-12-12T10:58:43.270591Z",
     "iopub.status.idle": "2020-12-12T10:58:43.280677Z",
     "shell.execute_reply": "2020-12-12T10:58:43.279867Z"
    },
    "papermill": {
     "duration": 0.459254,
     "end_time": "2020-12-12T10:58:43.280806",
     "exception": false,
     "start_time": "2020-12-12T10:58:42.821552",
     "status": "completed"
    },
    "tags": []
   },
   "outputs": [],
   "source": [
    "grid_sgdlogreg.best_score_"
   ]
  },
  {
   "cell_type": "markdown",
   "metadata": {
    "_cell_guid": "67901f97-33dc-4ff0-8968-127eda9da452",
    "_uuid": "a6829cf727f13a804180637da8cfc8477754b8c6",
    "papermill": {
     "duration": 0.447478,
     "end_time": "2020-12-12T10:58:44.174113",
     "exception": false,
     "start_time": "2020-12-12T10:58:43.726635",
     "status": "completed"
    },
    "tags": []
   },
   "source": [
    "Best hyperparameters:"
   ]
  },
  {
   "cell_type": "code",
   "execution_count": null,
   "metadata": {
    "_cell_guid": "14983fb4-d45a-431d-9c03-20d737862cc7",
    "_uuid": "fffc4de31000514e733ccd7c8f0aac9306226644",
    "execution": {
     "iopub.execute_input": "2020-12-12T10:58:45.063768Z",
     "iopub.status.busy": "2020-12-12T10:58:45.062990Z",
     "iopub.status.idle": "2020-12-12T10:58:45.069342Z",
     "shell.execute_reply": "2020-12-12T10:58:45.070159Z"
    },
    "papermill": {
     "duration": 0.452477,
     "end_time": "2020-12-12T10:58:45.070311",
     "exception": false,
     "start_time": "2020-12-12T10:58:44.617834",
     "status": "completed"
    },
    "tags": []
   },
   "outputs": [],
   "source": [
    "grid_sgdlogreg.best_params_"
   ]
  },
  {
   "cell_type": "markdown",
   "metadata": {
    "_uuid": "235152491393c80244d2b352a00a687f24db3c0b",
    "papermill": {
     "duration": 0.449314,
     "end_time": "2020-12-12T10:58:45.969176",
     "exception": false,
     "start_time": "2020-12-12T10:58:45.519862",
     "status": "completed"
    },
    "tags": []
   },
   "source": [
    "By some coincidence, the optimal hyperparameters here are the same as from our first grid search for logistic regression!"
   ]
  },
  {
   "cell_type": "markdown",
   "metadata": {
    "_cell_guid": "61ffd538-9579-4638-8156-bcb3f29b39ab",
    "_uuid": "f3b87036a9ae078b8a9cc36ce5b47f734059358c",
    "papermill": {
     "duration": 0.398737,
     "end_time": "2020-12-12T10:58:46.841323",
     "exception": false,
     "start_time": "2020-12-12T10:58:46.442586",
     "status": "completed"
    },
    "tags": []
   },
   "source": [
    "<a id=\"6.5\"></a>\n",
    "## 6.5 Test set evaluation"
   ]
  },
  {
   "cell_type": "markdown",
   "metadata": {
    "_uuid": "392c3c4194201722d6139f71c030be32411858f4",
    "papermill": {
     "duration": 0.368716,
     "end_time": "2020-12-12T10:58:47.522566",
     "exception": false,
     "start_time": "2020-12-12T10:58:47.153850",
     "status": "completed"
    },
    "tags": []
   },
   "source": [
    "Now we can finally see how our chosen model performs on the test data (the most recent 10% of the loans)."
   ]
  },
  {
   "cell_type": "code",
   "execution_count": null,
   "metadata": {
    "_uuid": "9422581825e175f37148cfae47016c7a81bbe29a",
    "execution": {
     "iopub.execute_input": "2020-12-12T10:58:48.415712Z",
     "iopub.status.busy": "2020-12-12T10:58:48.414843Z",
     "iopub.status.idle": "2020-12-12T10:58:49.000687Z",
     "shell.execute_reply": "2020-12-12T10:58:49.000025Z"
    },
    "papermill": {
     "duration": 1.035908,
     "end_time": "2020-12-12T10:58:49.000803",
     "exception": false,
     "start_time": "2020-12-12T10:58:47.964895",
     "status": "completed"
    },
    "tags": []
   },
   "outputs": [],
   "source": [
    "y_score = grid_sgdlogreg.predict_proba(X_test)[:,1]\n",
    "roc_auc_score(y_test, y_score)"
   ]
  },
  {
   "cell_type": "markdown",
   "metadata": {
    "_uuid": "75ec79860214bfcc917bf58cc1f945b58ed5e8a6",
    "papermill": {
     "duration": 0.301313,
     "end_time": "2020-12-12T10:58:49.608797",
     "exception": false,
     "start_time": "2020-12-12T10:58:49.307484",
     "status": "completed"
    },
    "tags": []
   },
   "source": [
    "The test set AUROC score is somewhat lower than the cross-validated score (0.713)."
   ]
  },
  {
   "cell_type": "markdown",
   "metadata": {
    "_uuid": "4d779c09e670092936e083526dffbdd12e02e1c6",
    "papermill": {
     "duration": 0.294556,
     "end_time": "2020-12-12T10:58:50.201404",
     "exception": false,
     "start_time": "2020-12-12T10:58:49.906848",
     "status": "completed"
    },
    "tags": []
   },
   "source": [
    "<a id=\"7\"></a>\n",
    "# 7. Conclusion"
   ]
  },
  {
   "cell_type": "markdown",
   "metadata": {
    "_uuid": "d93f5d6f4cc477e453a27475cd8647f97b642dc2",
    "papermill": {
     "duration": 0.292315,
     "end_time": "2020-12-12T10:58:50.790729",
     "exception": false,
     "start_time": "2020-12-12T10:58:50.498414",
     "status": "completed"
    },
    "tags": []
   },
   "source": [
    "We applied machine learning methods to predict the probability that a requested loan on LendingClub will charge off. After training and evaluating three different models (logistic regression, random forest, and k-nearest neighbors), we found that all three performed similarly according to a cross-validated AUROC score on the training data. We selected logistic regression (with ridge penalty) because it was the fastest model to train, and this model obtained an AUROC score of 0.689 on a test set consisting of the most recent 10% of the loans.\n",
    "\n",
    "This model, while far from perfect, can provide a somewhat informed prediction of the likelihood that a loan will charge off, using only data available to potential investors before the loan is fully funded.\n",
    "\n",
    "We also found that, according to linear measures of correlation between the predictors and the response, the most important variables for predicting charge-off are the loan interest rate and term, and the borrower's FICO score and debt-to-income ratio."
   ]
  }
 ],
 "metadata": {
  "kernelspec": {
   "display_name": "Python 3",
   "language": "python",
   "name": "python3"
  },
  "language_info": {
   "codemirror_mode": {
    "name": "ipython",
    "version": 3
   },
   "file_extension": ".py",
   "mimetype": "text/x-python",
   "name": "python",
   "nbconvert_exporter": "python",
   "pygments_lexer": "ipython3",
   "version": "3.8.8"
  },
  "papermill": {
   "duration": 8319.067269,
   "end_time": "2020-12-12T10:58:52.172469",
   "environment_variables": {},
   "exception": null,
   "input_path": "__notebook__.ipynb",
   "output_path": "__notebook__.ipynb",
   "parameters": {},
   "start_time": "2020-12-12T08:40:13.105200",
   "version": "2.1.0"
  }
 },
 "nbformat": 4,
 "nbformat_minor": 4
}
