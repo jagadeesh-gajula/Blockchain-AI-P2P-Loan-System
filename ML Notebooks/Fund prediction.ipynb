{
 "cells": [
  {
   "cell_type": "code",
   "execution_count": 1,
   "id": "great-psychology",
   "metadata": {},
   "outputs": [],
   "source": [
    "import pandas as pd"
   ]
  },
  {
   "cell_type": "code",
   "execution_count": 11,
   "id": "played-conclusion",
   "metadata": {},
   "outputs": [],
   "source": [
    "data = pd.read_csv('label_encoded_data.csv')"
   ]
  },
  {
   "cell_type": "code",
   "execution_count": 12,
   "id": "valuable-remark",
   "metadata": {},
   "outputs": [
    {
     "data": {
      "text/plain": [
       "(1345310, 27)"
      ]
     },
     "execution_count": 12,
     "metadata": {},
     "output_type": "execute_result"
    }
   ],
   "source": [
    "data.shape"
   ]
  },
  {
   "cell_type": "code",
   "execution_count": 13,
   "id": "organic-clone",
   "metadata": {},
   "outputs": [],
   "source": [
    "data = data[data.loan_status == 1]"
   ]
  },
  {
   "cell_type": "code",
   "execution_count": 14,
   "id": "outer-assumption",
   "metadata": {},
   "outputs": [
    {
     "data": {
      "text/plain": [
       "Index(['addr_state', 'annual_inc', 'application_type', 'dti', 'emp_length',\n",
       "       'fico_range_high', 'fico_range_low', 'home_ownership',\n",
       "       'initial_list_status', 'installment', 'int_rate', 'issue_d',\n",
       "       'loan_amnt', 'loan_status', 'mort_acc', 'open_acc', 'pub_rec',\n",
       "       'pub_rec_bankruptcies', 'purpose', 'revol_bal', 'revol_util', 'term',\n",
       "       'total_acc', 'verification_status', 'zip_code',\n",
       "       'earliest_cr_line_month', 'earliest_cr_line_year'],\n",
       "      dtype='object')"
      ]
     },
     "execution_count": 14,
     "metadata": {},
     "output_type": "execute_result"
    }
   ],
   "source": [
    "data.columns"
   ]
  },
  {
   "cell_type": "code",
   "execution_count": 15,
   "id": "dutch-amsterdam",
   "metadata": {},
   "outputs": [],
   "source": [
    "x = data.drop(['loan_amnt','loan_status'],axis=1)"
   ]
  },
  {
   "cell_type": "code",
   "execution_count": 16,
   "id": "comparative-tribute",
   "metadata": {},
   "outputs": [],
   "source": [
    "y = data.loan_amnt"
   ]
  },
  {
   "cell_type": "code",
   "execution_count": 17,
   "id": "indie-village",
   "metadata": {},
   "outputs": [],
   "source": [
    "from sklearn.impute import SimpleImputer\n",
    "\n",
    "\n",
    "imp = SimpleImputer(strategy='mean')\n",
    "\n",
    "x = pd.DataFrame(imp.fit_transform(x),columns=x.columns)"
   ]
  },
  {
   "cell_type": "code",
   "execution_count": 18,
   "id": "blond-azerbaijan",
   "metadata": {},
   "outputs": [
    {
     "name": "stdout",
     "output_type": "stream",
     "text": [
      "1163303.244790629\n",
      "0.9843722357938066\n"
     ]
    }
   ],
   "source": [
    "from sklearn.feature_selection import RFE\n",
    "from sklearn.svm import SVR \n",
    "from sklearn.linear_model import LinearRegression\n",
    "from sklearn.model_selection import train_test_split\n",
    "from sklearn.preprocessing import StandardScaler\n",
    "from sklearn.metrics import mean_squared_error,r2_score\n",
    "\n",
    "features = ['application_type', 'fico_range_high', 'fico_range_low', 'installment', 'int_rate', 'pub_rec_bankruptcies', 'term', 'verification_status']\n",
    "\n",
    "scale = StandardScaler()\n",
    "x = scale.fit_transform(x[features])\n",
    "\n",
    "x_train,x_test,y_train,y_test = train_test_split(x,y)\n",
    "\n",
    "reg = LinearRegression()\n",
    "\n",
    "reg.fit(x_train,y_train)\n",
    "\n",
    "preds = reg.predict(x_test)\n",
    "\n",
    "print(mean_squared_error(preds,y_test))\n",
    "print(r2_score(preds,y_test))\n",
    "\n",
    "#x_train,x_test,y_train,y_test = train_test_split(x[1::10],y[1::10])\n"
   ]
  },
  {
   "cell_type": "code",
   "execution_count": null,
   "id": "french-grave",
   "metadata": {},
   "outputs": [],
   "source": [
    "from sklearn.svm import SVR\n",
    "\n",
    "reg = SVR()\n",
    "\n",
    "reg.fit(x_train,y_train)"
   ]
  },
  {
   "cell_type": "code",
   "execution_count": null,
   "id": "oriental-globe",
   "metadata": {},
   "outputs": [],
   "source": [
    "pred = reg.predict(x_test)"
   ]
  },
  {
   "cell_type": "code",
   "execution_count": null,
   "id": "artistic-batman",
   "metadata": {},
   "outputs": [],
   "source": [
    "from sklearn.metrics import mean_squared_error,r2_score\n",
    "\n",
    "mean_squared_error(pred,y_test)"
   ]
  },
  {
   "cell_type": "code",
   "execution_count": null,
   "id": "successful-eclipse",
   "metadata": {},
   "outputs": [],
   "source": [
    "r2_score(pred,y_test)"
   ]
  },
  {
   "cell_type": "code",
   "execution_count": null,
   "id": "plain-municipality",
   "metadata": {},
   "outputs": [],
   "source": [
    "from tensorflow.keras.models import Sequential\n",
    "from tensorflow.keras.layers import Dense\n",
    "\n",
    "model = Sequential()\n",
    "model.add(Dense(8,activation='linear'))\n",
    "model.add(Dense(64,activation='linear'))\n",
    "model.add(Dense(32,activation='linear'))\n",
    "model.add(Dense(8,activation='linear'))\n",
    "model.add(Dense(1,activation='linear'))\n",
    "model.compile(loss='mean_squared_error',optimizer='adam',metrics=['mean_squared_error'])\n",
    "model.fit(x_train,y_train,epochs=100,validation_data=(x_test,y_test))\n",
    "\n",
    "\n",
    "\n"
   ]
  },
  {
   "cell_type": "code",
   "execution_count": null,
   "id": "cubic-wednesday",
   "metadata": {},
   "outputs": [],
   "source": [
    "preds = model.predict(x_test)\n",
    "\n",
    "mean_squared_error(preds,y_test)"
   ]
  },
  {
   "cell_type": "code",
   "execution_count": null,
   "id": "anonymous-norway",
   "metadata": {},
   "outputs": [],
   "source": [
    "import winsound\n",
    "\n",
    "\n",
    "winsound.Beep(2000,2000)"
   ]
  }
 ],
 "metadata": {
  "kernelspec": {
   "display_name": "Python 3",
   "language": "python",
   "name": "python3"
  },
  "language_info": {
   "codemirror_mode": {
    "name": "ipython",
    "version": 3
   },
   "file_extension": ".py",
   "mimetype": "text/x-python",
   "name": "python",
   "nbconvert_exporter": "python",
   "pygments_lexer": "ipython3",
   "version": "3.8.8"
  }
 },
 "nbformat": 4,
 "nbformat_minor": 5
}
