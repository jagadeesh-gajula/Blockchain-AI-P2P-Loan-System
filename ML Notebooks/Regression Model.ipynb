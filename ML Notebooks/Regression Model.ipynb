{
 "cells": [
  {
   "cell_type": "code",
   "execution_count": 48,
   "id": "hydraulic-language",
   "metadata": {},
   "outputs": [],
   "source": [
    "import pandas as pd\n",
    "import numpy as p\n",
    "import matplotlib.pyplot as plt"
   ]
  },
  {
   "cell_type": "code",
   "execution_count": 49,
   "id": "pressing-accounting",
   "metadata": {},
   "outputs": [],
   "source": [
    "data = pd.read_csv('accepted_2007_to_2018Q4.csv',low_memory=False)"
   ]
  },
  {
   "cell_type": "code",
   "execution_count": 50,
   "id": "nasty-thumbnail",
   "metadata": {},
   "outputs": [],
   "source": [
    "data = data.drop(['id','member_id'],axis=1)"
   ]
  },
  {
   "cell_type": "code",
   "execution_count": 51,
   "id": "democratic-compact",
   "metadata": {},
   "outputs": [],
   "source": [
    "keep_list = [ 'annual_inc', 'application_type', 'dti', 'earliest_cr_line', 'emp_length', 'fico_range_high', 'fico_range_low', 'home_ownership', 'initial_list_status', 'installment', 'int_rate', 'mort_acc', 'open_acc', 'pub_rec', 'pub_rec_bankruptcies', 'revol_bal', 'revol_util','term', 'total_acc', 'verification_status', 'zip_code','funded_amnt','funded_amnt_inv']"
   ]
  },
  {
   "cell_type": "code",
   "execution_count": 52,
   "id": "documented-chorus",
   "metadata": {},
   "outputs": [],
   "source": [
    "data = data[keep_list]"
   ]
  },
  {
   "cell_type": "code",
   "execution_count": 53,
   "id": "civilian-theta",
   "metadata": {},
   "outputs": [],
   "source": [
    "obj  = [i for i in data.columns if data[i].dtype == 'object']"
   ]
  },
  {
   "cell_type": "code",
   "execution_count": 54,
   "id": "necessary-pepper",
   "metadata": {},
   "outputs": [],
   "source": [
    "from sklearn.preprocessing import LabelEncoder\n",
    "\n",
    "\n",
    "data[obj] = data[obj].astype('str').apply(lambda x:LabelEncoder().fit_transform(x))\n"
   ]
  },
  {
   "cell_type": "code",
   "execution_count": 55,
   "id": "approximate-demographic",
   "metadata": {},
   "outputs": [],
   "source": [
    "data['funded'] = data['funded_amnt'] + data['funded_amnt_inv']"
   ]
  },
  {
   "cell_type": "code",
   "execution_count": 56,
   "id": "forward-bahrain",
   "metadata": {},
   "outputs": [],
   "source": [
    "data = data.drop(['funded_amnt','funded_amnt_inv'],axis=1)"
   ]
  },
  {
   "cell_type": "code",
   "execution_count": 57,
   "id": "sporting-collector",
   "metadata": {},
   "outputs": [],
   "source": [
    "data = data[data.isna().sum(axis=1) == 0]"
   ]
  },
  {
   "cell_type": "code",
   "execution_count": 58,
   "id": "czech-aircraft",
   "metadata": {},
   "outputs": [],
   "source": [
    "y = data['funded']\n",
    "x = data.drop('funded',axis=1)"
   ]
  },
  {
   "cell_type": "code",
   "execution_count": 59,
   "id": "indie-highlight",
   "metadata": {},
   "outputs": [],
   "source": [
    "from sklearn.model_selection import train_test_split\n",
    "\n",
    "\n",
    "x_train,x_test,y_train,y_test = train_test_split(x,y)"
   ]
  },
  {
   "cell_type": "code",
   "execution_count": 60,
   "id": "racial-bread",
   "metadata": {},
   "outputs": [
    {
     "data": {
      "text/plain": [
       "LinearRegression()"
      ]
     },
     "execution_count": 60,
     "metadata": {},
     "output_type": "execute_result"
    }
   ],
   "source": [
    "from sklearn.linear_model import LinearRegression\n",
    "\n",
    "reg = LinearRegression()\n",
    "\n",
    "reg.fit(x_train,y_train)"
   ]
  },
  {
   "cell_type": "code",
   "execution_count": 61,
   "id": "competitive-equilibrium",
   "metadata": {},
   "outputs": [
    {
     "data": {
      "text/plain": [
       "0.9799272278005906"
      ]
     },
     "execution_count": 61,
     "metadata": {},
     "output_type": "execute_result"
    }
   ],
   "source": [
    "from sklearn.metrics import r2_score\n",
    "\n",
    "\n",
    "pred = reg.predict(x_test)\n",
    "\n",
    "r2_score(pred,y_test)"
   ]
  },
  {
   "cell_type": "code",
   "execution_count": 63,
   "id": "talented-hello",
   "metadata": {},
   "outputs": [
    {
     "name": "stdout",
     "output_type": "stream",
     "text": [
      "1 -4.403794089760944\n",
      "2 -4.082973822230049\n",
      "3 -3.732060823607104\n",
      "4 -3.7318296025116053\n",
      "5 -2.863466371319352\n",
      "6 -2.776596372645949\n",
      "7 -2.7260450587596714\n",
      "['application_type', 'fico_range_high', 'fico_range_low', 'installment', 'int_rate', 'pub_rec_bankruptcies', 'term', 'verification_status']\n",
      "8 0.9798501229002798\n",
      "9 0.9798728179955267\n",
      "10 0.9798735125507393\n",
      "11 0.9798746954777888\n",
      "12 0.9798749448824727\n",
      "13 0.9798769558713134\n",
      "14 0.9798808673322909\n",
      "15 0.9798826416736578\n",
      "16 0.9798826561979663\n",
      "17 0.9798825984791176\n",
      "18 0.9798826748710595\n",
      "19 0.9798827463266568\n"
     ]
    }
   ],
   "source": [
    "from sklearn.feature_selection import RFE\n",
    "\n",
    "for i in range(1,20):\n",
    "    ref_reg = LinearRegression()\n",
    "    rfe = RFE(ref_reg,n_features_to_select = i)\n",
    "    rfe.fit(x,y)\n",
    "    features = [k for j,k in zip(rfe.support_,x.columns) if j]\n",
    "    if len(features) == 8:\n",
    "        print(features)\n",
    "    reg = LinearRegression()\n",
    "    reg.fit(x_train[features],y_train)\n",
    "    pred = reg.predict(x_test[features])\n",
    "    print(i,r2_score(pred,y_test))"
   ]
  },
  {
   "cell_type": "code",
   "execution_count": 64,
   "id": "hawaiian-vertical",
   "metadata": {},
   "outputs": [],
   "source": [
    "important = ['application_type', 'fico_range_high', 'fico_range_low', 'installment', 'int_rate', 'pub_rec_bankruptcies', 'term', 'verification_status']"
   ]
  }
 ],
 "metadata": {
  "kernelspec": {
   "display_name": "Python 3",
   "language": "python",
   "name": "python3"
  },
  "language_info": {
   "codemirror_mode": {
    "name": "ipython",
    "version": 3
   },
   "file_extension": ".py",
   "mimetype": "text/x-python",
   "name": "python",
   "nbconvert_exporter": "python",
   "pygments_lexer": "ipython3",
   "version": "3.8.8"
  }
 },
 "nbformat": 4,
 "nbformat_minor": 5
}
