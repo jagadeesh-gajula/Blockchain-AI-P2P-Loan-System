{
 "cells": [
  {
   "cell_type": "markdown",
   "id": "latter-administrator",
   "metadata": {},
   "source": [
    "# classification model "
   ]
  },
  {
   "cell_type": "code",
   "execution_count": 63,
   "id": "relevant-influence",
   "metadata": {},
   "outputs": [],
   "source": [
    "import pandas as pd\n",
    "import numpy as np\n",
    "import matplotlib.pyplot as plt\n",
    "import random \n",
    "import winsound\n",
    "import seaborn as sns"
   ]
  },
  {
   "cell_type": "code",
   "execution_count": 64,
   "id": "interested-korean",
   "metadata": {},
   "outputs": [
    {
     "name": "stdout",
     "output_type": "stream",
     "text": [
      "Wall time: 1min 5s\n"
     ]
    }
   ],
   "source": [
    "%%time\n",
    "loan = pd.read_csv('accepted_2007_to_2018Q4.csv',low_memory=False)"
   ]
  },
  {
   "cell_type": "code",
   "execution_count": 65,
   "id": "smooth-category",
   "metadata": {},
   "outputs": [
    {
     "data": {
      "text/plain": [
       "(2260701, 151)"
      ]
     },
     "execution_count": 65,
     "metadata": {},
     "output_type": "execute_result"
    }
   ],
   "source": [
    "loan.shape\n"
   ]
  },
  {
   "cell_type": "code",
   "execution_count": 66,
   "id": "functional-chocolate",
   "metadata": {},
   "outputs": [
    {
     "data": {
      "text/plain": [
       "['id']"
      ]
     },
     "execution_count": 66,
     "metadata": {},
     "output_type": "execute_result"
    }
   ],
   "source": [
    "[i for i in loan.columns if loan[i].nunique() == loan.shape[0]]"
   ]
  },
  {
   "cell_type": "code",
   "execution_count": 67,
   "id": "opposed-wallet",
   "metadata": {},
   "outputs": [],
   "source": [
    "loan = loan.drop('id',axis=1)"
   ]
  },
  {
   "cell_type": "code",
   "execution_count": 68,
   "id": "egyptian-boston",
   "metadata": {},
   "outputs": [],
   "source": [
    "half_missing_columns = [i for i in loan.columns if loan[i].isnull().mean() > .5]"
   ]
  },
  {
   "cell_type": "code",
   "execution_count": 69,
   "id": "executed-interpretation",
   "metadata": {},
   "outputs": [],
   "source": [
    "loan  = loan.drop(half_missing_columns,axis=1)"
   ]
  },
  {
   "cell_type": "code",
   "execution_count": 70,
   "id": "electrical-correspondence",
   "metadata": {},
   "outputs": [],
   "source": [
    "data = loan.copy()"
   ]
  },
  {
   "cell_type": "code",
   "execution_count": 71,
   "id": "complex-equation",
   "metadata": {},
   "outputs": [
    {
     "name": "stdout",
     "output_type": "stream",
     "text": [
      "Keep features:  30\n"
     ]
    }
   ],
   "source": [
    "keep_list = ['addr_state', 'annual_inc', 'application_type', 'dti', 'earliest_cr_line', 'emp_length', 'emp_title', 'fico_range_high', 'fico_range_low', 'grade', 'home_ownership', 'initial_list_status', 'installment', 'int_rate', 'issue_d', 'loan_amnt', 'loan_status', 'mort_acc', 'open_acc', 'pub_rec', 'pub_rec_bankruptcies', 'purpose', 'revol_bal', 'revol_util', 'sub_grade', 'term', 'title', 'total_acc', 'verification_status', 'zip_code']\n",
    "print(\"Keep features: \", len(keep_list))"
   ]
  },
  {
   "cell_type": "code",
   "execution_count": 72,
   "id": "seeing-special",
   "metadata": {},
   "outputs": [],
   "source": [
    "data['loan_amnt'] = data['loan_amnt'].astype(float)"
   ]
  },
  {
   "cell_type": "code",
   "execution_count": 73,
   "id": "encouraging-survivor",
   "metadata": {},
   "outputs": [],
   "source": [
    "data = loan[keep_list]"
   ]
  },
  {
   "cell_type": "code",
   "execution_count": 74,
   "id": "greater-bronze",
   "metadata": {},
   "outputs": [
    {
     "data": {
      "text/plain": [
       "(2260701, 30)"
      ]
     },
     "execution_count": 74,
     "metadata": {},
     "output_type": "execute_result"
    }
   ],
   "source": [
    "data.shape"
   ]
  },
  {
   "cell_type": "code",
   "execution_count": 75,
   "id": "durable-scottish",
   "metadata": {},
   "outputs": [],
   "source": [
    "data = data.drop(['emp_title','title'],axis=1)"
   ]
  },
  {
   "cell_type": "code",
   "execution_count": 76,
   "id": "classical-calculator",
   "metadata": {},
   "outputs": [],
   "source": [
    "data = data.drop(['grade','sub_grade',],axis=1)"
   ]
  },
  {
   "cell_type": "code",
   "execution_count": 77,
   "id": "impressed-freedom",
   "metadata": {},
   "outputs": [
    {
     "data": {
      "text/plain": [
       "(2260701, 26)"
      ]
     },
     "execution_count": 77,
     "metadata": {},
     "output_type": "execute_result"
    }
   ],
   "source": [
    "data.shape"
   ]
  },
  {
   "cell_type": "code",
   "execution_count": 78,
   "id": "neither-happiness",
   "metadata": {},
   "outputs": [
    {
     "data": {
      "text/plain": [
       "<AxesSubplot:>"
      ]
     },
     "execution_count": 78,
     "metadata": {},
     "output_type": "execute_result"
    },
    {
     "data": {
      "image/png": "[encoded data removed]",
      "text/plain": [
       "<Figure size 504x144 with 1 Axes>"
      ]
     },
     "metadata": {
      "needs_background": "light"
     },
     "output_type": "display_data"
    }
   ],
   "source": [
    "plt.figure(figsize=(7,2),dpi=72)\n",
    "data.isnull().sum().plot(kind='bar')"
   ]
  },
  {
   "cell_type": "code",
   "execution_count": 79,
   "id": "collective-motivation",
   "metadata": {},
   "outputs": [
    {
     "data": {
      "text/html": [
       "<div>\n",
       "<style scoped>\n",
       "    .dataframe tbody tr th:only-of-type {\n",
       "        vertical-align: middle;\n",
       "    }\n",
       "\n",
       "    .dataframe tbody tr th {\n",
       "        vertical-align: top;\n",
       "    }\n",
       "\n",
       "    .dataframe thead th {\n",
       "        text-align: right;\n",
       "    }\n",
       "</style>\n",
       "<table border=\"1\" class=\"dataframe\">\n",
       "  <thead>\n",
       "    <tr style=\"text-align: right;\">\n",
       "      <th></th>\n",
       "      <th>annual_inc</th>\n",
       "      <th>dti</th>\n",
       "      <th>fico_range_high</th>\n",
       "      <th>fico_range_low</th>\n",
       "      <th>installment</th>\n",
       "      <th>int_rate</th>\n",
       "      <th>loan_amnt</th>\n",
       "      <th>mort_acc</th>\n",
       "      <th>open_acc</th>\n",
       "      <th>pub_rec</th>\n",
       "      <th>pub_rec_bankruptcies</th>\n",
       "      <th>revol_bal</th>\n",
       "      <th>revol_util</th>\n",
       "      <th>total_acc</th>\n",
       "    </tr>\n",
       "  </thead>\n",
       "  <tbody>\n",
       "    <tr>\n",
       "      <th>0</th>\n",
       "      <td>55000.0</td>\n",
       "      <td>5.91</td>\n",
       "      <td>679.0</td>\n",
       "      <td>675.0</td>\n",
       "      <td>123.03</td>\n",
       "      <td>13.99</td>\n",
       "      <td>3600.0</td>\n",
       "      <td>1.0</td>\n",
       "      <td>7.0</td>\n",
       "      <td>0.0</td>\n",
       "      <td>0.0</td>\n",
       "      <td>2765.0</td>\n",
       "      <td>29.7</td>\n",
       "      <td>13.0</td>\n",
       "    </tr>\n",
       "    <tr>\n",
       "      <th>1</th>\n",
       "      <td>65000.0</td>\n",
       "      <td>16.06</td>\n",
       "      <td>719.0</td>\n",
       "      <td>715.0</td>\n",
       "      <td>820.28</td>\n",
       "      <td>11.99</td>\n",
       "      <td>24700.0</td>\n",
       "      <td>4.0</td>\n",
       "      <td>22.0</td>\n",
       "      <td>0.0</td>\n",
       "      <td>0.0</td>\n",
       "      <td>21470.0</td>\n",
       "      <td>19.2</td>\n",
       "      <td>38.0</td>\n",
       "    </tr>\n",
       "    <tr>\n",
       "      <th>2</th>\n",
       "      <td>63000.0</td>\n",
       "      <td>10.78</td>\n",
       "      <td>699.0</td>\n",
       "      <td>695.0</td>\n",
       "      <td>432.66</td>\n",
       "      <td>10.78</td>\n",
       "      <td>20000.0</td>\n",
       "      <td>5.0</td>\n",
       "      <td>6.0</td>\n",
       "      <td>0.0</td>\n",
       "      <td>0.0</td>\n",
       "      <td>7869.0</td>\n",
       "      <td>56.2</td>\n",
       "      <td>18.0</td>\n",
       "    </tr>\n",
       "    <tr>\n",
       "      <th>3</th>\n",
       "      <td>110000.0</td>\n",
       "      <td>17.06</td>\n",
       "      <td>789.0</td>\n",
       "      <td>785.0</td>\n",
       "      <td>829.90</td>\n",
       "      <td>14.85</td>\n",
       "      <td>35000.0</td>\n",
       "      <td>1.0</td>\n",
       "      <td>13.0</td>\n",
       "      <td>0.0</td>\n",
       "      <td>0.0</td>\n",
       "      <td>7802.0</td>\n",
       "      <td>11.6</td>\n",
       "      <td>17.0</td>\n",
       "    </tr>\n",
       "    <tr>\n",
       "      <th>4</th>\n",
       "      <td>104433.0</td>\n",
       "      <td>25.37</td>\n",
       "      <td>699.0</td>\n",
       "      <td>695.0</td>\n",
       "      <td>289.91</td>\n",
       "      <td>22.45</td>\n",
       "      <td>10400.0</td>\n",
       "      <td>6.0</td>\n",
       "      <td>12.0</td>\n",
       "      <td>0.0</td>\n",
       "      <td>0.0</td>\n",
       "      <td>21929.0</td>\n",
       "      <td>64.5</td>\n",
       "      <td>35.0</td>\n",
       "    </tr>\n",
       "  </tbody>\n",
       "</table>\n",
       "</div>"
      ],
      "text/plain": [
       "   annual_inc    dti  fico_range_high  fico_range_low  installment  int_rate  \\\n",
       "0     55000.0   5.91            679.0           675.0       123.03     13.99   \n",
       "1     65000.0  16.06            719.0           715.0       820.28     11.99   \n",
       "2     63000.0  10.78            699.0           695.0       432.66     10.78   \n",
       "3    110000.0  17.06            789.0           785.0       829.90     14.85   \n",
       "4    104433.0  25.37            699.0           695.0       289.91     22.45   \n",
       "\n",
       "   loan_amnt  mort_acc  open_acc  pub_rec  pub_rec_bankruptcies  revol_bal  \\\n",
       "0     3600.0       1.0       7.0      0.0                   0.0     2765.0   \n",
       "1    24700.0       4.0      22.0      0.0                   0.0    21470.0   \n",
       "2    20000.0       5.0       6.0      0.0                   0.0     7869.0   \n",
       "3    35000.0       1.0      13.0      0.0                   0.0     7802.0   \n",
       "4    10400.0       6.0      12.0      0.0                   0.0    21929.0   \n",
       "\n",
       "   revol_util  total_acc  \n",
       "0        29.7       13.0  \n",
       "1        19.2       38.0  \n",
       "2        56.2       18.0  \n",
       "3        11.6       17.0  \n",
       "4        64.5       35.0  "
      ]
     },
     "execution_count": 79,
     "metadata": {},
     "output_type": "execute_result"
    }
   ],
   "source": [
    "data[[i for i in data.columns if data[i].dtype == 'float64']].head()"
   ]
  },
  {
   "cell_type": "code",
   "execution_count": 80,
   "id": "logical-recording",
   "metadata": {},
   "outputs": [
    {
     "data": {
      "text/html": [
       "<div>\n",
       "<style scoped>\n",
       "    .dataframe tbody tr th:only-of-type {\n",
       "        vertical-align: middle;\n",
       "    }\n",
       "\n",
       "    .dataframe tbody tr th {\n",
       "        vertical-align: top;\n",
       "    }\n",
       "\n",
       "    .dataframe thead th {\n",
       "        text-align: right;\n",
       "    }\n",
       "</style>\n",
       "<table border=\"1\" class=\"dataframe\">\n",
       "  <thead>\n",
       "    <tr style=\"text-align: right;\">\n",
       "      <th></th>\n",
       "      <th>addr_state</th>\n",
       "      <th>application_type</th>\n",
       "      <th>earliest_cr_line</th>\n",
       "      <th>emp_length</th>\n",
       "      <th>home_ownership</th>\n",
       "      <th>initial_list_status</th>\n",
       "      <th>issue_d</th>\n",
       "      <th>loan_status</th>\n",
       "      <th>purpose</th>\n",
       "      <th>term</th>\n",
       "      <th>verification_status</th>\n",
       "      <th>zip_code</th>\n",
       "    </tr>\n",
       "  </thead>\n",
       "  <tbody>\n",
       "    <tr>\n",
       "      <th>0</th>\n",
       "      <td>PA</td>\n",
       "      <td>Individual</td>\n",
       "      <td>Aug-2003</td>\n",
       "      <td>10+ years</td>\n",
       "      <td>MORTGAGE</td>\n",
       "      <td>w</td>\n",
       "      <td>Dec-2015</td>\n",
       "      <td>Fully Paid</td>\n",
       "      <td>debt_consolidation</td>\n",
       "      <td>36 months</td>\n",
       "      <td>Not Verified</td>\n",
       "      <td>190xx</td>\n",
       "    </tr>\n",
       "    <tr>\n",
       "      <th>1</th>\n",
       "      <td>SD</td>\n",
       "      <td>Individual</td>\n",
       "      <td>Dec-1999</td>\n",
       "      <td>10+ years</td>\n",
       "      <td>MORTGAGE</td>\n",
       "      <td>w</td>\n",
       "      <td>Dec-2015</td>\n",
       "      <td>Fully Paid</td>\n",
       "      <td>small_business</td>\n",
       "      <td>36 months</td>\n",
       "      <td>Not Verified</td>\n",
       "      <td>577xx</td>\n",
       "    </tr>\n",
       "    <tr>\n",
       "      <th>2</th>\n",
       "      <td>IL</td>\n",
       "      <td>Joint App</td>\n",
       "      <td>Aug-2000</td>\n",
       "      <td>10+ years</td>\n",
       "      <td>MORTGAGE</td>\n",
       "      <td>w</td>\n",
       "      <td>Dec-2015</td>\n",
       "      <td>Fully Paid</td>\n",
       "      <td>home_improvement</td>\n",
       "      <td>60 months</td>\n",
       "      <td>Not Verified</td>\n",
       "      <td>605xx</td>\n",
       "    </tr>\n",
       "    <tr>\n",
       "      <th>3</th>\n",
       "      <td>NJ</td>\n",
       "      <td>Individual</td>\n",
       "      <td>Sep-2008</td>\n",
       "      <td>10+ years</td>\n",
       "      <td>MORTGAGE</td>\n",
       "      <td>w</td>\n",
       "      <td>Dec-2015</td>\n",
       "      <td>Current</td>\n",
       "      <td>debt_consolidation</td>\n",
       "      <td>60 months</td>\n",
       "      <td>Source Verified</td>\n",
       "      <td>076xx</td>\n",
       "    </tr>\n",
       "    <tr>\n",
       "      <th>4</th>\n",
       "      <td>PA</td>\n",
       "      <td>Individual</td>\n",
       "      <td>Jun-1998</td>\n",
       "      <td>3 years</td>\n",
       "      <td>MORTGAGE</td>\n",
       "      <td>w</td>\n",
       "      <td>Dec-2015</td>\n",
       "      <td>Fully Paid</td>\n",
       "      <td>major_purchase</td>\n",
       "      <td>60 months</td>\n",
       "      <td>Source Verified</td>\n",
       "      <td>174xx</td>\n",
       "    </tr>\n",
       "  </tbody>\n",
       "</table>\n",
       "</div>"
      ],
      "text/plain": [
       "  addr_state application_type earliest_cr_line emp_length home_ownership  \\\n",
       "0         PA       Individual         Aug-2003  10+ years       MORTGAGE   \n",
       "1         SD       Individual         Dec-1999  10+ years       MORTGAGE   \n",
       "2         IL        Joint App         Aug-2000  10+ years       MORTGAGE   \n",
       "3         NJ       Individual         Sep-2008  10+ years       MORTGAGE   \n",
       "4         PA       Individual         Jun-1998    3 years       MORTGAGE   \n",
       "\n",
       "  initial_list_status   issue_d loan_status             purpose        term  \\\n",
       "0                   w  Dec-2015  Fully Paid  debt_consolidation   36 months   \n",
       "1                   w  Dec-2015  Fully Paid      small_business   36 months   \n",
       "2                   w  Dec-2015  Fully Paid    home_improvement   60 months   \n",
       "3                   w  Dec-2015     Current  debt_consolidation   60 months   \n",
       "4                   w  Dec-2015  Fully Paid      major_purchase   60 months   \n",
       "\n",
       "  verification_status zip_code  \n",
       "0        Not Verified    190xx  \n",
       "1        Not Verified    577xx  \n",
       "2        Not Verified    605xx  \n",
       "3     Source Verified    076xx  \n",
       "4     Source Verified    174xx  "
      ]
     },
     "execution_count": 80,
     "metadata": {},
     "output_type": "execute_result"
    }
   ],
   "source": [
    "data[[i for i in data.columns if data[i].dtype == 'object']].head()"
   ]
  },
  {
   "cell_type": "code",
   "execution_count": 81,
   "id": "nearby-poster",
   "metadata": {},
   "outputs": [
    {
     "name": "stdout",
     "output_type": "stream",
     "text": [
      "addr_state\n",
      "application_type\n",
      "earliest_cr_line\n",
      "emp_length\n",
      "home_ownership\n",
      "initial_list_status\n",
      "issue_d\n",
      "loan_status\n",
      "purpose\n",
      "term\n",
      "verification_status\n",
      "zip_code\n"
     ]
    }
   ],
   "source": [
    "for i in [i for i in data.columns if data[i].dtype == 'object']:\n",
    "    print(i)"
   ]
  },
  {
   "cell_type": "code",
   "execution_count": 82,
   "id": "union-efficiency",
   "metadata": {},
   "outputs": [
    {
     "data": {
      "text/plain": [
       "array([' 36 months', ' 60 months', nan], dtype=object)"
      ]
     },
     "execution_count": 82,
     "metadata": {},
     "output_type": "execute_result"
    }
   ],
   "source": [
    "data['term'].unique()"
   ]
  },
  {
   "cell_type": "code",
   "execution_count": 83,
   "id": "intimate-guitar",
   "metadata": {},
   "outputs": [],
   "source": [
    "data['earliest_cr_line'] = data['earliest_cr_line'].fillna('Jan-2000')\n",
    "data['earliest_cr_line'].astype(str).apply(lambda x:x.split('-'))\n",
    "\n",
    "data['earliest_cr_line_month'] = data['earliest_cr_line'].astype(str).apply(lambda x:x.split('-')[0])\n",
    "data['earliest_cr_line_year'] = data['earliest_cr_line'].astype(str).apply(lambda x:int(x.split('-')[1]))\n",
    "\n",
    "data = data.drop('earliest_cr_line',axis=1)"
   ]
  },
  {
   "cell_type": "code",
   "execution_count": 84,
   "id": "inside-genius",
   "metadata": {},
   "outputs": [],
   "source": [
    "data['emp_length'] = data['emp_length'].fillna('0 years')\n",
    "\n",
    "def emp_length(x):\n",
    "    if x == '10+ years':\n",
    "        return 10\n",
    "    if x == '< 1 year' :\n",
    "        return 1\n",
    "    else:\n",
    "        return x.split()[0]\n",
    "\n",
    "data['emp_length'] = data['emp_length'].astype(str).apply(lambda x:int(emp_length(x)))"
   ]
  },
  {
   "cell_type": "code",
   "execution_count": 85,
   "id": "available-bicycle",
   "metadata": {},
   "outputs": [
    {
     "data": {
      "text/plain": [
       "0          36\n",
       "1          36\n",
       "2          60\n",
       "3          60\n",
       "4          60\n",
       "           ..\n",
       "2260696    60\n",
       "2260697    60\n",
       "2260698    60\n",
       "2260699    36\n",
       "2260700    36\n",
       "Name: term, Length: 2260701, dtype: int64"
      ]
     },
     "execution_count": 85,
     "metadata": {},
     "output_type": "execute_result"
    }
   ],
   "source": [
    "data['term'] = data['term'].fillna('36 months')\n",
    "data['term'] = data['term'].astype(str).apply(lambda x:int(x.split()[0]))\n",
    "data['term']"
   ]
  },
  {
   "cell_type": "code",
   "execution_count": 86,
   "id": "fitted-lucas",
   "metadata": {},
   "outputs": [],
   "source": [
    "data[[i for i in data.columns if data[i].dtype == 'object']] =  data[[i for i in data.columns if data[i].dtype == 'object']].fillna('NA')"
   ]
  },
  {
   "cell_type": "code",
   "execution_count": 87,
   "id": "continued-google",
   "metadata": {},
   "outputs": [],
   "source": [
    "data = data[data['loan_status'].isin(['Fully Paid','Charged Off'])]"
   ]
  },
  {
   "cell_type": "code",
   "execution_count": 88,
   "id": "explicit-remark",
   "metadata": {},
   "outputs": [
    {
     "data": {
      "text/plain": [
       "<AxesSubplot:>"
      ]
     },
     "execution_count": 88,
     "metadata": {},
     "output_type": "execute_result"
    },
    {
     "data": {
      "image/png": "[encoded data removed]",
      "text/plain": [
       "<Figure size 432x288 with 1 Axes>"
      ]
     },
     "metadata": {
      "needs_background": "light"
     },
     "output_type": "display_data"
    }
   ],
   "source": [
    "data['loan_status'].value_counts().plot(kind='bar')"
   ]
  },
  {
   "cell_type": "code",
   "execution_count": 89,
   "id": "informative-plymouth",
   "metadata": {},
   "outputs": [],
   "source": [
    "y = pd.get_dummies(data['loan_status'])['Fully Paid']\n",
    "\n",
    "#data = data.drop('loan_status',axis=1)"
   ]
  },
  {
   "cell_type": "code",
   "execution_count": 90,
   "id": "complimentary-uncle",
   "metadata": {},
   "outputs": [],
   "source": [
    "from sklearn.preprocessing import LabelEncoder\n",
    "\n",
    "\n",
    "data[[i for i in data.columns if data[i].dtype == 'object']] = data[[i for i in data.columns if data[i].dtype == 'object']].astype(str).apply(lambda x:LabelEncoder().fit_transform(x))"
   ]
  },
  {
   "cell_type": "code",
   "execution_count": 91,
   "id": "informational-paris",
   "metadata": {},
   "outputs": [],
   "source": [
    "data.to_csv('label_encoded_data.csv',index=False)"
   ]
  },
  {
   "cell_type": "code",
   "execution_count": 92,
   "id": "speaking-poetry",
   "metadata": {},
   "outputs": [
    {
     "data": {
      "text/plain": [
       "IterativeImputer()"
      ]
     },
     "execution_count": 92,
     "metadata": {},
     "output_type": "execute_result"
    }
   ],
   "source": [
    "from sklearn.experimental import enable_iterative_imputer\n",
    "from sklearn.impute import IterativeImputer\n",
    "\n",
    "\n",
    "imputer  = IterativeImputer()\n",
    "imputer.fit(data)"
   ]
  },
  {
   "cell_type": "code",
   "execution_count": 93,
   "id": "stock-accident",
   "metadata": {},
   "outputs": [],
   "source": [
    "x = imputer.fit_transform(data)"
   ]
  },
  {
   "cell_type": "code",
   "execution_count": 94,
   "id": "documentary-twist",
   "metadata": {},
   "outputs": [],
   "source": [
    "from imblearn.over_sampling import SMOTE"
   ]
  },
  {
   "cell_type": "code",
   "execution_count": 95,
   "id": "furnished-vanilla",
   "metadata": {},
   "outputs": [
    {
     "ename": "KeyboardInterrupt",
     "evalue": "",
     "output_type": "error",
     "traceback": [
      "\u001b[1;31m---------------------------------------------------------------------------\u001b[0m",
      "\u001b[1;31mKeyboardInterrupt\u001b[0m                         Traceback (most recent call last)",
      "\u001b[1;32m<ipython-input-95-f4655543584f>\u001b[0m in \u001b[0;36m<module>\u001b[1;34m\u001b[0m\n\u001b[0;32m      1\u001b[0m \u001b[0mresample\u001b[0m \u001b[1;33m=\u001b[0m \u001b[0mSMOTE\u001b[0m\u001b[1;33m(\u001b[0m\u001b[1;33m)\u001b[0m\u001b[1;33m\u001b[0m\u001b[1;33m\u001b[0m\u001b[0m\n\u001b[0;32m      2\u001b[0m \u001b[1;33m\u001b[0m\u001b[0m\n\u001b[1;32m----> 3\u001b[1;33m \u001b[0mnew_x\u001b[0m\u001b[1;33m,\u001b[0m\u001b[0mnew_y\u001b[0m \u001b[1;33m=\u001b[0m \u001b[0mresample\u001b[0m\u001b[1;33m.\u001b[0m\u001b[0mfit_resample\u001b[0m\u001b[1;33m(\u001b[0m\u001b[0mx\u001b[0m\u001b[1;33m,\u001b[0m\u001b[0my\u001b[0m\u001b[1;33m)\u001b[0m\u001b[1;33m\u001b[0m\u001b[1;33m\u001b[0m\u001b[0m\n\u001b[0m",
      "\u001b[1;32mC:\\Anaconda\\lib\\site-packages\\imblearn\\base.py\u001b[0m in \u001b[0;36mfit_resample\u001b[1;34m(self, X, y)\u001b[0m\n\u001b[0;32m     81\u001b[0m         )\n\u001b[0;32m     82\u001b[0m \u001b[1;33m\u001b[0m\u001b[0m\n\u001b[1;32m---> 83\u001b[1;33m         \u001b[0moutput\u001b[0m \u001b[1;33m=\u001b[0m \u001b[0mself\u001b[0m\u001b[1;33m.\u001b[0m\u001b[0m_fit_resample\u001b[0m\u001b[1;33m(\u001b[0m\u001b[0mX\u001b[0m\u001b[1;33m,\u001b[0m \u001b[0my\u001b[0m\u001b[1;33m)\u001b[0m\u001b[1;33m\u001b[0m\u001b[1;33m\u001b[0m\u001b[0m\n\u001b[0m\u001b[0;32m     84\u001b[0m \u001b[1;33m\u001b[0m\u001b[0m\n\u001b[0;32m     85\u001b[0m         y_ = (label_binarize(output[1], np.unique(y))\n",
      "\u001b[1;32mC:\\Anaconda\\lib\\site-packages\\imblearn\\over_sampling\\_smote.py\u001b[0m in \u001b[0;36m_fit_resample\u001b[1;34m(self, X, y)\u001b[0m\n\u001b[0;32m    730\u001b[0m \u001b[1;33m\u001b[0m\u001b[0m\n\u001b[0;32m    731\u001b[0m             \u001b[0mself\u001b[0m\u001b[1;33m.\u001b[0m\u001b[0mnn_k_\u001b[0m\u001b[1;33m.\u001b[0m\u001b[0mfit\u001b[0m\u001b[1;33m(\u001b[0m\u001b[0mX_class\u001b[0m\u001b[1;33m)\u001b[0m\u001b[1;33m\u001b[0m\u001b[1;33m\u001b[0m\u001b[0m\n\u001b[1;32m--> 732\u001b[1;33m             \u001b[0mnns\u001b[0m \u001b[1;33m=\u001b[0m \u001b[0mself\u001b[0m\u001b[1;33m.\u001b[0m\u001b[0mnn_k_\u001b[0m\u001b[1;33m.\u001b[0m\u001b[0mkneighbors\u001b[0m\u001b[1;33m(\u001b[0m\u001b[0mX_class\u001b[0m\u001b[1;33m,\u001b[0m \u001b[0mreturn_distance\u001b[0m\u001b[1;33m=\u001b[0m\u001b[1;32mFalse\u001b[0m\u001b[1;33m)\u001b[0m\u001b[1;33m[\u001b[0m\u001b[1;33m:\u001b[0m\u001b[1;33m,\u001b[0m \u001b[1;36m1\u001b[0m\u001b[1;33m:\u001b[0m\u001b[1;33m]\u001b[0m\u001b[1;33m\u001b[0m\u001b[1;33m\u001b[0m\u001b[0m\n\u001b[0m\u001b[0;32m    733\u001b[0m             X_new, y_new = self._make_samples(\n\u001b[0;32m    734\u001b[0m                 \u001b[0mX_class\u001b[0m\u001b[1;33m,\u001b[0m \u001b[0my\u001b[0m\u001b[1;33m.\u001b[0m\u001b[0mdtype\u001b[0m\u001b[1;33m,\u001b[0m \u001b[0mclass_sample\u001b[0m\u001b[1;33m,\u001b[0m \u001b[0mX_class\u001b[0m\u001b[1;33m,\u001b[0m \u001b[0mnns\u001b[0m\u001b[1;33m,\u001b[0m \u001b[0mn_samples\u001b[0m\u001b[1;33m,\u001b[0m \u001b[1;36m1.0\u001b[0m\u001b[1;33m\u001b[0m\u001b[1;33m\u001b[0m\u001b[0m\n",
      "\u001b[1;32mC:\\Anaconda\\lib\\site-packages\\sklearn\\neighbors\\_base.py\u001b[0m in \u001b[0;36mkneighbors\u001b[1;34m(self, X, n_neighbors, return_distance)\u001b[0m\n\u001b[0;32m    703\u001b[0m                 \u001b[0mkwds\u001b[0m \u001b[1;33m=\u001b[0m \u001b[0mself\u001b[0m\u001b[1;33m.\u001b[0m\u001b[0meffective_metric_params_\u001b[0m\u001b[1;33m\u001b[0m\u001b[1;33m\u001b[0m\u001b[0m\n\u001b[0;32m    704\u001b[0m \u001b[1;33m\u001b[0m\u001b[0m\n\u001b[1;32m--> 705\u001b[1;33m             chunked_results = list(pairwise_distances_chunked(\n\u001b[0m\u001b[0;32m    706\u001b[0m                 \u001b[0mX\u001b[0m\u001b[1;33m,\u001b[0m \u001b[0mself\u001b[0m\u001b[1;33m.\u001b[0m\u001b[0m_fit_X\u001b[0m\u001b[1;33m,\u001b[0m \u001b[0mreduce_func\u001b[0m\u001b[1;33m=\u001b[0m\u001b[0mreduce_func\u001b[0m\u001b[1;33m,\u001b[0m\u001b[1;33m\u001b[0m\u001b[1;33m\u001b[0m\u001b[0m\n\u001b[0;32m    707\u001b[0m                 \u001b[0mmetric\u001b[0m\u001b[1;33m=\u001b[0m\u001b[0mself\u001b[0m\u001b[1;33m.\u001b[0m\u001b[0meffective_metric_\u001b[0m\u001b[1;33m,\u001b[0m \u001b[0mn_jobs\u001b[0m\u001b[1;33m=\u001b[0m\u001b[0mn_jobs\u001b[0m\u001b[1;33m,\u001b[0m\u001b[1;33m\u001b[0m\u001b[1;33m\u001b[0m\u001b[0m\n",
      "\u001b[1;32mC:\\Anaconda\\lib\\site-packages\\sklearn\\metrics\\pairwise.py\u001b[0m in \u001b[0;36mpairwise_distances_chunked\u001b[1;34m(X, Y, reduce_func, metric, n_jobs, working_memory, **kwds)\u001b[0m\n\u001b[0;32m   1632\u001b[0m             \u001b[0mchunk_size\u001b[0m \u001b[1;33m=\u001b[0m \u001b[0mD_chunk\u001b[0m\u001b[1;33m.\u001b[0m\u001b[0mshape\u001b[0m\u001b[1;33m[\u001b[0m\u001b[1;36m0\u001b[0m\u001b[1;33m]\u001b[0m\u001b[1;33m\u001b[0m\u001b[1;33m\u001b[0m\u001b[0m\n\u001b[0;32m   1633\u001b[0m             \u001b[0mD_chunk\u001b[0m \u001b[1;33m=\u001b[0m \u001b[0mreduce_func\u001b[0m\u001b[1;33m(\u001b[0m\u001b[0mD_chunk\u001b[0m\u001b[1;33m,\u001b[0m \u001b[0msl\u001b[0m\u001b[1;33m.\u001b[0m\u001b[0mstart\u001b[0m\u001b[1;33m)\u001b[0m\u001b[1;33m\u001b[0m\u001b[1;33m\u001b[0m\u001b[0m\n\u001b[1;32m-> 1634\u001b[1;33m             \u001b[0m_check_chunk_size\u001b[0m\u001b[1;33m(\u001b[0m\u001b[0mD_chunk\u001b[0m\u001b[1;33m,\u001b[0m \u001b[0mchunk_size\u001b[0m\u001b[1;33m)\u001b[0m\u001b[1;33m\u001b[0m\u001b[1;33m\u001b[0m\u001b[0m\n\u001b[0m\u001b[0;32m   1635\u001b[0m         \u001b[1;32myield\u001b[0m \u001b[0mD_chunk\u001b[0m\u001b[1;33m\u001b[0m\u001b[1;33m\u001b[0m\u001b[0m\n\u001b[0;32m   1636\u001b[0m \u001b[1;33m\u001b[0m\u001b[0m\n",
      "\u001b[1;32mC:\\Anaconda\\lib\\site-packages\\sklearn\\metrics\\pairwise.py\u001b[0m in \u001b[0;36m_check_chunk_size\u001b[1;34m(reduced, chunk_size)\u001b[0m\n\u001b[0;32m   1417\u001b[0m \u001b[1;33m\u001b[0m\u001b[0m\n\u001b[0;32m   1418\u001b[0m \u001b[1;33m\u001b[0m\u001b[0m\n\u001b[1;32m-> 1419\u001b[1;33m \u001b[1;32mdef\u001b[0m \u001b[0m_check_chunk_size\u001b[0m\u001b[1;33m(\u001b[0m\u001b[0mreduced\u001b[0m\u001b[1;33m,\u001b[0m \u001b[0mchunk_size\u001b[0m\u001b[1;33m)\u001b[0m\u001b[1;33m:\u001b[0m\u001b[1;33m\u001b[0m\u001b[1;33m\u001b[0m\u001b[0m\n\u001b[0m\u001b[0;32m   1420\u001b[0m     \"\"\"Checks chunk is a sequence of expected size or a tuple of same.\n\u001b[0;32m   1421\u001b[0m     \"\"\"\n",
      "\u001b[1;31mKeyboardInterrupt\u001b[0m: "
     ]
    }
   ],
   "source": [
    "resample = SMOTE()\n",
    "\n",
    "new_x,new_y = resample.fit_resample(x,y)"
   ]
  },
  {
   "cell_type": "code",
   "execution_count": null,
   "id": "adequate-fireplace",
   "metadata": {},
   "outputs": [],
   "source": [
    "data.shape"
   ]
  },
  {
   "cell_type": "code",
   "execution_count": null,
   "id": "current-operation",
   "metadata": {},
   "outputs": [],
   "source": [
    "x.shape"
   ]
  },
  {
   "cell_type": "code",
   "execution_count": null,
   "id": "mounted-reviewer",
   "metadata": {},
   "outputs": [],
   "source": [
    "pd.concat([pd.DataFrame(new_x),pd.DataFrame(new_y)],axis=1).to_csv(\"clean_frame\",index=False)"
   ]
  },
  {
   "cell_type": "code",
   "execution_count": null,
   "id": "vulnerable-congress",
   "metadata": {},
   "outputs": [],
   "source": [
    "import pandas as pd\n",
    "new_data = pd.read_csv('clean_frame.csv')\n",
    "new_x = new_data.drop('Fully Paid',axis=1)\n",
    "new_y = new_data['Fully Paid']"
   ]
  },
  {
   "cell_type": "code",
   "execution_count": null,
   "id": "practical-effectiveness",
   "metadata": {},
   "outputs": [],
   "source": [
    "from sklearn.preprocessing import StandardScaler"
   ]
  },
  {
   "cell_type": "code",
   "execution_count": null,
   "id": "alleged-bryan",
   "metadata": {},
   "outputs": [],
   "source": [
    "scale = StandardScaler()\n",
    "\n",
    "scale.fit(new_x)\n",
    "new_x = scale.fit_transform(new_x)"
   ]
  },
  {
   "cell_type": "code",
   "execution_count": null,
   "id": "monthly-ordinance",
   "metadata": {},
   "outputs": [],
   "source": [
    "from sklearn.model_selection import train_test_split\n",
    "\n",
    "x_train,x_test, y_train,y_test = train_test_split(new_x,new_y)"
   ]
  },
  {
   "cell_type": "code",
   "execution_count": null,
   "id": "front-banana",
   "metadata": {},
   "outputs": [],
   "source": [
    "%%time\n",
    "\n",
    "def time():\n",
    "    return \"-\"\n",
    "\n",
    "from sklearn.ensemble import RandomForestClassifier\n",
    "from sklearn.linear_model import LogisticRegression\n",
    "from sklearn.svm import SVC\n",
    "from sklearn.tree import DecisionTreeClassifier\n",
    "from sklearn.metrics import balanced_accuracy_score, f1_score, roc_auc_score, precision_score, recall_score\n",
    "\n",
    "print(time(),\"everything imported successfully\")\n",
    "\n",
    "\n",
    "\n",
    "logreg = LogisticRegression(max_iter=1000)\n",
    "svm = SVC(kernel='linear',cache_size=7000000)\n",
    "tree = DecisionTreeClassifier()\n",
    "forest = RandomForestClassifier(100)\n",
    "\n",
    "print(time(),\"created objects for classifiers successfully\")\n",
    "\n",
    "#logreg.fit(x_train,y_train)\n",
    "#print(time(),\"logisitc regression fit successful\")\n",
    "\n",
    "svm.fit(x_train[0::100],y_train[0::100])\n",
    "print(time(),\"SVM fit successful\")\n",
    "\n",
    "'''\n",
    "tree.fit(x_train,y_train)\n",
    "print(time(),\"Tree fit successful\")\n",
    "\n",
    "forest.fit(x_train[0::5],y_train[0::5])\n",
    "print(time(),\"forest fit successful\")\n",
    "\n",
    "\n",
    "logreg_pred = logreg.predict(x_test)\n",
    "#\n",
    "tree_pred = tree.predict(x_test)\n",
    "forest_pred = forest.predict(x_test)\n",
    "\n",
    "print(\"predictions are stores into variables.\")\n",
    "'''\n",
    "\n",
    "import winsound\n",
    "\n",
    "winsound.Beep(2000,2000)"
   ]
  },
  {
   "cell_type": "code",
   "execution_count": null,
   "id": "widespread-object",
   "metadata": {},
   "outputs": [],
   "source": [
    "print(balanced_accuracy_score(logreg_pred,y_test))\n",
    "print(f1_score(logreg_pred,y_test))\n",
    "print(roc_auc_score(logreg_pred,y_test))\n",
    "print(precision_score(logreg_pred,y_test))\n",
    "print(recall_score(logreg_pred,y_test))"
   ]
  },
  {
   "cell_type": "code",
   "execution_count": null,
   "id": "clean-black",
   "metadata": {},
   "outputs": [],
   "source": [
    "svm_pred = svm.predict(x_test)\n",
    "print(balanced_accuracy_score(svm_pred,y_test))\n",
    "print(f1_score(svm_pred,y_test))\n",
    "print(roc_auc_score(svm_pred,y_test))\n",
    "print(precision_score(svm_pred,y_test))\n",
    "print(recall_score(svm_pred,y_test))"
   ]
  },
  {
   "cell_type": "code",
   "execution_count": null,
   "id": "duplicate-night",
   "metadata": {},
   "outputs": [],
   "source": [
    "print(balanced_accuracy_score(tree_pred,y_test))\n",
    "print(f1_score(tree_pred,y_test))\n",
    "print(roc_auc_score(tree_pred,y_test))\n",
    "print(precision_score(tree_pred,y_test))\n",
    "print(recall_score(tree_pred,y_test))"
   ]
  },
  {
   "cell_type": "code",
   "execution_count": null,
   "id": "novel-madrid",
   "metadata": {},
   "outputs": [],
   "source": [
    "print(balanced_accuracy_score(forest_pred,y_test))\n",
    "print(f1_score(forest_pred,y_test))\n",
    "print(roc_auc_score(forest_pred,y_test))\n",
    "print(precision_score(forest_pred,y_test))\n",
    "print(recall_score(forest_pred,y_test))"
   ]
  },
  {
   "cell_type": "code",
   "execution_count": null,
   "id": "personal-optimum",
   "metadata": {},
   "outputs": [],
   "source": [
    "from tensorflow.keras.models import Sequential\n",
    "from tensorflow.keras.layers import Dense\n",
    "\n",
    "\n",
    "model = Sequential()\n",
    "\n",
    "model.add(Dense(x_train.shape[1],activation='relu'))\n",
    "model.add(Dense(128,activation='relu'))\n",
    "model.add(Dense(64,activation='relu'))\n",
    "model.add(Dense(16,activation='relu'))\n",
    "model.add(Dense(1,activation='sigmoid'))\n",
    "\n",
    "model.compile(optimizer='adam',loss='binary_crossentropy',metrics=['accuracy'])\n",
    "\n",
    "model.fit(x_train,y_train,batch_size=2048,validation_data=(x_test,y_test),epochs=100,verbose=1)\n",
    "\n",
    "\n"
   ]
  },
  {
   "cell_type": "code",
   "execution_count": null,
   "id": "thousand-roman",
   "metadata": {},
   "outputs": [],
   "source": [
    "model.summary()"
   ]
  },
  {
   "cell_type": "code",
   "execution_count": null,
   "id": "living-account",
   "metadata": {},
   "outputs": [],
   "source": [
    "pred = model.predict(x_test)"
   ]
  },
  {
   "cell_type": "code",
   "execution_count": null,
   "id": "increased-violin",
   "metadata": {},
   "outputs": [],
   "source": [
    "import numpy as np\n",
    "kaali = np.zeros(pred.shape)\n",
    "accs = []\n",
    "\n",
    "for i in range(pred.shape[0]):\n",
    "    if pred[i][0] <= .5:\n",
    "        kaali[i][0] = 0\n",
    "    else:\n",
    "        kaali[i][0] = 1\n",
    "\n",
    "\n",
    "print(balanced_accuracy_score(kaali,y_test))\n",
    "print(f1_score(kaali,y_test))\n",
    "print(roc_auc_score(kaali,y_test))\n",
    "print(precision_score(kaali,y_test))\n",
    "print(recall_score(kaali,y_test))\n",
    "    \n",
    "import winsound\n",
    "\n",
    "winsound.Beep(2000,2000)\n"
   ]
  },
  {
   "cell_type": "code",
   "execution_count": null,
   "id": "saved-ethernet",
   "metadata": {},
   "outputs": [],
   "source": []
  },
  {
   "cell_type": "code",
   "execution_count": null,
   "id": "consecutive-sustainability",
   "metadata": {},
   "outputs": [],
   "source": [
    "regx = data.drop(['loan_amnt'],axis=1)\n",
    "regy = data['loan_amnt']\n",
    "\n",
    "from sklearn.linear_model import LinearRegression\n",
    "\n",
    "reg = LinearRegression()\n",
    "\n",
    "reg.fit(regx,regy)\n",
    "\n",
    "reg_pred = reg.predict(regx)\n",
    "\n",
    "from sklearn.metrics import r2_score\n",
    "\n",
    "r2_score(reg_pred,regy)\n",
    "\n",
    "\n"
   ]
  },
  {
   "cell_type": "code",
   "execution_count": null,
   "id": "supposed-relationship",
   "metadata": {},
   "outputs": [],
   "source": [
    "del(model)"
   ]
  }
 ],
 "metadata": {
  "kernelspec": {
   "display_name": "Python 3",
   "language": "python",
   "name": "python3"
  },
  "language_info": {
   "codemirror_mode": {
    "name": "ipython",
    "version": 3
   },
   "file_extension": ".py",
   "mimetype": "text/x-python",
   "name": "python",
   "nbconvert_exporter": "python",
   "pygments_lexer": "ipython3",
   "version": "3.8.8"
  }
 },
 "nbformat": 4,
 "nbformat_minor": 5
}
