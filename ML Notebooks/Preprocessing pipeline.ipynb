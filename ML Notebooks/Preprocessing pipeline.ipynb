{
 "cells": [
  {
   "cell_type": "code",
   "execution_count": 43,
   "id": "sealed-apparel",
   "metadata": {},
   "outputs": [
    {
     "name": "stdout",
     "output_type": "stream",
     "text": [
      "Keep features:  30\n"
     ]
    }
   ],
   "source": [
    "keep_list = ['addr_state', 'annual_inc', 'application_type', 'dti', 'earliest_cr_line', 'emp_length', 'emp_title', 'fico_range_high', 'fico_range_low', 'grade', 'home_ownership', 'initial_list_status', 'installment', 'int_rate', 'issue_d', 'loan_amnt', 'loan_status', 'mort_acc', 'open_acc', 'pub_rec', 'pub_rec_bankruptcies', 'purpose', 'revol_bal', 'revol_util', 'sub_grade', 'term', 'title', 'total_acc', 'verification_status', 'zip_code']\n",
    "print(\"Keep features: \", len(keep_list))"
   ]
  },
  {
   "cell_type": "code",
   "execution_count": 44,
   "id": "pleased-weekly",
   "metadata": {},
   "outputs": [],
   "source": [
    "import pandas as pd\n",
    "import numpy as np\n",
    "import matplotlib.pyplot as plt\n",
    "import random \n",
    "import winsound\n",
    "import seaborn as sns\n",
    "\n",
    "\n",
    "loan = pd.read_csv('accepted_2007_to_2018Q4.csv',low_memory=False)"
   ]
  },
  {
   "cell_type": "code",
   "execution_count": 45,
   "id": "fixed-matthew",
   "metadata": {},
   "outputs": [],
   "source": [
    "data = loan[keep_list]\n",
    "data = data.drop(['grade','sub_grade','emp_title','title','earliest_cr_line'],axis=1)"
   ]
  },
  {
   "cell_type": "code",
   "execution_count": 46,
   "id": "automotive-plenty",
   "metadata": {},
   "outputs": [],
   "source": [
    "# not in pipeline\n",
    "data['loan_amnt'] = data['loan_amnt'].astype(float)"
   ]
  },
  {
   "cell_type": "code",
   "execution_count": 47,
   "id": "advised-crowd",
   "metadata": {},
   "outputs": [],
   "source": [
    "# not in pipeline\n",
    "data['emp_length'] = data['emp_length'].fillna('0 years')\n",
    "\n",
    "def emp_length(x):\n",
    "    if x == '10+ years':\n",
    "        return 10\n",
    "    if x == '< 1 year' :\n",
    "        return 1\n",
    "    else:\n",
    "        return x.split()[0]\n",
    "\n",
    "data['emp_length'] = data['emp_length'].astype(str).apply(lambda x:int(emp_length(x)))"
   ]
  },
  {
   "cell_type": "code",
   "execution_count": 48,
   "id": "continental-printer",
   "metadata": {},
   "outputs": [],
   "source": [
    "#not in pipeline\n",
    "data['term'] = data['term'].fillna('36 months')\n",
    "data['term'] = data['term'].astype(str).apply(lambda x:int(x.split()[0]))"
   ]
  },
  {
   "cell_type": "code",
   "execution_count": 49,
   "id": "fewer-findings",
   "metadata": {},
   "outputs": [],
   "source": [
    "# not in pipeline\n",
    "data[[i for i in data.columns if data[i].dtype == 'object']] =  data[[i for i in data.columns if data[i].dtype == 'object']].fillna('NA')"
   ]
  },
  {
   "cell_type": "code",
   "execution_count": 50,
   "id": "incorrect-import",
   "metadata": {},
   "outputs": [],
   "source": [
    "# not in pipeline\n",
    "data = data[data['loan_status'].isin(['Fully Paid','Charged Off'])]\n",
    "data = data[data['zip_code'] != 'NA']\n",
    "data['loan_status'] = pd.get_dummies(data['loan_status'])['Fully Paid']"
   ]
  },
  {
   "cell_type": "code",
   "execution_count": 51,
   "id": "handed-defendant",
   "metadata": {},
   "outputs": [],
   "source": [
    "# not in pipeline \n",
    "from sklearn.experimental import enable_iterative_imputer\n",
    "from sklearn.impute import IterativeImputer\n",
    "\n",
    "imputer  = IterativeImputer()\n",
    "imputer.fit(data[[i for i in data.columns if data[i].dtype != 'object']])\n",
    "temp = imputer.fit_transform(data[[i for i in data.columns if data[i].dtype != 'object']])\n",
    "data[[i for i in data.columns if data[i].dtype != 'object']] = temp"
   ]
  },
  {
   "cell_type": "code",
   "execution_count": 52,
   "id": "enhanced-pricing",
   "metadata": {},
   "outputs": [],
   "source": [
    "data['zip_code'] = data.zip_code.astype(str).apply(lambda x:x.replace('xx',\"\"))\n",
    "data['zip_code'] = data.zip_code.astype(int)"
   ]
  },
  {
   "cell_type": "code",
   "execution_count": 53,
   "id": "residential-modern",
   "metadata": {},
   "outputs": [],
   "source": [
    "obj_cols = [i for i in data.columns if data[i].dtype == 'object']\n",
    "num_cols = [i for i in data.columns if data[i].dtype != 'object']"
   ]
  },
  {
   "cell_type": "code",
   "execution_count": 54,
   "id": "accessory-better",
   "metadata": {},
   "outputs": [],
   "source": [
    "num_cols.remove('loan_status')"
   ]
  },
  {
   "cell_type": "code",
   "execution_count": 55,
   "id": "national-truth",
   "metadata": {},
   "outputs": [],
   "source": [
    "x = data.drop('loan_status',axis=1)\n",
    "y = data.loan_status"
   ]
  },
  {
   "cell_type": "code",
   "execution_count": 56,
   "id": "worse-warning",
   "metadata": {},
   "outputs": [],
   "source": [
    "data.to_csv('Clened_data.csv',index=False)"
   ]
  },
  {
   "cell_type": "code",
   "execution_count": 57,
   "id": "urban-scout",
   "metadata": {},
   "outputs": [],
   "source": [
    "from sklearn.preprocessing import OrdinalEncoder\n",
    "\n",
    "enc = OrdinalEncoder()\n",
    "enc.fit(data[obj_cols])\n",
    "\n",
    "data[obj_cols] = enc.fit_transform(data[obj_cols])"
   ]
  },
  {
   "cell_type": "code",
   "execution_count": null,
   "id": "scheduled-courtesy",
   "metadata": {},
   "outputs": [],
   "source": []
  },
  {
   "cell_type": "code",
   "execution_count": 58,
   "id": "irish-territory",
   "metadata": {},
   "outputs": [
    {
     "data": {
      "text/plain": [
       "0.9999967494881604"
      ]
     },
     "execution_count": 58,
     "metadata": {},
     "output_type": "execute_result"
    }
   ],
   "source": [
    "from sklearn.ensemble import RandomForestClassifier\n",
    "\n",
    "\n",
    "x = data.drop('loan_status',axis=1)\n",
    "y = data.loan_status\n",
    "\n",
    "forest  = RandomForestClassifier()\n",
    "\n",
    "forest.fit(x,y)\n",
    "\n",
    "\n",
    "from sklearn.metrics import f1_score\n",
    "\n",
    "f1_score(forest.predict(x),y)"
   ]
  },
  {
   "cell_type": "code",
   "execution_count": null,
   "id": "contemporary-dodge",
   "metadata": {},
   "outputs": [],
   "source": []
  }
 ],
 "metadata": {
  "kernelspec": {
   "display_name": "Python 3",
   "language": "python",
   "name": "python3"
  },
  "language_info": {
   "codemirror_mode": {
    "name": "ipython",
    "version": 3
   },
   "file_extension": ".py",
   "mimetype": "text/x-python",
   "name": "python",
   "nbconvert_exporter": "python",
   "pygments_lexer": "ipython3",
   "version": "3.8.8"
  }
 },
 "nbformat": 4,
 "nbformat_minor": 5
}
