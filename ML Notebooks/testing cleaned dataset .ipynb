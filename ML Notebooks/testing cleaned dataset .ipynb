{
 "cells": [
  {
   "cell_type": "code",
   "execution_count": 17,
   "id": "accurate-activity",
   "metadata": {},
   "outputs": [],
   "source": [
    "import pandas as pd\n",
    "import numpy as np\n",
    "import matplotlib.pyplot as plt\n",
    "import seaborn as sns\n",
    "import os\n",
    "import threading\n",
    "import random\n",
    "import pickle \n",
    "import json\n",
    "from sklearn.model_selection import train_test_split\n",
    "from sklearn.preprocessing import OrdinalEncoder\n",
    "from sklearn.ensemble import RandomForestClassifier"
   ]
  },
  {
   "cell_type": "code",
   "execution_count": 12,
   "id": "perfect-indonesian",
   "metadata": {},
   "outputs": [],
   "source": [
    "data = pd.read_csv('Clened_data.csv')\n",
    "obj_cols = [i for i in data.columns if data[i].dtype == 'object']\n",
    "\n",
    "\n",
    "enc = OrdinalEncoder()\n",
    "enc.fit(data[obj_cols])\n",
    "\n",
    "data[obj_cols] = enc.fit_transform(data[obj_cols])"
   ]
  },
  {
   "cell_type": "code",
   "execution_count": 18,
   "id": "mathematical-landscape",
   "metadata": {},
   "outputs": [],
   "source": [
    "with open('label_encoder.pickle','wb') as file:\n",
    "    pickle.dump(enc,file)\n",
    "    file.close()"
   ]
  },
  {
   "cell_type": "code",
   "execution_count": 13,
   "id": "coastal-publisher",
   "metadata": {},
   "outputs": [],
   "source": [
    "x = data.drop('loan_status',axis=1)\n",
    "y = data.loan_status\n",
    "\n",
    "\n",
    "\n",
    "x_train,x_test,y_train,y_test = train_test_split(x,y)\n",
    "\n",
    "\n"
   ]
  },
  {
   "cell_type": "code",
   "execution_count": 14,
   "id": "focused-opinion",
   "metadata": {},
   "outputs": [
    {
     "data": {
      "text/plain": [
       "RandomForestClassifier()"
      ]
     },
     "execution_count": 14,
     "metadata": {},
     "output_type": "execute_result"
    }
   ],
   "source": [
    "\n",
    "\n",
    "forest  = RandomForestClassifier(n_estimators = 100)\n",
    "\n",
    "forest.fit(x_train,y_train)\n"
   ]
  },
  {
   "cell_type": "code",
   "execution_count": 15,
   "id": "minor-mileage",
   "metadata": {},
   "outputs": [
    {
     "data": {
      "text/plain": [
       "0.8881502476933816"
      ]
     },
     "execution_count": 15,
     "metadata": {},
     "output_type": "execute_result"
    }
   ],
   "source": [
    "from sklearn.metrics import f1_score\n",
    "\n",
    "f1_score(forest.predict(x_test),y_test)"
   ]
  }
 ],
 "metadata": {
  "kernelspec": {
   "display_name": "Python 3",
   "language": "python",
   "name": "python3"
  },
  "language_info": {
   "codemirror_mode": {
    "name": "ipython",
    "version": 3
   },
   "file_extension": ".py",
   "mimetype": "text/x-python",
   "name": "python",
   "nbconvert_exporter": "python",
   "pygments_lexer": "ipython3",
   "version": "3.8.8"
  }
 },
 "nbformat": 4,
 "nbformat_minor": 5
}
