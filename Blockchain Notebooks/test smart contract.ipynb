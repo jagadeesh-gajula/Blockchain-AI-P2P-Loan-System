{
 "cells": [
  {
   "cell_type": "code",
   "execution_count": 11,
   "id": "outside-destruction",
   "metadata": {},
   "outputs": [],
   "source": [
    "from web3 import Web3\n",
    "web3 = Web3(Web3.HTTPProvider(\"http://127.0.0.1:7545\"))"
   ]
  },
  {
   "cell_type": "code",
   "execution_count": 9,
   "id": "happy-forest",
   "metadata": {},
   "outputs": [],
   "source": [
    "ABI = '''[\n",
    "\t{\n",
    "\t\t\"inputs\": [\n",
    "\t\t\t{\n",
    "\t\t\t\t\"internalType\": \"uint256\",\n",
    "\t\t\t\t\"name\": \"\",\n",
    "\t\t\t\t\"type\": \"uint256\"\n",
    "\t\t\t},\n",
    "\t\t\t{\n",
    "\t\t\t\t\"internalType\": \"uint256\",\n",
    "\t\t\t\t\"name\": \"\",\n",
    "\t\t\t\t\"type\": \"uint256\"\n",
    "\t\t\t}\n",
    "\t\t],\n",
    "\t\t\"name\": \"array_type\",\n",
    "\t\t\"outputs\": [\n",
    "\t\t\t{\n",
    "\t\t\t\t\"internalType\": \"int256\",\n",
    "\t\t\t\t\"name\": \"\",\n",
    "\t\t\t\t\"type\": \"int256\"\n",
    "\t\t\t}\n",
    "\t\t],\n",
    "\t\t\"stateMutability\": \"view\",\n",
    "\t\t\"type\": \"function\"\n",
    "\t},\n",
    "\t{\n",
    "\t\t\"inputs\": [],\n",
    "\t\t\"name\": \"bytes_data\",\n",
    "\t\t\"outputs\": [\n",
    "\t\t\t{\n",
    "\t\t\t\t\"internalType\": \"bytes1\",\n",
    "\t\t\t\t\"name\": \"\",\n",
    "\t\t\t\t\"type\": \"bytes1\"\n",
    "\t\t\t}\n",
    "\t\t],\n",
    "\t\t\"stateMutability\": \"view\",\n",
    "\t\t\"type\": \"function\"\n",
    "\t},\n",
    "\t{\n",
    "\t\t\"inputs\": [\n",
    "\t\t\t{\n",
    "\t\t\t\t\"internalType\": \"uint256\",\n",
    "\t\t\t\t\"name\": \"\",\n",
    "\t\t\t\t\"type\": \"uint256\"\n",
    "\t\t\t}\n",
    "\t\t],\n",
    "\t\t\"name\": \"dynamic_array\",\n",
    "\t\t\"outputs\": [\n",
    "\t\t\t{\n",
    "\t\t\t\t\"internalType\": \"int256\",\n",
    "\t\t\t\t\"name\": \"\",\n",
    "\t\t\t\t\"type\": \"int256\"\n",
    "\t\t\t}\n",
    "\t\t],\n",
    "\t\t\"stateMutability\": \"view\",\n",
    "\t\t\"type\": \"function\"\n",
    "\t},\n",
    "\t{\n",
    "\t\t\"inputs\": [],\n",
    "\t\t\"name\": \"hello\",\n",
    "\t\t\"outputs\": [\n",
    "\t\t\t{\n",
    "\t\t\t\t\"internalType\": \"string\",\n",
    "\t\t\t\t\"name\": \"\",\n",
    "\t\t\t\t\"type\": \"string\"\n",
    "\t\t\t}\n",
    "\t\t],\n",
    "\t\t\"stateMutability\": \"view\",\n",
    "\t\t\"type\": \"function\"\n",
    "\t},\n",
    "\t{\n",
    "\t\t\"inputs\": [],\n",
    "\t\t\"name\": \"hi\",\n",
    "\t\t\"outputs\": [\n",
    "\t\t\t{\n",
    "\t\t\t\t\"internalType\": \"int256\",\n",
    "\t\t\t\t\"name\": \"\",\n",
    "\t\t\t\t\"type\": \"int256\"\n",
    "\t\t\t}\n",
    "\t\t],\n",
    "\t\t\"stateMutability\": \"view\",\n",
    "\t\t\"type\": \"function\"\n",
    "\t},\n",
    "\t{\n",
    "\t\t\"inputs\": [],\n",
    "\t\t\"name\": \"is_true\",\n",
    "\t\t\"outputs\": [\n",
    "\t\t\t{\n",
    "\t\t\t\t\"internalType\": \"bool\",\n",
    "\t\t\t\t\"name\": \"\",\n",
    "\t\t\t\t\"type\": \"bool\"\n",
    "\t\t\t}\n",
    "\t\t],\n",
    "\t\t\"stateMutability\": \"view\",\n",
    "\t\t\"type\": \"function\"\n",
    "\t},\n",
    "\t{\n",
    "\t\t\"inputs\": [],\n",
    "\t\t\"name\": \"owner\",\n",
    "\t\t\"outputs\": [\n",
    "\t\t\t{\n",
    "\t\t\t\t\"internalType\": \"address\",\n",
    "\t\t\t\t\"name\": \"\",\n",
    "\t\t\t\t\"type\": \"address\"\n",
    "\t\t\t}\n",
    "\t\t],\n",
    "\t\t\"stateMutability\": \"view\",\n",
    "\t\t\"type\": \"function\"\n",
    "\t},\n",
    "\t{\n",
    "\t\t\"inputs\": [],\n",
    "\t\t\"name\": \"unsigned_int\",\n",
    "\t\t\"outputs\": [\n",
    "\t\t\t{\n",
    "\t\t\t\t\"internalType\": \"uint256\",\n",
    "\t\t\t\t\"name\": \"\",\n",
    "\t\t\t\t\"type\": \"uint256\"\n",
    "\t\t\t}\n",
    "\t\t],\n",
    "\t\t\"stateMutability\": \"view\",\n",
    "\t\t\"type\": \"function\"\n",
    "\t}\n",
    "]'''\n",
    "\n",
    "BYTECODE =\"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\""
   ]
  },
  {
   "cell_type": "code",
   "execution_count": 15,
   "id": "widespread-dylan",
   "metadata": {},
   "outputs": [],
   "source": [
    "mycontract = web3.eth.contract(abi=ABI,bytecode=BYTECODE)\n",
    "web3.eth.default_account = web3.eth.accounts[0]"
   ]
  },
  {
   "cell_type": "code",
   "execution_count": 32,
   "id": "lyric-romance",
   "metadata": {},
   "outputs": [],
   "source": [
    "constructed = mycontract.constructor()\n",
    "tx = constructed.buildTransaction({\n",
    "    'from': web3.eth.default_account,\n",
    "    'nonce': w3.eth.getTransactionCount(web3.eth.default_account),\n",
    "})\n",
    "\n",
    "private_key=\"a56d65265ebdd0225a6369ed1be08f91bc465b2411f331ab9fa7ad60508921df\"\n",
    "signed_txn = w3.eth.account.sign_transaction(tx, private_key=private_key)\n",
    "\n",
    "tx_hash = web3.eth.sendRawTransaction(signed_txn.rawTransaction)\n",
    "\n",
    "\n",
    "tx_receipt = web3.eth.waitForTransactionReceipt(tx_hash)"
   ]
  },
  {
   "cell_type": "code",
   "execution_count": 33,
   "id": "wanted-sector",
   "metadata": {},
   "outputs": [
    {
     "data": {
      "text/plain": [
       "AttributeDict({'transactionHash': HexBytes('0x113ada28d9317be6aee33c37ac15a721f32ae2b92ab085ea2a31868dd67db23a'),\n",
       " 'transactionIndex': 0,\n",
       " 'blockHash': HexBytes('0x5df44fc02815f4d3b079fd78153e16a1f56081518faf3ce3e3553d1b9ab98de4'),\n",
       " 'blockNumber': 194,\n",
       " 'from': '0x375BC5cbff2aEa2760c4Bbc527641111D89Ca6BD',\n",
       " 'to': None,\n",
       " 'gasUsed': 410925,\n",
       " 'cumulativeGasUsed': 410925,\n",
       " 'contractAddress': '0x523aBCF97B98B99554a35B1C39D3EB1Faf1E8109',\n",
       " 'logs': [],\n",
       " 'status': 1,\n",
       " 'logsBloom': HexBytes('0x00000000000000000000000000000000000000000000000000000000000000000000000000000000000000000000000000000000000000000000000000000000000000000000000000000000000000000000000000000000000000000000000000000000000000000000000000000000000000000000000000000000000000000000000000000000000000000000000000000000000000000000000000000000000000000000000000000000000000000000000000000000000000000000000000000000000000000000000000000000000000000000000000000000000000000000000000000000000000000000000000000000000000000000000000000000')})"
      ]
     },
     "execution_count": 33,
     "metadata": {},
     "output_type": "execute_result"
    }
   ],
   "source": [
    "tx_receipt"
   ]
  },
  {
   "cell_type": "code",
   "execution_count": 34,
   "id": "possible-supplement",
   "metadata": {},
   "outputs": [
    {
     "data": {
      "text/plain": [
       "'C:\\\\Users\\\\vicky\\\\Contacts'"
      ]
     },
     "execution_count": 34,
     "metadata": {},
     "output_type": "execute_result"
    }
   ],
   "source": [
    "import os \n",
    "\n",
    "os.getcwd()"
   ]
  }
 ],
 "metadata": {
  "kernelspec": {
   "display_name": "Python 3",
   "language": "python",
   "name": "python3"
  },
  "language_info": {
   "codemirror_mode": {
    "name": "ipython",
    "version": 3
   },
   "file_extension": ".py",
   "mimetype": "text/x-python",
   "name": "python",
   "nbconvert_exporter": "python",
   "pygments_lexer": "ipython3",
   "version": "3.8.8"
  }
 },
 "nbformat": 4,
 "nbformat_minor": 5
}
